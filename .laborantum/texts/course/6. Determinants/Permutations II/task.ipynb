{
    "cells": [
        {
            "cell_type": "markdown",
            "metadata": {},
            "source": [
                "# Permutations II\n",
                "\n",
                "Write a program that calculates the determinant of a matrix and all the products leading to this value using permutation formula:\n",
                "\n",
                "$$\\det A = \\sum_{\\sigma \\in P_N} \\mathrm{sign} (\\sigma) \\prod_{i=1}^N a_{\\sigma_i}$$\n",
                "\n",
                "To get the list of all possible permutations, use `itertools.permutations`.\n",
                "\n",
                "To check for the sign of a pertmutation, check lengths of all cycles in every permutation."
            ]
        },
        {
            "cell_type": "code",
            "execution_count": 1,
            "metadata": {},
            "outputs": [],
            "source": [
                "import numpy as np\n",
                "import json_tricks\n",
                "from pathlib import Path\n",
                "from itertools import permutations\n",
                "import os"
            ]
        },
        {
            "cell_type": "code",
            "execution_count": 2,
            "metadata": {},
            "outputs": [],
            "source": [
                "def permutation_sign(perm):\n",
                "    \"\"\"\n",
                "    Compute the sign of a permutation based on inversion count.\n",
                "    The sign is +1 if the permutation can be written as an even number of transpositions,\n",
                "    and -1 otherwise.\n",
                "    \"\"\"\n",
                "    inversions = 0\n",
                "    n = len(perm)\n",
                "    for i in range(n):\n",
                "        for j in range(i + 1, n):\n",
                "            if perm[i] > perm[j]:\n",
                "                inversions += 1\n",
                "    return 1 if inversions % 2 == 0 else -1\n",
                "\n",
                "def compute_determinant(matrix):\n",
                "    n = len(matrix)\n",
                "    if n == 0:\n",
                "        return {\"results\": []}\n",
                "    \n",
                "    indices = list(range(n))\n",
                "    all_perms = permutations(indices)\n",
                "    \n",
                "    determinant = 0\n",
                "    signed_products = []\n",
                "    \n",
                "    for perm in all_perms:\n",
                "        sign = permutation_sign(perm)\n",
                "        product = 1.0\n",
                "        for row in range(n):\n",
                "            product *= matrix[row][perm[row]]\n",
                "        signed_product = sign * product\n",
                "        signed_products.append(signed_product)\n",
                "        determinant += signed_product\n",
                "    \n",
                "    # Format the output as specified\n",
                "    formatted_output = {\n",
                "        \"results\": [\n",
                "            [\n",
                "                [determinant],\n",
                "                [sorted(signed_products)]\n",
                "            ]\n",
                "        ]\n",
                "    }\n",
                "    \n",
                "    return formatted_output"
            ]
        },
        {
            "cell_type": "code",
            "execution_count": 3,
            "metadata": {},
            "outputs": [
                {
                    "data": {
                        "text/plain": [
                            "'{\"results\": [[-4402.0], [-84.0], [-1098.0], [-132.0], [-8.0], [-72.0], [-1758.0], [-35.0], [4653.0], [-236.0], [101.0], [60.0], [-75.0], [-4515.0], [1728.0], [-296.0], [30.0], [-7.0], [206.0], [5.0], [-451.0], [-310.0], [-156.0], [-1.0], [5.0], [-353.0], [23.0], [14.0], [-18.0], [-516.0], [-4.0], [-18.0], [-8.0], [46992.0], [89.0], [-7.0], [-16446.0], [6.0], [66.0], [-104830.0], [537.0], [-313.0], [-5818.0], [1712.0], [16.0], [-726.0], [103.0], [1467.0], [-10.0], [16.0], [-120.0], [-115452.0], [5385.0], [-100940.0], [4187.0], [-1.0], [-47653.0], [55083.0], [26.0], [-66.0], [4479.0], [3149.0], [144138.0], [-5.0], [13410.0], [198.0], [39.0], [-5940.0], [-8.0], [-61824.0], [7.0], [4.0], [-16.0], [1.0], [2121.0], [8.0], [5.0], [-62314.0], [224.0], [968.0], [64999.0], [-134.0], [-5.0], [-8.0], [-82.0], [-129.0], [1592.0], [-9.0], [-390.0], [-93836.0], [1070.0], [-5.0], [8.0], [5.0], [-242.0], [366.0], [-48.0], [-811.0], [28.0], [8.0]]}'"
                        ]
                    },
                    "execution_count": 3,
                    "metadata": {},
                    "output_type": "execute_result"
                }
            ],
            "source": [
                "inputs = json_tricks.load('inputs/inputs.json')\n",
                "results = {'results': []}\n",
                "\n",
                "for args in inputs['inputs']:\n",
                "    det_result = compute_determinant(args['A'])\n",
                "    det = det_result[\"results\"][0][0][0]\n",
                "    results['results'].append([det])\n",
                "\n",
                "json_tricks.dump(results, '.answer.json')"
            ]
        }
    ],
    "metadata": {
        "kernelspec": {
            "display_name": "Python 3",
            "language": "python",
            "name": "python3"
        },
        "language_info": {
            "codemirror_mode": {
                "name": "ipython",
                "version": 3
            },
            "file_extension": ".py",
            "mimetype": "text/x-python",
            "name": "python",
            "nbconvert_exporter": "python",
            "pygments_lexer": "ipython3",
            "version": "3.11.13"
        }
    },
    "nbformat": 4,
    "nbformat_minor": 2
}
