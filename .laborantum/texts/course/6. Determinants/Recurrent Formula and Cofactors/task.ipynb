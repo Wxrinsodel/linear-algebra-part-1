{
    "cells": [
        {
            "cell_type": "markdown",
            "metadata": {},
            "source": [
                "# Recurrent Formula and Cofactors\n",
                "\n",
                "Find cofactor matrix first column and determinant for the matrices:\n",
                "\n",
                "1. $\n",
                "\\begin{bmatrix}\n",
                "1 & 2 & 2 & 2 \\\\\n",
                "1 & 1 & 2 & 2 \\\\\n",
                "1 & 1 & 1 & 2 \\\\\n",
                "1 & 1 & 1 & 1\n",
                "\\end{bmatrix}\n",
                "$\n",
                "\n",
                "2. $\n",
                "\\begin{bmatrix}\n",
                "1 & 2 & 3 & 4 \\\\\n",
                "1 & 1 & 2 & 3 \\\\\n",
                "1 & 1 & 1 & 2 \\\\\n",
                "1 & 1 & 1 & 1\n",
                "\\end{bmatrix}\n",
                "$\n",
                "\n"
            ]
        },
        {
            "cell_type": "code",
            "execution_count": 2,
            "metadata": {},
            "outputs": [],
            "source": [
                "import numpy as np\n",
                "import json_tricks"
            ]
        },
        {
            "cell_type": "code",
            "execution_count": null,
            "metadata": {},
            "outputs": [],
            "source": [
                "answer = {\n",
                "    'task1': {\n",
                "        'C1': np.array([\n",
                "            [1, 0, 0, -2],\n",
                "        ]).T,\n",
                "        'det': ( -1\n",
                "        )\n",
                "    },\n",
                "    'task2': {\n",
                "        'C1': np.array([\n",
                "            [1, 1, 0, 1]]),\n",
                "        'det': ( -1\n",
                "        )\n",
                "    }\n",
                "}"
            ]
        },
        {
            "cell_type": "code",
            "execution_count": 4,
            "metadata": {},
            "outputs": [
                {
                    "data": {
                        "text/plain": [
                            "'{\"task1\": {\"C1\": {\"__ndarray__\": [], \"dtype\": \"float64\", \"shape\": [0, 1], \"Corder\": true}, \"det\": []}, \"task2\": {\"C1\": {\"__ndarray__\": [[]], \"dtype\": \"float64\", \"shape\": [1, 0], \"Corder\": true}, \"det\": []}}'"
                        ]
                    },
                    "execution_count": 4,
                    "metadata": {},
                    "output_type": "execute_result"
                }
            ],
            "source": [
                "json_tricks.dump(answer, '.answer.json')"
            ]
        }
    ],
    "metadata": {
        "kernelspec": {
            "display_name": "Python 3",
            "language": "python",
            "name": "python3"
        },
        "language_info": {
            "codemirror_mode": {
                "name": "ipython",
                "version": 3
            },
            "file_extension": ".py",
            "mimetype": "text/x-python",
            "name": "python",
            "nbconvert_exporter": "python",
            "pygments_lexer": "ipython3",
            "version": "3.11.13"
        }
    },
    "nbformat": 4,
    "nbformat_minor": 2
}
