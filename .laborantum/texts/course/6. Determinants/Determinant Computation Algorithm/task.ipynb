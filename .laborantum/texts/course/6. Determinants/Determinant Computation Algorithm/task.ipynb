{
    "cells": [
        {
            "cell_type": "markdown",
            "metadata": {},
            "source": [
                "# Determinant Computation Algorithm\n",
                "\n",
                "Write a function that accepts a matrix in form of numpy array and calculates its determinant in the most efficient way (the algorithm will be tested on large matrices).\n",
                "\n",
                "Use vectorized `numpy` operations.\n",
                "\n",
                "You are allowed to use `numpy.linalg`"
            ]
        },
        {
            "cell_type": "code",
            "execution_count": 1,
            "metadata": {},
            "outputs": [],
            "source": [
                "import numpy as np\n",
                "import json_tricks\n",
                "from scipy.linalg import lu_factor, lu_solve"
            ]
        },
        {
            "cell_type": "code",
            "execution_count": null,
            "metadata": {},
            "outputs": [],
            "source": [
                "def determinant_fast(A):\n",
                "    return det, pivots"
            ]
        },
        {
            "cell_type": "code",
            "execution_count": 3,
            "metadata": {},
            "outputs": [
                {
                    "ename": "NameError",
                    "evalue": "name 'det' is not defined",
                    "output_type": "error",
                    "traceback": [
                        "\u001b[31m---------------------------------------------------------------------------\u001b[39m",
                        "\u001b[31mNameError\u001b[39m                                 Traceback (most recent call last)",
                        "\u001b[36mCell\u001b[39m\u001b[36m \u001b[39m\u001b[32mIn[3]\u001b[39m\u001b[32m, line 5\u001b[39m\n\u001b[32m      3\u001b[39m results = {\u001b[33m'\u001b[39m\u001b[33mresults\u001b[39m\u001b[33m'\u001b[39m: []}\n\u001b[32m      4\u001b[39m \u001b[38;5;28;01mfor\u001b[39;00m args \u001b[38;5;129;01min\u001b[39;00m inputs[\u001b[33m'\u001b[39m\u001b[33minputs\u001b[39m\u001b[33m'\u001b[39m]:\n\u001b[32m----> \u001b[39m\u001b[32m5\u001b[39m     res = \u001b[43mdeterminant_fast\u001b[49m\u001b[43m(\u001b[49m\u001b[43m*\u001b[49m\u001b[43m*\u001b[49m\u001b[43margs\u001b[49m\u001b[43m)\u001b[49m\n\u001b[32m      6\u001b[39m     results[\u001b[33m'\u001b[39m\u001b[33mresults\u001b[39m\u001b[33m'\u001b[39m].append(res)\n\u001b[32m      8\u001b[39m json_tricks.dump(results, \u001b[33m'\u001b[39m\u001b[33m.answer.json\u001b[39m\u001b[33m'\u001b[39m)\n",
                        "\u001b[36mCell\u001b[39m\u001b[36m \u001b[39m\u001b[32mIn[2]\u001b[39m\u001b[32m, line 2\u001b[39m, in \u001b[36mdeterminant_fast\u001b[39m\u001b[34m(A)\u001b[39m\n\u001b[32m      1\u001b[39m \u001b[38;5;28;01mdef\u001b[39;00m\u001b[38;5;250m \u001b[39m\u001b[34mdeterminant_fast\u001b[39m(A):\n\u001b[32m----> \u001b[39m\u001b[32m2\u001b[39m     \u001b[38;5;28;01mreturn\u001b[39;00m \u001b[43mdet\u001b[49m, pivots\n",
                        "\u001b[31mNameError\u001b[39m: name 'det' is not defined"
                    ]
                }
            ],
            "source": [
                "inputs = json_tricks.load('inputs/inputs.json')\n",
                "\n",
                "results = {'results': []}\n",
                "for args in inputs['inputs']:\n",
                "    res = determinant_fast(**args)\n",
                "    results['results'].append(res)\n",
                "\n",
                "json_tricks.dump(results, '.answer.json')"
            ]
        }
    ],
    "metadata": {
        "kernelspec": {
            "display_name": "Python 3",
            "language": "python",
            "name": "python3"
        },
        "language_info": {
            "codemirror_mode": {
                "name": "ipython",
                "version": 3
            },
            "file_extension": ".py",
            "mimetype": "text/x-python",
            "name": "python",
            "nbconvert_exporter": "python",
            "pygments_lexer": "ipython3",
            "version": "3.11.13"
        }
    },
    "nbformat": 4,
    "nbformat_minor": 2
}
