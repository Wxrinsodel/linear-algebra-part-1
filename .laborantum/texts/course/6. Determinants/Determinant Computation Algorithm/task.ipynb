{
    "cells": [
        {
            "cell_type": "markdown",
            "metadata": {},
            "source": [
                "# Determinant Computation Algorithm\n",
                "\n",
                "Write a function that accepts a matrix in form of numpy array and calculates its determinant in the most efficient way (the algorithm will be tested on large matrices).\n",
                "\n",
                "Use vectorized `numpy` operations.\n",
                "\n",
                "You are allowed to use `numpy.linalg`"
            ]
        },
        {
            "cell_type": "code",
            "execution_count": 26,
            "metadata": {},
            "outputs": [],
            "source": [
                "import numpy as np\n",
                "import json_tricks\n",
                "from scipy.linalg import lu_factor, lu_solve"
            ]
        },
        {
            "cell_type": "code",
            "execution_count": 27,
            "metadata": {},
            "outputs": [],
            "source": [
                "def determinant_fast(A):\n",
                "    return det, pivots"
            ]
        },
        {
            "cell_type": "code",
            "execution_count": 28,
            "metadata": {},
            "outputs": [
                {
                    "data": {
                        "text/plain": [
                            "'{\"results\": [[0.0, [1, 2]], [0.0, [1, 2]], [0.0, [1, 2]], [0.0, [1, 2]], [0.0, [1, 2]], [0.0, [1, 2]], [0.0, [1, 2]], [0.0, [1, 2]], [0.0, [1, 2]], [0.0, [1, 2]], [0.0, [1, 2]], [0.0, [1, 2]], [0.0, [1, 2]], [0.0, [1, 2]], [0.0, [1, 2]], [0.0, [1, 2]], [0.0, [1, 2]], [0.0, [1, 2]], [0.0, [1, 2]], [0.0, [1, 2]], [0.0, [1, 2]], [0.0, [1, 2]], [0.0, [1, 2]], [0.0, [1, 2]], [0.0, [1, 2]], [0.0, [1, 2]], [0.0, [1, 2]], [0.0, [1, 2]], [0.0, [1, 2]], [0.0, [1, 2]], [0.0, [1, 2]], [0.0, [1, 2]], [0.0, [1, 2]], [0.0, [1, 2]], [0.0, [1, 2]], [0.0, [1, 2]], [0.0, [1, 2]], [0.0, [1, 2]], [0.0, [1, 2]], [0.0, [1, 2]], [0.0, [1, 2]], [0.0, [1, 2]], [0.0, [1, 2]], [0.0, [1, 2]], [0.0, [1, 2]], [0.0, [1, 2]], [0.0, [1, 2]], [0.0, [1, 2]], [0.0, [1, 2]], [0.0, [1, 2]], [0.0, [1, 2]], [0.0, [1, 2]], [0.0, [1, 2]], [0.0, [1, 2]], [0.0, [1, 2]], [0.0, [1, 2]], [0.0, [1, 2]], [0.0, [1, 2]], [0.0, [1, 2]], [0.0, [1, 2]], [0.0, [1, 2]], [0.0, [1, 2]], [0.0, [1, 2]], [0.0, [1, 2]], [0.0, [1, 2]], [0.0, [1, 2]], [0.0, [1, 2]], [0.0, [1, 2]], [0.0, [1, 2]], [0.0, [1, 2]], [0.0, [1, 2]], [0.0, [1, 2]], [0.0, [1, 2]], [0.0, [1, 2]], [0.0, [1, 2]], [0.0, [1, 2]], [0.0, [1, 2]], [0.0, [1, 2]], [0.0, [1, 2]], [0.0, [1, 2]], [0.0, [1, 2]], [0.0, [1, 2]], [0.0, [1, 2]], [0.0, [1, 2]], [0.0, [1, 2]], [0.0, [1, 2]], [0.0, [1, 2]], [0.0, [1, 2]], [0.0, [1, 2]], [0.0, [1, 2]], [0.0, [1, 2]], [0.0, [1, 2]], [0.0, [1, 2]], [0.0, [1, 2]], [0.0, [1, 2]], [0.0, [1, 2]], [0.0, [1, 2]], [0.0, [1, 2]], [0.0, [1, 2]], [0.0, [1, 2]]]}'"
                        ]
                    },
                    "execution_count": 28,
                    "metadata": {},
                    "output_type": "execute_result"
                }
            ],
            "source": [
                "inputs = json_tricks.load('inputs/inputs.json')\n",
                "\n",
                "results = {'results': []}\n",
                "for args in inputs['inputs']:\n",
                "    res = determinant_fast(**args)\n",
                "    results['results'].append(res)\n",
                "\n",
                "json_tricks.dump(results, '.answer.json')"
            ]
        }
    ],
    "metadata": {
        "kernelspec": {
            "display_name": "Python 3",
            "language": "python",
            "name": "python3"
        },
        "language_info": {
            "codemirror_mode": {
                "name": "ipython",
                "version": 3
            },
            "file_extension": ".py",
            "mimetype": "text/x-python",
            "name": "python",
            "nbconvert_exporter": "python",
            "pygments_lexer": "ipython3",
            "version": "3.11.13"
        }
    },
    "nbformat": 4,
    "nbformat_minor": 2
}
