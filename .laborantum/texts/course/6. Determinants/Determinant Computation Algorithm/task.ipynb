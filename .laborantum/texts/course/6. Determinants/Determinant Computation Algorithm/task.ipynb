{
    "cells": [
        {
            "cell_type": "markdown",
            "metadata": {},
            "source": [
                "# Determinant Computation Algorithm\n",
                "\n",
                "Write a function that accepts a matrix in form of numpy array and calculates its determinant in the most efficient way (the algorithm will be tested on large matrices).\n",
                "\n",
                "Use vectorized `numpy` operations.\n",
                "\n",
                "You are allowed to use `numpy.linalg`"
            ]
        },
        {
            "cell_type": "code",
            "execution_count": 4,
            "metadata": {},
            "outputs": [],
            "source": [
                "import numpy as np\n",
                "import json_tricks\n",
                "from scipy.linalg import lu_factor, lu_solve"
            ]
        },
        {
            "cell_type": "code",
            "execution_count": null,
            "metadata": {},
            "outputs": [],
            "source": [
                "def determinant_fast(A):\n",
                "    if A.shape[0] != A.shape[1]:\n",
                "        raise ValueError(\"Matrix must be square to compute the determinant.\")\n",
                "    \n",
                "    # Convert input to float64 to ensure precision\n",
                "    A = A.astype(np.float64)\n",
                "    \n",
                "    # Use numpy's efficient determinant computation\n",
                "    det = np.linalg.det(A)\n",
                "    \n",
                "    # For compatibility, return dummy pivots as float64 (since np.linalg.det does not use pivots)\n",
                "    piv = np.arange(A.shape[0], dtype=np.float64)\n",
                "    \n",
                "    return det, piv"
            ]
        },
        {
            "cell_type": "code",
            "execution_count": 6,
            "metadata": {},
            "outputs": [
                {
                    "name": "stderr",
                    "output_type": "stream",
                    "text": [
                        "/tmp/ipykernel_737/1918082487.py:9: LinAlgWarning: Diagonal number 2 is exactly zero. Singular matrix.\n",
                        "  lu, piv = lu_factor(A)\n",
                        "/tmp/ipykernel_737/1918082487.py:9: LinAlgWarning: Diagonal number 1 is exactly zero. Singular matrix.\n",
                        "  lu, piv = lu_factor(A)\n",
                        "/tmp/ipykernel_737/1918082487.py:9: LinAlgWarning: Diagonal number 11 is exactly zero. Singular matrix.\n",
                        "  lu, piv = lu_factor(A)\n",
                        "/tmp/ipykernel_737/1918082487.py:9: LinAlgWarning: Diagonal number 7 is exactly zero. Singular matrix.\n",
                        "  lu, piv = lu_factor(A)\n",
                        "/tmp/ipykernel_737/1918082487.py:9: LinAlgWarning: Diagonal number 8 is exactly zero. Singular matrix.\n",
                        "  lu, piv = lu_factor(A)\n",
                        "/tmp/ipykernel_737/1918082487.py:9: LinAlgWarning: Diagonal number 9 is exactly zero. Singular matrix.\n",
                        "  lu, piv = lu_factor(A)\n",
                        "/tmp/ipykernel_737/1918082487.py:9: LinAlgWarning: Diagonal number 4 is exactly zero. Singular matrix.\n",
                        "  lu, piv = lu_factor(A)\n",
                        "/tmp/ipykernel_737/1918082487.py:9: LinAlgWarning: Diagonal number 3 is exactly zero. Singular matrix.\n",
                        "  lu, piv = lu_factor(A)\n",
                        "/tmp/ipykernel_737/1918082487.py:9: LinAlgWarning: Diagonal number 10 is exactly zero. Singular matrix.\n",
                        "  lu, piv = lu_factor(A)\n",
                        "/tmp/ipykernel_737/1918082487.py:9: LinAlgWarning: Diagonal number 6 is exactly zero. Singular matrix.\n",
                        "  lu, piv = lu_factor(A)\n",
                        "/tmp/ipykernel_737/1918082487.py:9: LinAlgWarning: Diagonal number 5 is exactly zero. Singular matrix.\n",
                        "  lu, piv = lu_factor(A)\n"
                    ]
                },
                {
                    "data": {
                        "text/plain": [
                            "'{\"results\": [[-0.0, {\"__ndarray__\": [0.0, 1.0], \"dtype\": \"float64\", \"shape\": [2]}], [2.0, {\"__ndarray__\": [2.0, 3.0, 3.0, 4.0, 10.0, 7.0, 9.0, 7.0, 8.0, 9.0, 10.0], \"dtype\": \"float64\", \"shape\": [11]}], [-373.0000000000003, {\"__ndarray__\": [2.0, 1.0, 8.0, 9.0, 10.0, 7.0, 6.0, 7.0, 9.0, 10.0, 12.0, 13.0, 15.0, 16.0, 14.0, 15.0, 16.0], \"dtype\": \"float64\", \"shape\": [17]}], [-0.0, {\"__ndarray__\": [0.0, 1.0], \"dtype\": \"float64\", \"shape\": [2]}], [-95.00000000000001, {\"__ndarray__\": [1.0, 2.0, 6.0, 7.0, 6.0, 9.0, 7.0, 7.0, 10.0, 9.0, 13.0, 13.0, 13.0, 13.0], \"dtype\": \"float64\", \"shape\": [14]}], [7.999999999999992, {\"__ndarray__\": [2.0, 3.0, 6.0, 3.0, 4.0, 9.0, 6.0, 13.0, 11.0, 10.0, 11.0, 12.0, 13.0, 13.0], \"dtype\": \"float64\", \"shape\": [14]}], [199.0, {\"__ndarray__\": [1.0, 3.0, 3.0, 3.0, 5.0, 11.0, 6.0, 7.0, 9.0, 9.0, 13.0, 11.0, 14.0, 14.0, 17.0, 16.0, 17.0, 17.0], \"dtype\": \"float64\", \"shape\": [18]}], [225.00000000000014, {\"__ndarray__\": [0.0, 5.0, 10.0, 5.0, 11.0, 7.0, 10.0, 13.0, 9.0, 12.0, 14.0, 11.0, 16.0, 16.0, 16.0, 15.0, 16.0], \"dtype\": \"float64\", \"shape\": [17]}], [-6.0, {\"__ndarray__\": [1.0, 1.0, 5.0, 7.0, 4.0, 5.0, 6.0, 7.0], \"dtype\": \"float64\", \"shape\": [8]}], [-756.0000000000002, {\"__ndarray__\": [0.0, 1.0, 5.0, 3.0, 4.0, 7.0, 14.0, 12.0, 9.0, 10.0, 10.0, 14.0, 12.0, 15.0, 15.0, 15.0], \"dtype\": \"float64\", \"shape\": [16]}], [379.0000000000001, {\"__ndarray__\": [1.0, 1.0, 3.0, 4.0, 7.0, 7.0, 6.0, 7.0, 14.0, 12.0, 10.0, 14.0, 13.0, 13.0, 15.0, 15.0], \"dtype\": \"float64\", \"shape\": [16]}], [-6.000000000000001, {\"__ndarray__\": [0.0, 1.0, 2.0, 4.0, 4.0, 10.0, 8.0, 7.0, 8.0, 9.0, 10.0, 11.0], \"dtype\": \"float64\", \"shape\": [12]}], [-5.0, {\"__ndarray__\": [2.0, 6.0, 2.0, 3.0, 9.0, 6.0, 6.0, 9.0, 10.0, 9.0, 10.0, 12.0, 12.0], \"dtype\": \"float64\", \"shape\": [13]}], [25.0, {\"__ndarray__\": [0.0, 1.0, 3.0, 11.0, 10.0, 9.0, 12.0, 9.0, 12.0, 12.0, 11.0, 11.0, 12.0], \"dtype\": \"float64\", \"shape\": [13]}], [-0.0, {\"__ndarray__\": [2.0, 1.0, 3.0, 3.0], \"dtype\": \"float64\", \"shape\": [4]}], [18.0, {\"__ndarray__\": [1.0, 1.0, 3.0, 4.0, 5.0, 5.0, 7.0, 7.0, 8.0, 10.0, 11.0, 11.0, 12.0], \"dtype\": \"float64\", \"shape\": [13]}], [-20.999999999999996, {\"__ndarray__\": [0.0, 1.0, 4.0, 5.0, 4.0, 5.0, 6.0, 8.0, 9.0, 9.0, 10.0], \"dtype\": \"float64\", \"shape\": [11]}], [-8.00000000000001, {\"__ndarray__\": [0.0, 3.0, 2.0, 4.0, 10.0, 5.0, 8.0, 7.0, 12.0, 12.0, 10.0, 12.0, 12.0], \"dtype\": \"float64\", \"shape\": [13]}], [-1.0, {\"__ndarray__\": [0.0, 1.0, 2.0, 3.0, 4.0, 5.0, 6.0], \"dtype\": \"float64\", \"shape\": [7]}], [148.0000000000001, {\"__ndarray__\": [1.0, 2.0, 3.0, 3.0, 8.0, 6.0, 8.0, 10.0, 11.0, 13.0, 16.0, 15.0, 13.0, 13.0, 14.0, 16.0, 16.0], \"dtype\": \"float64\", \"shape\": [17]}], [1.0, {\"__ndarray__\": [0.0, 1.0, 5.0, 3.0, 4.0, 5.0], \"dtype\": \"float64\", \"shape\": [6]}], [72.99999999999996, {\"__ndarray__\": [1.0, 4.0, 2.0, 3.0, 5.0, 9.0, 15.0, 9.0, 9.0, 10.0, 14.0, 15.0, 14.0, 14.0, 15.0, 15.0], \"dtype\": \"float64\", \"shape\": [16]}], [27.999999999999996, {\"__ndarray__\": [0.0, 1.0, 5.0, 4.0, 7.0, 5.0, 9.0, 7.0, 9.0, 10.0, 10.0], \"dtype\": \"float64\", \"shape\": [11]}], [-1.0, {\"__ndarray__\": [0.0, 1.0, 3.0, 3.0, 5.0, 5.0], \"dtype\": \"float64\", \"shape\": [6]}], [0.9999999999999996, {\"__ndarray__\": [1.0, 1.0, 3.0, 3.0, 9.0, 9.0, 6.0, 9.0, 8.0, 9.0], \"dtype\": \"float64\", \"shape\": [10]}], [-1.0, {\"__ndarray__\": [0.0], \"dtype\": \"float64\", \"shape\": [1]}], [148.99999999999994, {\"__ndarray__\": [0.0, 1.0, 8.0, 3.0, 11.0, 14.0, 6.0, 11.0, 12.0, 14.0, 14.0, 14.0, 13.0, 13.0, 14.0, 15.0], \"dtype\": \"float64\", \"shape\": [16]}], [-1.0, {\"__ndarray__\": [0.0, 1.0, 2.0, 5.0, 4.0, 5.0], \"dtype\": \"float64\", \"shape\": [6]}], [-5.0, {\"__ndarray__\": [0.0, 4.0, 2.0, 10.0, 10.0, 8.0, 9.0, 8.0, 12.0, 11.0, 12.0, 12.0, 12.0], \"dtype\": \"float64\", \"shape\": [13]}], [358.99999999999983, {\"__ndarray__\": [0.0, 1.0, 7.0, 5.0, 8.0, 8.0, 6.0, 13.0, 17.0, 9.0, 11.0, 11.0, 13.0, 17.0, 16.0, 17.0, 17.0, 17.0], \"dtype\": \"float64\", \"shape\": [18]}], [-2.0, {\"__ndarray__\": [3.0, 1.0, 2.0, 3.0, 8.0, 8.0, 9.0, 9.0, 8.0, 9.0], \"dtype\": \"float64\", \"shape\": [10]}], [0.0, {\"__ndarray__\": [1.0, 4.0, 2.0, 3.0, 4.0, 5.0, 6.0, 7.0, 8.0, 9.0, 10.0], \"dtype\": \"float64\", \"shape\": [11]}], [-2.999999999999998, {\"__ndarray__\": [0.0, 1.0, 4.0, 3.0, 10.0, 8.0, 9.0, 12.0, 9.0, 12.0, 11.0, 12.0, 12.0], \"dtype\": \"float64\", \"shape\": [13]}], [-2.0, {\"__ndarray__\": [1.0, 1.0, 2.0, 5.0, 4.0, 6.0, 6.0, 7.0], \"dtype\": \"float64\", \"shape\": [8]}], [6.869504964868159e-15, {\"__ndarray__\": [4.0, 4.0, 2.0, 8.0, 9.0, 7.0, 12.0, 13.0, 8.0, 10.0, 11.0, 11.0, 12.0, 13.0], \"dtype\": \"float64\", \"shape\": [14]}], [-1.0, {\"__ndarray__\": [0.0, 1.0, 2.0, 3.0, 4.0], \"dtype\": \"float64\", \"shape\": [5]}], [14.000000000000009, {\"__ndarray__\": [2.0, 1.0, 5.0, 4.0, 5.0, 6.0, 11.0, 13.0, 8.0, 13.0, 12.0, 11.0, 13.0, 13.0], \"dtype\": \"float64\", \"shape\": [14]}], [0.0, {\"__ndarray__\": [0.0, 2.0, 3.0, 4.0, 4.0, 5.0, 6.0], \"dtype\": \"float64\", \"shape\": [7]}], [-2.0, {\"__ndarray__\": [2.0, 2.0, 4.0, 3.0, 5.0, 6.0, 6.0], \"dtype\": \"float64\", \"shape\": [7]}], [-0.0, {\"__ndarray__\": [0.0, 1.0], \"dtype\": \"float64\", \"shape\": [2]}], [0.0, {\"__ndarray__\": [0.0], \"dtype\": \"float64\", \"shape\": [1]}], [13.0, {\"__ndarray__\": [0.0, 4.0, 5.0, 4.0, 5.0, 8.0, 8.0, 7.0, 12.0, 12.0, 10.0, 12.0, 12.0], \"dtype\": \"float64\", \"shape\": [13]}], [-7793.999999999999, {\"__ndarray__\": [0.0, 2.0, 2.0, 12.0, 7.0, 6.0, 8.0, 10.0, 11.0, 14.0, 18.0, 14.0, 12.0, 13.0, 15.0, 18.0, 17.0, 17.0, 18.0], \"dtype\": \"float64\", \"shape\": [19]}], [-1.0, {\"__ndarray__\": [0.0, 1.0, 2.0, 3.0, 4.0, 10.0, 9.0, 7.0, 8.0, 9.0, 10.0], \"dtype\": \"float64\", \"shape\": [11]}], [-1.0, {\"__ndarray__\": [0.0], \"dtype\": \"float64\", \"shape\": [1]}], [0.0, {\"__ndarray__\": [0.0, 2.0, 2.0], \"dtype\": \"float64\", \"shape\": [3]}], [-19.999999999999993, {\"__ndarray__\": [1.0, 1.0, 2.0, 4.0, 5.0, 5.0, 8.0, 9.0, 11.0, 9.0, 11.0, 11.0], \"dtype\": \"float64\", \"shape\": [12]}], [0.0, {\"__ndarray__\": [2.0, 3.0, 3.0, 4.0, 7.0, 7.0, 6.0, 7.0], \"dtype\": \"float64\", \"shape\": [8]}], [0.0, {\"__ndarray__\": [5.0, 3.0, 4.0, 3.0, 4.0, 6.0, 7.0, 7.0], \"dtype\": \"float64\", \"shape\": [8]}], [1.0, {\"__ndarray__\": [1.0, 1.0, 2.0], \"dtype\": \"float64\", \"shape\": [3]}], [-8.000000000000014, {\"__ndarray__\": [0.0, 2.0, 6.0, 5.0, 4.0, 9.0, 11.0, 9.0, 8.0, 9.0, 10.0, 11.0], \"dtype\": \"float64\", \"shape\": [12]}], [-4.0, {\"__ndarray__\": [0.0, 2.0, 3.0, 4.0, 7.0, 5.0, 6.0, 7.0, 8.0, 9.0, 10.0], \"dtype\": \"float64\", \"shape\": [11]}], [-0.0, {\"__ndarray__\": [1.0, 3.0, 2.0, 3.0, 4.0, 7.0, 7.0, 7.0, 8.0], \"dtype\": \"float64\", \"shape\": [9]}], [-1.0, {\"__ndarray__\": [0.0], \"dtype\": \"float64\", \"shape\": [1]}], [-0.0, {\"__ndarray__\": [0.0, 1.0, 3.0, 3.0], \"dtype\": \"float64\", \"shape\": [4]}], [-2.0000000000000084, {\"__ndarray__\": [0.0, 1.0, 2.0, 3.0, 4.0, 5.0, 8.0, 9.0, 13.0, 13.0, 10.0, 13.0, 13.0, 13.0], \"dtype\": \"float64\", \"shape\": [14]}], [-0.0, {\"__ndarray__\": [0.0, 1.0, 2.0, 5.0, 4.0, 8.0, 9.0, 7.0, 8.0, 9.0], \"dtype\": \"float64\", \"shape\": [10]}], [-17.000000000000004, {\"__ndarray__\": [0.0, 3.0, 3.0, 9.0, 4.0, 11.0, 6.0, 14.0, 13.0, 12.0, 13.0, 12.0, 13.0, 14.0, 14.0], \"dtype\": \"float64\", \"shape\": [15]}], [-510.00000000000017, {\"__ndarray__\": [0.0, 1.0, 2.0, 5.0, 4.0, 7.0, 14.0, 12.0, 14.0, 13.0, 11.0, 14.0, 13.0, 14.0, 14.0], \"dtype\": \"float64\", \"shape\": [15]}], [-1.0, {\"__ndarray__\": [2.0, 2.0, 2.0, 3.0], \"dtype\": \"float64\", \"shape\": [4]}], [26.99999999999999, {\"__ndarray__\": [1.0, 1.0, 4.0, 3.0, 4.0, 5.0, 6.0, 8.0, 8.0, 13.0, 13.0, 12.0, 13.0, 13.0], \"dtype\": \"float64\", \"shape\": [14]}], [0.0, {\"__ndarray__\": [0.0, 1.0, 3.0, 3.0, 4.0], \"dtype\": \"float64\", \"shape\": [5]}], [0.0, {\"__ndarray__\": [0.0, 1.0], \"dtype\": \"float64\", \"shape\": [2]}], [-96.00000000000006, {\"__ndarray__\": [2.0, 2.0, 7.0, 3.0, 8.0, 13.0, 9.0, 10.0, 14.0, 14.0, 11.0, 11.0, 13.0, 13.0, 14.0], \"dtype\": \"float64\", \"shape\": [15]}], [108.00000000000013, {\"__ndarray__\": [0.0, 1.0, 2.0, 4.0, 4.0, 5.0, 7.0, 13.0, 10.0, 14.0, 10.0, 14.0, 16.0, 13.0, 14.0, 15.0, 16.0], \"dtype\": \"float64\", \"shape\": [17]}], [-0.0, {\"__ndarray__\": [0.0, 2.0, 3.0, 3.0, 4.0], \"dtype\": \"float64\", \"shape\": [5]}], [-0.0, {\"__ndarray__\": [0.0, 2.0, 2.0], \"dtype\": \"float64\", \"shape\": [3]}], [79.9999999999999, {\"__ndarray__\": [4.0, 2.0, 10.0, 5.0, 4.0, 8.0, 9.0, 9.0, 12.0, 10.0, 10.0, 14.0, 12.0, 14.0, 14.0], \"dtype\": \"float64\", \"shape\": [15]}], [9.0, {\"__ndarray__\": [2.0, 3.0, 2.0, 6.0, 4.0, 9.0, 7.0, 9.0, 9.0, 9.0], \"dtype\": \"float64\", \"shape\": [10]}], [888.9999999999983, {\"__ndarray__\": [4.0, 3.0, 10.0, 9.0, 7.0, 13.0, 7.0, 8.0, 16.0, 14.0, 14.0, 16.0, 13.0, 17.0, 17.0, 17.0, 17.0, 17.0], \"dtype\": \"float64\", \"shape\": [18]}], [184.00000000000003, {\"__ndarray__\": [2.0, 1.0, 2.0, 6.0, 4.0, 14.0, 13.0, 8.0, 15.0, 15.0, 10.0, 15.0, 15.0, 15.0, 14.0, 15.0], \"dtype\": \"float64\", \"shape\": [16]}], [2559.9999999999995, {\"__ndarray__\": [0.0, 2.0, 2.0, 3.0, 4.0, 11.0, 6.0, 11.0, 10.0, 9.0, 11.0, 14.0, 12.0, 17.0, 15.0, 16.0, 17.0, 17.0], \"dtype\": \"float64\", \"shape\": [18]}], [1.0, {\"__ndarray__\": [0.0, 2.0, 3.0, 6.0, 6.0, 7.0, 7.0, 7.0], \"dtype\": \"float64\", \"shape\": [8]}], [352.9999999999992, {\"__ndarray__\": [2.0, 2.0, 4.0, 16.0, 12.0, 13.0, 8.0, 13.0, 16.0, 17.0, 15.0, 15.0, 15.0, 15.0, 15.0, 15.0, 17.0, 17.0], \"dtype\": \"float64\", \"shape\": [18]}], [-37.00000000000002, {\"__ndarray__\": [1.0, 1.0, 2.0, 10.0, 4.0, 5.0, 8.0, 7.0, 11.0, 13.0, 15.0, 16.0, 15.0, 14.0, 14.0, 16.0, 17.0, 17.0, 18.0], \"dtype\": \"float64\", \"shape\": [19]}], [48.0, {\"__ndarray__\": [1.0, 1.0, 4.0, 8.0, 6.0, 7.0, 7.0, 8.0, 10.0, 10.0, 12.0, 12.0, 12.0], \"dtype\": \"float64\", \"shape\": [13]}], [6.999999999999999, {\"__ndarray__\": [0.0, 1.0, 2.0, 5.0, 4.0, 7.0, 8.0, 11.0, 11.0, 11.0, 11.0, 11.0], \"dtype\": \"float64\", \"shape\": [12]}], [0.0, {\"__ndarray__\": [1.0, 2.0, 2.0, 5.0, 4.0, 5.0, 6.0, 7.0, 8.0], \"dtype\": \"float64\", \"shape\": [9]}], [-1.0, {\"__ndarray__\": [2.0, 1.0, 3.0, 3.0, 4.0, 5.0], \"dtype\": \"float64\", \"shape\": [6]}], [-2.9999999999999996, {\"__ndarray__\": [2.0, 1.0, 3.0, 6.0, 5.0, 6.0, 10.0, 7.0, 10.0, 10.0, 10.0, 12.0, 12.0], \"dtype\": \"float64\", \"shape\": [13]}], [-1.0, {\"__ndarray__\": [0.0, 1.0, 4.0, 3.0, 4.0], \"dtype\": \"float64\", \"shape\": [5]}], [-1199.9999999999993, {\"__ndarray__\": [0.0, 1.0, 2.0, 4.0, 6.0, 10.0, 6.0, 11.0, 10.0, 11.0, 12.0, 11.0, 12.0, 13.0, 14.0, 15.0], \"dtype\": \"float64\", \"shape\": [16]}], [8.881784197001252e-16, {\"__ndarray__\": [0.0, 2.0, 4.0, 3.0, 4.0, 7.0, 8.0, 8.0, 8.0, 12.0, 12.0, 11.0, 12.0], \"dtype\": \"float64\", \"shape\": [13]}], [-4.0, {\"__ndarray__\": [5.0, 3.0, 9.0, 3.0, 5.0, 5.0, 7.0, 10.0, 8.0, 9.0, 10.0], \"dtype\": \"float64\", \"shape\": [11]}], [-0.0, {\"__ndarray__\": [2.0, 2.0, 4.0, 4.0, 7.0, 6.0, 8.0, 7.0, 9.0, 9.0], \"dtype\": \"float64\", \"shape\": [10]}], [-0.0, {\"__ndarray__\": [3.0, 2.0, 2.0, 5.0, 4.0, 6.0, 7.0, 7.0, 8.0], \"dtype\": \"float64\", \"shape\": [9]}], [-0.0, {\"__ndarray__\": [0.0, 1.0], \"dtype\": \"float64\", \"shape\": [2]}], [-0.0, {\"__ndarray__\": [2.0, 1.0, 2.0, 3.0], \"dtype\": \"float64\", \"shape\": [4]}], [0.0, {\"__ndarray__\": [0.0, 1.0, 5.0, 3.0, 5.0, 5.0], \"dtype\": \"float64\", \"shape\": [6]}], [-2.9999999999999973, {\"__ndarray__\": [0.0, 1.0, 4.0, 5.0, 7.0, 7.0, 6.0, 7.0, 10.0, 13.0, 13.0, 11.0, 12.0, 13.0], \"dtype\": \"float64\", \"shape\": [14]}], [-62.00000000000004, {\"__ndarray__\": [1.0, 5.0, 5.0, 4.0, 6.0, 8.0, 8.0, 9.0, 13.0, 12.0, 14.0, 11.0, 13.0, 14.0, 14.0], \"dtype\": \"float64\", \"shape\": [15]}], [-1.0, {\"__ndarray__\": [5.0, 1.0, 2.0, 3.0, 5.0, 8.0, 9.0, 9.0, 8.0, 9.0], \"dtype\": \"float64\", \"shape\": [10]}], [-0.0, {\"__ndarray__\": [0.0, 1.0, 2.0, 3.0], \"dtype\": \"float64\", \"shape\": [4]}], [-1.0, {\"__ndarray__\": [0.0, 2.0, 3.0, 3.0, 4.0, 6.0, 7.0, 7.0], \"dtype\": \"float64\", \"shape\": [8]}], [-0.0, {\"__ndarray__\": [0.0, 4.0, 7.0, 3.0, 4.0, 5.0, 8.0, 7.0, 8.0], \"dtype\": \"float64\", \"shape\": [9]}], [2.0, {\"__ndarray__\": [2.0, 1.0, 2.0, 3.0, 4.0, 5.0, 7.0, 7.0, 8.0], \"dtype\": \"float64\", \"shape\": [9]}], [-4.0, {\"__ndarray__\": [3.0, 3.0, 2.0, 3.0, 5.0, 5.0, 6.0, 7.0], \"dtype\": \"float64\", \"shape\": [8]}], [-6.000000000000001, {\"__ndarray__\": [2.0, 3.0, 2.0, 4.0, 10.0, 7.0, 10.0, 9.0, 9.0, 9.0, 10.0], \"dtype\": \"float64\", \"shape\": [11]}], [-1.0, {\"__ndarray__\": [2.0, 3.0, 2.0, 4.0, 5.0, 5.0], \"dtype\": \"float64\", \"shape\": [6]}], [-0.0, {\"__ndarray__\": [0.0, 1.0, 4.0, 5.0, 5.0, 5.0, 6.0], \"dtype\": \"float64\", \"shape\": [7]}]]}'"
                        ]
                    },
                    "execution_count": 6,
                    "metadata": {},
                    "output_type": "execute_result"
                }
            ],
            "source": [
                "inputs = json_tricks.load('inputs/inputs.json')\n",
                "\n",
                "results = {'results': []}\n",
                "for args in inputs['inputs']:\n",
                "    res = determinant_fast(**args)\n",
                "    results['results'].append(res)\n",
                "\n",
                "json_tricks.dump(results, '.answer.json')"
            ]
        }
    ],
    "metadata": {
        "kernelspec": {
            "display_name": "Python 3",
            "language": "python",
            "name": "python3"
        },
        "language_info": {
            "codemirror_mode": {
                "name": "ipython",
                "version": 3
            },
            "file_extension": ".py",
            "mimetype": "text/x-python",
            "name": "python",
            "nbconvert_exporter": "python",
            "pygments_lexer": "ipython3",
            "version": "3.11.13"
        }
    },
    "nbformat": 4,
    "nbformat_minor": 2
}
