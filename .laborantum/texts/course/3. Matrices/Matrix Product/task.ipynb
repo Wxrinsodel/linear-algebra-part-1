{
    "cells": [
        {
            "cell_type": "code",
            "execution_count": 132,
            "id": "acceacb5",
            "metadata": {},
            "outputs": [],
            "source": [
                "import numpy as np\n",
                "import json_tricks\n",
                "\n",
                "answer = {}\n",
                "\n",
                "\n",
                "inputs = json_tricks.load('inputs.json')\n"
            ]
        },
        {
            "cell_type": "markdown",
            "id": "2a65a805",
            "metadata": {},
            "source": [
                "# Matrix Product II\n",
                "\n",
                "$$A_{5 \\times 10} \\  B_{10 \\times 2}\\ C_{2 \\times 30}\\ D_{30 \\times 3}\\ E_{3 \\times 9}$$\n",
                "\n",
                "1. What will be the shape of the resulting matrix?\n",
                "2. How many multiplication of numbers are required at best?"
            ]
        },
        {
            "cell_type": "code",
            "execution_count": 133,
            "id": "70ec671d",
            "metadata": {},
            "outputs": [],
            "source": [
                "answer['task1'] = {\n",
                "    '1': [5, 9],\n",
                "    '2': 424\n",
                "}\n"
            ]
        },
        {
            "cell_type": "markdown",
            "id": "846c911d",
            "metadata": {},
            "source": [
                "////SHORTNOTE////\n",
                "\n",
                "\n",
                "Where is 424 come from??\n",
                "\n",
                "\n",
                "So we use \"Matrix Chain Order\"\n",
                "\n",
                "\n",
                "The thing that he taught us in class I REMEMBERED DID'T I???? [(((AB)C)D)E]\n",
                "\n",
                "\n",
                "\n",
                "Actually we have to try a lot in this process like (((AB)C)D)E or (A(B(C(DE)))) or ((AB)((CD)E)) and so on. SO SINCERELY USE AI FOR THIS IS BEST WAY \n",
                "\n",
                "\n",
                "\n",
                "Let do for make sure I am understand\n",
                "\n",
                "\n",
                "((AB)((CD)E))\n",
                "\n",
                "\n",
                "Sol\n",
                "\n",
                " A*B = (N * M) * ( M * L) = N * M * L = 5 * 10 * 2 = 100\n",
                "\n",
                "\n",
                " C*D = (L * V) * (V * H) = L * V * H = 2 * 30 * 3 = 180\n",
                "\n",
                "\n",
                "(C*D)*E = (L * V * H ) * ( H * U ) = L * H * U = 2 * 3 * 9 = 54\n",
                "\n",
                "\n",
                "(A*B)*((C*D)*E) = (N * M * L ) * (L * V * H) * (H * U) = N * H * U = 5 * 2 * 9 = 90\n",
                "\n",
                "\n",
                "\n",
                "\n",
                "100+180+54+90 = 424\n"
            ]
        },
        {
            "cell_type": "markdown",
            "id": "a134c56f",
            "metadata": {},
            "source": [
                "# Numpy expression\n",
                "\n",
                "Using Numpy, write a function that calculates the \n",
                "following expression:\n",
                "\n",
                "$$\\exp(A^T(B + 2C) + 3I) \\mathbf x,$$\n",
                "\n",
                "where $I$ is an identity matrix of the necessary shape."
            ]
        },
        {
            "cell_type": "code",
            "execution_count": 134,
            "id": "71c02732",
            "metadata": {},
            "outputs": [],
            "source": [
                "def numpy_expression(A, B, C, x):\n",
                "    # B and C must have the same shape, but np.eye(B.shape[0]) is square and may not match\n",
                "    # Instead, add the identity after A.T @ (B + 2C)\n",
                "    inner = B + 2 * C\n",
                "    M = A.T @ inner\n",
                "    # Add 3*I where I is square of shape (M, M)\n",
                "    if M.shape[0] == M.shape[1]:\n",
                "        M_plus_I = M + 3 * np.eye(M.shape[0])\n",
                "    else:\n",
                "        # If not square, only add to the diagonal part\n",
                "        M_plus_I = M + 3 * np.eye(*M.shape)\n",
                "    expr = np.exp(M_plus_I)\n",
                "    result = expr @ x\n",
                "    return result"
            ]
        },
        {
            "cell_type": "code",
            "execution_count": 135,
            "id": "e93e082d",
            "metadata": {},
            "outputs": [],
            "source": [
                "answer['task2'] = []\n",
                "for one_input in inputs['task2']:\n",
                "    answer['task2'].append(numpy_expression(**one_input))"
            ]
        },
        {
            "cell_type": "markdown",
            "id": "2aef45b9",
            "metadata": {},
            "source": [
                "# Einstein's Rule\n",
                "\n",
                "In *Tensor Algebra*, a direct generalization of the Linear Algebra to the case of $N$-dimentional tables called *tensors* (normal matrix), the Einstein's rule exists.\n",
                "\n",
                "It works as follows: if you see a duplicating upper and lower index in the formula, that means, this index convolves.\n",
                "\n",
                "For example, the following tensor expression, summation and matrix product are equivalent:\n",
                "\n",
                "$$a_k^l b_l^m = \\sum_{l=1}^L a_k^l b_l^m = AB$$\n",
                "\n",
                "In this notation subscript means row index and superscript means column index.\n",
                "\n",
                "<details>\n",
                "<summary> Note </summary>\n",
                "\n",
                "> [!NOTE]\n",
                "> Also at some point it will be important to know that:\n",
                "> * lower index represents a contravariant dimension of a\n",
                "> tensor\n",
                "> * upper index represents a covariant dimension \n",
                "> of tensor. But let us omit this part for now.\n",
                "\n",
                "</details>\n",
                "\n",
                "# Task\n",
                "\n",
                "Calculate the following expression written using Einstein's \n",
                "rule:\n",
                "\n",
                "$$a_k^m b_m^n c_n^o d_l^k$$"
            ]
        },
        {
            "cell_type": "code",
            "execution_count": 136,
            "id": "3feb6914",
            "metadata": {},
            "outputs": [],
            "source": [
                "def einsteins_rule(A, B, C, D):\n",
                "    result = np.einsum('lk,km,mn,no->lo', D, A, B, C)\n",
                "    return result\n"
            ]
        },
        {
            "cell_type": "code",
            "execution_count": 137,
            "id": "f9cd1e7e",
            "metadata": {},
            "outputs": [],
            "source": [
                "answer['task3'] = []\n",
                "for one_input in inputs['task3']:\n",
                "    answer['task3'].append(einsteins_rule(**one_input))\n"
            ]
        },
        {
            "cell_type": "markdown",
            "id": "ad37cd42",
            "metadata": {},
            "source": [
                "# Diagonal Matrix Product\n",
                "\n",
                "You are given two square matrices: $A$ and $D$, where $A$ is a \n",
                "full matrix and $D$ is a diagonal matrix:\n",
                "\n",
                "$$\n",
                "A = \\begin{bmatrix}\n",
                "- & \\mathbf a_1 & - \\\\\n",
                "& \\vdots & \\\\\n",
                "- & \\mathbf a_N & - \\\\\n",
                "\\end{bmatrix}\n",
                "$$\n",
                "\n",
                "$$\n",
                "D = \\textrm{diag}(d_1, d_2, \\dots, d_N) = \\begin{bmatrix}\n",
                "d_1 & & & & \\\\\n",
                "& d_2 & & & \\\\\n",
                "& & d_3 & & \\\\\n",
                "& & & \\ddots & \\\\\n",
                "& & & & d_N \n",
                "\\end{bmatrix}\n",
                "$$\n",
                "\n",
                "Write a program to calculate the result of $DA$ and $AD$ in \n",
                "the fastest possible way."
            ]
        },
        {
            "cell_type": "code",
            "execution_count": 138,
            "id": "af333a41",
            "metadata": {},
            "outputs": [],
            "source": [
                "def diag_prod_DA(A, D):\n",
                "    DA = (D[:, np.newaxis]) * A\n",
                "    return DA\n",
                "\n",
                "def diag_prod_AD(A, D):\n",
                "    AD = A * D\n",
                "    \n",
                "    return AD"
            ]
        },
        {
            "cell_type": "code",
            "execution_count": 139,
            "id": "68f65717",
            "metadata": {},
            "outputs": [],
            "source": [
                "answer['task4_1'] = []\n",
                "answer['task4_2'] = []\n",
                "for one_input in inputs['task4']:\n",
                "    answer['task4_1'].append(diag_prod_DA(**one_input))\n",
                "    answer['task4_2'].append(diag_prod_AD(**one_input))"
            ]
        },
        {
            "cell_type": "markdown",
            "id": "fc7b3dc4",
            "metadata": {},
            "source": [
                "# Sparse Matrix Product\n",
                "\n",
                "You are given two matrices of the same shape: $A$ and $B$. Matrix $A$ is full\n",
                "and is given in the form of `numpy.ndarray`.\n",
                "\n",
                "The second matrix $B$ is **sparse**. That means that the \n",
                "majority of the items are equal to $0$ except for $M$. This matrix is given\n",
                "as a set of non-zero elements of this matrix in form of $3 \\times M$ `numpy.ndarray` as row-column-value tuple (COO sparse matrix form):\n",
                "\n",
                "$$\n",
                "\\begin{bmatrix}\n",
                "r_1 & c_1 & v_1 \\\\\n",
                "r_2 & c_2 & v_2 \\\\\n",
                "& \\vdots & \\\\\n",
                "r_M & c_M & v_M \\\\\n",
                "\\end{bmatrix}\n",
                "$$\n",
                "\n",
                "If in this struct two items correspond to the same location, consider the latter is correct.\n",
                "\n",
                "Write the most efficient program that calculates $AB$.\n",
                "\n",
                "Also return the ratio between the number of multiplication operations that are needed to calculate the sparse product and the number of operations for full product."
            ]
        },
        {
            "cell_type": "code",
            "execution_count": 140,
            "id": "6a439900",
            "metadata": {},
            "outputs": [],
            "source": [
                "\n",
                "def sparse_matrix_product(A, B_sparse):\n",
                "    N, K = A.shape\n",
                "    M = int(B_sparse[:, 1].max()) + 1  # number of columns in B\n",
                "\n",
                "    result = np.zeros((N, M))\n",
                "    mult_ops = 0\n",
                "\n",
                "    for r, c, v in B_sparse:\n",
                "        r = int(r)\n",
                "        c = int(c)\n",
                "        result[:, c] += v * A[:, r]\n",
                "        mult_ops += N\n",
                "\n",
                "    # Total multiplications for full product = N * K * M\n",
                "    full_ops = N * K * M\n",
                "\n",
                "    return result, mult_ops / full_ops  # return ratio\n"
            ]
        },
        {
            "cell_type": "code",
            "execution_count": 141,
            "id": "2db5922f",
            "metadata": {},
            "outputs": [],
            "source": [
                "#answer['task5'] = []\n",
                "#for one_input in inputs['task5']:\n",
                "    # sparse_matrix_product returns a tuple, so append only the result (or both if needed)\n",
                "    #result, ratio = sparse_matrix_product(**one_input)\n",
                "    #answer['task5'].append({'result': result, 'ratio': ratio})"
            ]
        },
        {
            "cell_type": "code",
            "execution_count": 142,
            "id": "08e12548",
            "metadata": {},
            "outputs": [
                {
                    "data": {
                        "text/plain": [
                            "'{\"task1\": {\"1\": [5, 9], \"2\": 424}, \"task2\": [{\"__ndarray__\": [[-8.275908938500257e+33], [-6.29718677025919e+100], [-1.6017937662626578e+88], [-77922883127.9092], [-4.601392143156699e+144], [-1.1293345702805571e+70], [-9.841761046154011e+82], [-2.6244696123077364e+83]], \"dtype\": \"float64\", \"shape\": [8, 1], \"Corder\": true}, {\"__ndarray__\": [[-8.438356668741454e+27], [1.6618358824416089e+69]], \"dtype\": \"float64\", \"shape\": [2, 1], \"Corder\": true}, {\"__ndarray__\": [[5.979883758421911e+120], [-7.668986905261165e+144], [5.316574383475204e+86], [2.5885458717800575e+171]], \"dtype\": \"float64\", \"shape\": [4, 1], \"Corder\": true}, {\"__ndarray__\": [[8.147135599799323e+109], [-5.742291049527847e+97], [1.1833245862047797e+123], [-2.2261161390770436e+233], [2.7142900080228685e+150], [-7.272132448230352e+83]], \"dtype\": \"float64\", \"shape\": [6, 1], \"Corder\": true}, {\"__ndarray__\": [[-1.964223318681796e+87], [2.4016764986906346e+156], [-491.5186855815347]], \"dtype\": \"float64\", \"shape\": [3, 1], \"Corder\": true}, {\"__ndarray__\": [[-3.712668161401315e+147], [-4.937254096286033e+192], [-3.022855330008207e+111]], \"dtype\": \"float64\", \"shape\": [3, 1], \"Corder\": true}, {\"__ndarray__\": [[-4.69932272078773e+174], [-1.8616035756440227e+68], [2.586738928269117e+16], [-1.9603834926561277e+48], [1.5362167613107995e+181], [-2.2646026426197552e+24]], \"dtype\": \"float64\", \"shape\": [6, 1], \"Corder\": true}, {\"__ndarray__\": [[3.560293163444669e+54], [-7.911224255477557e+43], [-49.91869552254452], [-0.445263343622906], [-8.33100754706446e+23], [4.2191783343705236e+27]], \"dtype\": \"float64\", \"shape\": [6, 1], \"Corder\": true}, {\"__ndarray__\": [[-9.125522571785401e-78], [-6.691673596021347e+42], [1.7283305380185678e+58], [6.88134947840883e+27], [9.144704852915045e-83]], \"dtype\": \"float64\", \"shape\": [5, 1], \"Corder\": true}, {\"__ndarray__\": [[-2.937482111710803e-29], [-4.708527339044278e+214], [-5.62262576497649e+68]], \"dtype\": \"float64\", \"shape\": [3, 1], \"Corder\": true}], \"task3\": [{\"__ndarray__\": [[48506, -8208, -2323, -42632, -37130, 6317, -346, 28727], [-39432, -2813, 12000, 37266, 28457, -28774, 9193, 1945], [23582, 15271, -19458, 2009, -13383, -23067, 821, -35268], [-6730, 8065, 3048, 19644, 13563, -5324, -3583, -17783], [29391, 8495, -22202, -25782, -12722, 2634, -21327, 2777], [23946, -12401, 10651, -18540, -39014, -14482, 20230, 24802], [-10750, 25247, -37835, -5284, 238, 1056, -32336, -24844], [-12009, -6748, 41340, 16307, 4256, 65230, -13003, 9533]], \"dtype\": \"int64\", \"shape\": [8, 8], \"Corder\": true}, {\"__ndarray__\": [[-830, 830], [-516, 516]], \"dtype\": \"int64\", \"shape\": [2, 2], \"Corder\": true}, {\"__ndarray__\": [[3737, -3005, 2001, 4167], [10260, -5360, 4416, 5317], [9164, -304, 4252, 2955], [1789, 12291, 2981, 902]], \"dtype\": \"int64\", \"shape\": [4, 4], \"Corder\": true}, {\"__ndarray__\": [[-7132, -43627, 26225, -37002, -4029, 22759], [12604, -34143, 19871, -12877, -4428, 18386], [10135, 471, 485, 7453, -882, -2864], [-7921, 25168, -14713, -6843, 10992, -8530], [-12608, 19603, -5291, 16208, -9967, -23383], [10775, -11255, 7687, 32784, -18639, -3685]], \"dtype\": \"int64\", \"shape\": [6, 6], \"Corder\": true}, {\"__ndarray__\": [[3479, -3486, -611], [387, -1143, -3015], [-524, -291, -3040]], \"dtype\": \"int64\", \"shape\": [3, 3], \"Corder\": true}, {\"__ndarray__\": [[-2968, -3136, -648], [464, 554, 585], [-5766, -4374, -11655]], \"dtype\": \"int64\", \"shape\": [3, 3], \"Corder\": true}, {\"__ndarray__\": [[21987, 10628, 21988, 9512, -14254, 2862], [13559, 16625, 46019, 18639, -26835, -4995], [29597, 15802, -13560, 17753, -23264, -24373], [-29885, -18482, -29197, -27354, 24658, 4342], [-2292, 1900, 25073, 4470, -1086, 11279], [-4760, -15348, -34937, -22981, 15002, -6600]], \"dtype\": \"int64\", \"shape\": [6, 6], \"Corder\": true}, {\"__ndarray__\": [[11503, -6754, -1815, -10766, 1149, -8275], [-7095, -8295, 10598, -18954, 23757, 4560], [12906, -4185, 13754, -19508, 27283, -5663], [-30623, -7288, -8748, 6081, -10953, 10366], [-338, -4252, -16448, 3800, -28137, -1403], [-10174, -5932, 3717, -9211, 11584, -2094]], \"dtype\": \"int64\", \"shape\": [6, 6], \"Corder\": true}, {\"__ndarray__\": [[8012, 5161, 3784, 11445, 9975], [11218, 4253, -942, 9406, -1859], [-2770, -9366, -6886, -15593, -34320], [-7052, -11803, 1615, -13682, -23176], [-9820, -10267, -8899, -19112, -24718]], \"dtype\": \"int64\", \"shape\": [5, 5], \"Corder\": true}, {\"__ndarray__\": [[942, -5394, 1617], [1870, 2822, 749], [6300, 1440, 3612]], \"dtype\": \"int64\", \"shape\": [3, 3], \"Corder\": true}], \"task4_1\": [{\"__ndarray__\": [[[-4, 0, 0, 0, 0, 0, 0, 0], [4, 0, 0, 0, 0, 0, 0, 0], [16, 0, 0, 0, 0, 0, 0, 0], [-12, 0, 0, 0, 0, 0, 0, 0], [-2, 0, 0, 0, 0, 0, 0, 0], [-12, 0, 0, 0, 0, 0, 0, 0], [2, 0, 0, 0, 0, 0, 0, 0], [2, 0, 0, 0, 0, 0, 0, 0]], [[0, 1, 0, 0, 0, 0, 0, 0], [0, -10, 0, 0, 0, 0, 0, 0], [0, -6, 0, 0, 0, 0, 0, 0], [0, 1, 0, 0, 0, 0, 0, 0], [0, -6, 0, 0, 0, 0, 0, 0], [0, 2, 0, 0, 0, 0, 0, 0], [0, 7, 0, 0, 0, 0, 0, 0], [0, -8, 0, 0, 0, 0, 0, 0]], [[0, 0, -30, 0, 0, 0, 0, 0], [0, 0, 15, 0, 0, 0, 0, 0], [0, 0, 9, 0, 0, 0, 0, 0], [0, 0, 15, 0, 0, 0, 0, 0], [0, 0, -21, 0, 0, 0, 0, 0], [0, 0, -21, 0, 0, 0, 0, 0], [0, 0, -24, 0, 0, 0, 0, 0], [0, 0, -30, 0, 0, 0, 0, 0]], [[0, 0, 0, 90, 0, 0, 0, 0], [0, 0, 0, 36, 0, 0, 0, 0], [0, 0, 0, 54, 0, 0, 0, 0], [0, 0, 0, -45, 0, 0, 0, 0], [0, 0, 0, 81, 0, 0, 0, 0], [0, 0, 0, -45, 0, 0, 0, 0], [0, 0, 0, 90, 0, 0, 0, 0], [0, 0, 0, 90, 0, 0, 0, 0]], [[0, 0, 0, 0, 32, 0, 0, 0], [0, 0, 0, 0, -48, 0, 0, 0], [0, 0, 0, 0, 32, 0, 0, 0], [0, 0, 0, 0, -32, 0, 0, 0], [0, 0, 0, 0, 72, 0, 0, 0], [0, 0, 0, 0, 40, 0, 0, 0], [0, 0, 0, 0, -80, 0, 0, 0], [0, 0, 0, 0, -24, 0, 0, 0]], [[0, 0, 0, 0, 0, -63, 0, 0], [0, 0, 0, 0, 0, -56, 0, 0], [0, 0, 0, 0, 0, 42, 0, 0], [0, 0, 0, 0, 0, -49, 0, 0], [0, 0, 0, 0, 0, -7, 0, 0], [0, 0, 0, 0, 0, -63, 0, 0], [0, 0, 0, 0, 0, 56, 0, 0], [0, 0, 0, 0, 0, -7, 0, 0]], [[0, 0, 0, 0, 0, 0, -40, 0], [0, 0, 0, 0, 0, 0, -8, 0], [0, 0, 0, 0, 0, 0, -24, 0], [0, 0, 0, 0, 0, 0, 80, 0], [0, 0, 0, 0, 0, 0, -64, 0], [0, 0, 0, 0, 0, 0, -48, 0], [0, 0, 0, 0, 0, 0, 0, 0], [0, 0, 0, 0, 0, 0, 0, 0]], [[0, 0, 0, 0, 0, 0, 0, -18], [0, 0, 0, 0, 0, 0, 0, 30], [0, 0, 0, 0, 0, 0, 0, 54], [0, 0, 0, 0, 0, 0, 0, -36], [0, 0, 0, 0, 0, 0, 0, -60], [0, 0, 0, 0, 0, 0, 0, 54], [0, 0, 0, 0, 0, 0, 0, -36], [0, 0, 0, 0, 0, 0, 0, 6]]], \"dtype\": \"int64\", \"shape\": [8, 8, 8], \"Corder\": true}, {\"__ndarray__\": [[[-36, 0], [-6, 0]], [[0, -3], [0, 24]]], \"dtype\": \"int64\", \"shape\": [2, 2, 2], \"Corder\": true}, {\"__ndarray__\": [[[0, 0, 0, 0], [0, 0, 0, 0], [0, 0, 0, 0], [0, 0, 0, 0]], [[0, -7, 0, 0], [0, -56, 0, 0], [0, -42, 0, 0], [0, -21, 0, 0]], [[0, 0, -12, 0], [0, 0, 18, 0], [0, 0, 2, 0], [0, 0, -10, 0]], [[0, 0, 0, 0], [0, 0, 0, 0], [0, 0, 0, 0], [0, 0, 0, 0]]], \"dtype\": \"int64\", \"shape\": [4, 4, 4], \"Corder\": true}, {\"__ndarray__\": [[[14, 0, 0, 0, 0, 0], [-7, 0, 0, 0, 0, 0], [-14, 0, 0, 0, 0, 0], [63, 0, 0, 0, 0, 0], [0, 0, 0, 0, 0, 0], [21, 0, 0, 0, 0, 0]], [[0, -20, 0, 0, 0, 0], [0, -4, 0, 0, 0, 0], [0, -16, 0, 0, 0, 0], [0, 0, 0, 0, 0, 0], [0, -12, 0, 0, 0, 0], [0, -32, 0, 0, 0, 0]], [[0, 0, -81, 0, 0, 0], [0, 0, -45, 0, 0, 0], [0, 0, -9, 0, 0, 0], [0, 0, -90, 0, 0, 0], [0, 0, 0, 0, 0, 0], [0, 0, -81, 0, 0, 0]], [[0, 0, 0, 48, 0, 0], [0, 0, 0, -24, 0, 0], [0, 0, 0, 16, 0, 0], [0, 0, 0, 64, 0, 0], [0, 0, 0, -56, 0, 0], [0, 0, 0, 32, 0, 0]], [[0, 0, 0, 0, 48, 0], [0, 0, 0, 0, 72, 0], [0, 0, 0, 0, -48, 0], [0, 0, 0, 0, 56, 0], [0, 0, 0, 0, -48, 0], [0, 0, 0, 0, 48, 0]], [[0, 0, 0, 0, 0, -45], [0, 0, 0, 0, 0, 9], [0, 0, 0, 0, 0, 27], [0, 0, 0, 0, 0, 72], [0, 0, 0, 0, 0, -36], [0, 0, 0, 0, 0, -90]]], \"dtype\": \"int64\", \"shape\": [6, 6, 6], \"Corder\": true}, {\"__ndarray__\": [[[-20, 0, 0], [40, 0, 0], [20, 0, 0]], [[0, 4, 0], [0, 36, 0], [0, 0, 0]], [[0, 0, -28], [0, 0, 4], [0, 0, -40]]], \"dtype\": \"int64\", \"shape\": [3, 3, 3], \"Corder\": true}, {\"__ndarray__\": [[[63, 0, 0], [0, 0, 0], [-45, 0, 0]], [[0, -20, 0], [0, 35, 0], [0, 45, 0]], [[0, 0, 28], [0, 0, 7], [0, 0, 14]]], \"dtype\": \"int64\", \"shape\": [3, 3, 3], \"Corder\": true}, {\"__ndarray__\": [[[21, 0, 0, 0, 0, 0], [24, 0, 0, 0, 0, 0], [27, 0, 0, 0, 0, 0], [30, 0, 0, 0, 0, 0], [-6, 0, 0, 0, 0, 0], [-27, 0, 0, 0, 0, 0]], [[0, 40, 0, 0, 0, 0], [0, 32, 0, 0, 0, 0], [0, 40, 0, 0, 0, 0], [0, -16, 0, 0, 0, 0], [0, 56, 0, 0, 0, 0], [0, 56, 0, 0, 0, 0]], [[0, 0, 8, 0, 0, 0], [0, 0, -6, 0, 0, 0], [0, 0, -8, 0, 0, 0], [0, 0, -14, 0, 0, 0], [0, 0, -12, 0, 0, 0], [0, 0, 18, 0, 0, 0]], [[0, 0, 0, 63, 0, 0], [0, 0, 0, -36, 0, 0], [0, 0, 0, -9, 0, 0], [0, 0, 0, 18, 0, 0], [0, 0, 0, -72, 0, 0], [0, 0, 0, 81, 0, 0]], [[0, 0, 0, 0, 30, 0], [0, 0, 0, 0, 30, 0], [0, 0, 0, 0, 20, 0], [0, 0, 0, 0, -35, 0], [0, 0, 0, 0, -30, 0], [0, 0, 0, 0, -25, 0]], [[0, 0, 0, 0, 0, -9], [0, 0, 0, 0, 0, 6], [0, 0, 0, 0, 0, 6], [0, 0, 0, 0, 0, 6], [0, 0, 0, 0, 0, 0], [0, 0, 0, 0, 0, -7]]], \"dtype\": \"int64\", \"shape\": [6, 6, 6], \"Corder\": true}, {\"__ndarray__\": [[[-81, 0, 0, 0, 0, 0], [45, 0, 0, 0, 0, 0], [-45, 0, 0, 0, 0, 0], [81, 0, 0, 0, 0, 0], [36, 0, 0, 0, 0, 0], [-81, 0, 0, 0, 0, 0]], [[0, -40, 0, 0, 0, 0], [0, -64, 0, 0, 0, 0], [0, 8, 0, 0, 0, 0], [0, 56, 0, 0, 0, 0], [0, -72, 0, 0, 0, 0], [0, 64, 0, 0, 0, 0]], [[0, 0, 45, 0, 0, 0], [0, 0, 20, 0, 0, 0], [0, 0, 40, 0, 0, 0], [0, 0, -15, 0, 0, 0], [0, 0, -15, 0, 0, 0], [0, 0, 15, 0, 0, 0]], [[0, 0, 0, 4, 0, 0], [0, 0, 0, -4, 0, 0], [0, 0, 0, -32, 0, 0], [0, 0, 0, -36, 0, 0], [0, 0, 0, 8, 0, 0], [0, 0, 0, -4, 0, 0]], [[0, 0, 0, 0, -81, 0], [0, 0, 0, 0, 36, 0], [0, 0, 0, 0, 54, 0], [0, 0, 0, 0, 36, 0], [0, 0, 0, 0, -27, 0], [0, 0, 0, 0, -90, 0]], [[0, 0, 0, 0, 0, 35], [0, 0, 0, 0, 0, -21], [0, 0, 0, 0, 0, -28], [0, 0, 0, 0, 0, -21], [0, 0, 0, 0, 0, 42], [0, 0, 0, 0, 0, -7]]], \"dtype\": \"int64\", \"shape\": [6, 6, 6], \"Corder\": true}, {\"__ndarray__\": [[[63, 0, 0, 0, 0], [72, 0, 0, 0, 0], [-72, 0, 0, 0, 0], [18, 0, 0, 0, 0], [54, 0, 0, 0, 0]], [[0, -60, 0, 0, 0], [0, 10, 0, 0, 0], [0, 30, 0, 0, 0], [0, -90, 0, 0, 0], [0, -30, 0, 0, 0]], [[0, 0, -4, 0, 0], [0, 0, 40, 0, 0], [0, 0, -12, 0, 0], [0, 0, -24, 0, 0], [0, 0, -24, 0, 0]], [[0, 0, 0, -30, 0], [0, 0, 0, 12, 0], [0, 0, 0, -48, 0], [0, 0, 0, 12, 0], [0, 0, 0, -18, 0]], [[0, 0, 0, 0, 3], [0, 0, 0, 0, -6], [0, 0, 0, 0, -5], [0, 0, 0, 0, 5], [0, 0, 0, 0, 0]]], \"dtype\": \"int64\", \"shape\": [5, 5, 5], \"Corder\": true}, {\"__ndarray__\": [[[2, 0, 0], [2, 0, 0], [10, 0, 0]], [[0, -36, 0], [0, -36, 0], [0, -42, 0]], [[0, 0, -12], [0, 0, -16], [0, 0, 14]]], \"dtype\": \"int64\", \"shape\": [3, 3, 3], \"Corder\": true}], \"task4_2\": [{\"__ndarray__\": [[-4, 0, 0, 0, 0, 0, 0, 0], [0, -10, 0, 0, 0, 0, 0, 0], [0, 0, 9, 0, 0, 0, 0, 0], [0, 0, 0, -45, 0, 0, 0, 0], [0, 0, 0, 0, 72, 0, 0, 0], [0, 0, 0, 0, 0, -63, 0, 0], [0, 0, 0, 0, 0, 0, 0, 0], [0, 0, 0, 0, 0, 0, 0, 6]], \"dtype\": \"int64\", \"shape\": [8, 8], \"Corder\": true}, {\"__ndarray__\": [[-36, 0], [0, 24]], \"dtype\": \"int64\", \"shape\": [2, 2], \"Corder\": true}, {\"__ndarray__\": [[0, 0, 0, 0], [0, -56, 0, 0], [0, 0, 2, 0], [0, 0, 0, 0]], \"dtype\": \"int64\", \"shape\": [4, 4], \"Corder\": true}, {\"__ndarray__\": [[14, 0, 0, 0, 0, 0], [0, -4, 0, 0, 0, 0], [0, 0, -9, 0, 0, 0], [0, 0, 0, 64, 0, 0], [0, 0, 0, 0, -48, 0], [0, 0, 0, 0, 0, -90]], \"dtype\": \"int64\", \"shape\": [6, 6], \"Corder\": true}, {\"__ndarray__\": [[-20, 0, 0], [0, 36, 0], [0, 0, -40]], \"dtype\": \"int64\", \"shape\": [3, 3], \"Corder\": true}, {\"__ndarray__\": [[63, 0, 0], [0, 35, 0], [0, 0, 14]], \"dtype\": \"int64\", \"shape\": [3, 3], \"Corder\": true}, {\"__ndarray__\": [[21, 0, 0, 0, 0, 0], [0, 32, 0, 0, 0, 0], [0, 0, -8, 0, 0, 0], [0, 0, 0, 18, 0, 0], [0, 0, 0, 0, -30, 0], [0, 0, 0, 0, 0, -7]], \"dtype\": \"int64\", \"shape\": [6, 6], \"Corder\": true}, {\"__ndarray__\": [[-81, 0, 0, 0, 0, 0], [0, -64, 0, 0, 0, 0], [0, 0, 40, 0, 0, 0], [0, 0, 0, -36, 0, 0], [0, 0, 0, 0, -27, 0], [0, 0, 0, 0, 0, -7]], \"dtype\": \"int64\", \"shape\": [6, 6], \"Corder\": true}, {\"__ndarray__\": [[63, 0, 0, 0, 0], [0, 10, 0, 0, 0], [0, 0, -12, 0, 0], [0, 0, 0, 12, 0], [0, 0, 0, 0, 0]], \"dtype\": \"int64\", \"shape\": [5, 5], \"Corder\": true}, {\"__ndarray__\": [[2, 0, 0], [0, -36, 0], [0, 0, 14]], \"dtype\": \"int64\", \"shape\": [3, 3], \"Corder\": true}]}'"
                        ]
                    },
                    "execution_count": 142,
                    "metadata": {},
                    "output_type": "execute_result"
                }
            ],
            "source": [
                "json_tricks.dump(answer, '.answer.json')"
            ]
        }
    ],
    "metadata": {
        "kernelspec": {
            "display_name": "Python 3",
            "language": "python",
            "name": "python3"
        },
        "language_info": {
            "codemirror_mode": {
                "name": "ipython",
                "version": 3
            },
            "file_extension": ".py",
            "mimetype": "text/x-python",
            "name": "python",
            "nbconvert_exporter": "python",
            "pygments_lexer": "ipython3",
            "version": "3.11.13"
        }
    },
    "nbformat": 4,
    "nbformat_minor": 5
}
