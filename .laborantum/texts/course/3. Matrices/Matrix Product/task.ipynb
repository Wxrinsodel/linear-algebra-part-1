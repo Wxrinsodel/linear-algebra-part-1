{
    "cells": [
        {
            "cell_type": "code",
            "execution_count": 15,
            "id": "acceacb5",
            "metadata": {},
            "outputs": [
                {
                    "ename": "FileNotFoundError",
                    "evalue": "[Errno 2] No such file or directory: 'inputs.json'",
                    "output_type": "error",
                    "traceback": [
                        "\u001b[31m---------------------------------------------------------------------------\u001b[39m",
                        "\u001b[31mFileNotFoundError\u001b[39m                         Traceback (most recent call last)",
                        "\u001b[36mCell\u001b[39m\u001b[36m \u001b[39m\u001b[32mIn[15]\u001b[39m\u001b[32m, line 6\u001b[39m\n\u001b[32m      3\u001b[39m \u001b[38;5;28;01mimport\u001b[39;00m\u001b[38;5;250m \u001b[39m\u001b[34;01mos\u001b[39;00m\n\u001b[32m      5\u001b[39m answer = {}\n\u001b[32m----> \u001b[39m\u001b[32m6\u001b[39m inputs = \u001b[43mjson_tricks\u001b[49m\u001b[43m.\u001b[49m\u001b[43mload\u001b[49m\u001b[43m(\u001b[49m\u001b[33;43m'\u001b[39;49m\u001b[33;43minputs.json\u001b[39;49m\u001b[33;43m'\u001b[39;49m\u001b[43m)\u001b[49m\n",
                        "\u001b[36mFile \u001b[39m\u001b[32m/usr/local/lib/python3.11/site-packages/json_tricks/nonp.py:284\u001b[39m, in \u001b[36mload\u001b[39m\u001b[34m(fp, preserve_order, ignore_comments, decompression, obj_pairs_hooks, extra_obj_pairs_hooks, cls_lookup_map, allow_duplicates, conv_str_byte, properties, **jsonkwargs)\u001b[39m\n\u001b[32m    282\u001b[39m \topen_binary = \u001b[38;5;28mbool\u001b[39m(decompression)\n\u001b[32m    283\u001b[39m \u001b[38;5;28;01melse\u001b[39;00m:\n\u001b[32m--> \u001b[39m\u001b[32m284\u001b[39m \t\u001b[38;5;28;01mwith\u001b[39;00m \u001b[38;5;28;43mopen\u001b[39;49m\u001b[43m(\u001b[49m\u001b[43mfp\u001b[49m\u001b[43m,\u001b[49m\u001b[43m \u001b[49m\u001b[33;43m'\u001b[39;49m\u001b[33;43mrb\u001b[39;49m\u001b[33;43m'\u001b[39;49m\u001b[43m)\u001b[49m \u001b[38;5;28;01mas\u001b[39;00m fh:\n\u001b[32m    285\u001b[39m \t\t\u001b[38;5;66;03m# This attempts to detect gzip mode; gzip should always\u001b[39;00m\n\u001b[32m    286\u001b[39m \t\t\u001b[38;5;66;03m# have this header, and text json can't have it.\u001b[39;00m\n\u001b[32m    287\u001b[39m \t\topen_binary = (fh.read(\u001b[32m2\u001b[39m) == \u001b[33mb\u001b[39m\u001b[33m'\u001b[39m\u001b[38;5;130;01m\\x1f\u001b[39;00m\u001b[38;5;130;01m\\x8b\u001b[39;00m\u001b[33m'\u001b[39m)\n\u001b[32m    288\u001b[39m \u001b[38;5;28;01mwith\u001b[39;00m \u001b[38;5;28mopen\u001b[39m(fp, \u001b[33m'\u001b[39m\u001b[33mrb\u001b[39m\u001b[33m'\u001b[39m \u001b[38;5;28;01mif\u001b[39;00m open_binary \u001b[38;5;28;01melse\u001b[39;00m \u001b[33m'\u001b[39m\u001b[33mr\u001b[39m\u001b[33m'\u001b[39m) \u001b[38;5;28;01mas\u001b[39;00m fh:\n",
                        "\u001b[31mFileNotFoundError\u001b[39m: [Errno 2] No such file or directory: 'inputs.json'"
                    ]
                }
            ],
            "source": [
                "import numpy as np\n",
                "import json_tricks as json_tricks\n",
                "import os\n",
                "\n",
                "answer = {}\n",
                "inputs = json_tricks.load('inputs.json')"
            ]
        },
        {
            "cell_type": "markdown",
            "id": "5dbd6d2d",
            "metadata": {},
            "source": [
                "At first I can not open THIS FILES AND I TOOK 30 MINS TO SOLVE IT. YOU KNOW WHAT CAUSE IT??? \n",
                "\n",
                "                      ,                      \n",
                "\n",
                "This thing. YES JUST \"\"\"\" , \"\"\"\" this! OMG I'm crying, Coding is so fun HAHAHA //crying"
            ]
        },
        {
            "cell_type": "markdown",
            "id": "2a65a805",
            "metadata": {},
            "source": [
                "# Matrix Product II\n",
                "\n",
                "$$A_{5 \\times 10} \\  B_{10 \\times 2}\\ C_{2 \\times 30}\\ D_{30 \\times 3}\\ E_{3 \\times 9}$$\n",
                "\n",
                "1. What will be the shape of the resulting matrix?\n",
                "2. How many multiplication of numbers are required at best?"
            ]
        },
        {
            "cell_type": "code",
            "execution_count": null,
            "id": "70ec671d",
            "metadata": {},
            "outputs": [],
            "source": [
                "answer['task1'] = {\n",
                "    '1': [5, 9],\n",
                "    '2': 424\n",
                "}\n"
            ]
        },
        {
            "cell_type": "markdown",
            "id": "846c911d",
            "metadata": {},
            "source": [
                "////SHORTNOTE////\n",
                "\n",
                "\n",
                "Where is 424 come from??\n",
                "\n",
                "\n",
                "So we use \"Matrix Chain Order\"\n",
                "\n",
                "\n",
                "The thing that he taught us in class I REMEMBERED DID'T I???? [(((AB)C)D)E]\n",
                "\n",
                "\n",
                "\n",
                "Actually we have to try a lot in this process like (((AB)C)D)E or (A(B(C(DE)))) or ((AB)((CD)E)) and so on. SO SINCERELY USE AI FOR THIS IS BEST WAY \n",
                "\n",
                "\n",
                "\n",
                "Let do for make sure I am understand\n",
                "\n",
                "\n",
                "((AB)((CD)E))\n",
                "\n",
                "\n",
                "Sol\n",
                "\n",
                " A*B = (N * M) * ( M * L) = N * M * L = 5 * 10 * 2 = 100\n",
                "\n",
                "\n",
                " C*D = (L * V) * (V * H) = L * V * H = 2 * 30 * 3 = 180\n",
                "\n",
                "\n",
                "(C*D)*E = (L * V * H ) * ( H * U ) = L * H * U = 2 * 3 * 9 = 54\n",
                "\n",
                "\n",
                "(A*B)*((C*D)*E) = (N * M * L ) * (L * V * H) * (H * U) = N * H * U = 5 * 2 * 9 = 90\n",
                "\n",
                "\n",
                "\n",
                "\n",
                "100+180+54+90 = 424\n"
            ]
        },
        {
            "cell_type": "markdown",
            "id": "a134c56f",
            "metadata": {},
            "source": [
                "# Numpy expression\n",
                "\n",
                "Using Numpy, write a function that calculates the \n",
                "following expression:\n",
                "\n",
                "$$\\exp(A^T(B + 2C) + 3I) \\mathbf x,$$\n",
                "\n",
                "where $I$ is an identity matrix of the necessary shape."
            ]
        },
        {
            "cell_type": "code",
            "execution_count": null,
            "id": "71c02732",
            "metadata": {},
            "outputs": [],
            "source": [
                "def numpy_expression(A, B, C, x):\n",
                "    # Compute the expression: exp(A^T(B + 2C) + 3I) x\n",
                "    inner = B + 2 * C\n",
                "    M = A.T @ inner\n",
                "    # The identity matrix should be square and match M's shape\n",
                "    if M.shape[0] == M.shape[1]:\n",
                "        M_plus_I = M + 3 * np.eye(M.shape[0])\n",
                "    else:\n",
                "        # If not square, only add to the diagonal part (broadcasting)\n",
                "        M_plus_I = M + 3 * np.eye(*M.shape)\n",
                "    expr = np.exp(M_plus_I)\n",
                "    # Ensure x is the correct shape for multiplication\n",
                "    result = expr @ x\n",
                "    return result"
            ]
        },
        {
            "cell_type": "code",
            "execution_count": null,
            "id": "e93e082d",
            "metadata": {},
            "outputs": [],
            "source": [
                "answer['task2'] = []\n",
                "for one_input in inputs.get('task2', []):\n",
                "    answer['task2'].append(numpy_expression(**one_input))"
            ]
        },
        {
            "cell_type": "markdown",
            "id": "2aef45b9",
            "metadata": {},
            "source": [
                "# Einstein's Rule\n",
                "\n",
                "In *Tensor Algebra*, a direct generalization of the Linear Algebra to the case of $N$-dimentional tables called *tensors* (normal matrix), the Einstein's rule exists.\n",
                "\n",
                "It works as follows: if you see a duplicating upper and lower index in the formula, that means, this index convolves.\n",
                "\n",
                "For example, the following tensor expression, summation and matrix product are equivalent:\n",
                "\n",
                "$$a_k^l b_l^m = \\sum_{l=1}^L a_k^l b_l^m = AB$$\n",
                "\n",
                "In this notation subscript means row index and superscript means column index.\n",
                "\n",
                "<details>\n",
                "<summary> Note </summary>\n",
                "\n",
                "> [!NOTE]\n",
                "> Also at some point it will be important to know that:\n",
                "> * lower index represents a contravariant dimension of a\n",
                "> tensor\n",
                "> * upper index represents a covariant dimension \n",
                "> of tensor. But let us omit this part for now.\n",
                "\n",
                "</details>\n",
                "\n",
                "# Task\n",
                "\n",
                "Calculate the following expression written using Einstein's \n",
                "rule:\n",
                "\n",
                "$$a_k^m b_m^n c_n^o d_l^k$$"
            ]
        },
        {
            "cell_type": "code",
            "execution_count": null,
            "id": "3feb6914",
            "metadata": {},
            "outputs": [],
            "source": [
                "def einsteins_rule(A, B, C, D):\n",
                "    result = np.einsum('lk,km,mn,no->lo', D, A, B, C)\n",
                "    return result\n"
            ]
        },
        {
            "cell_type": "code",
            "execution_count": null,
            "id": "f9cd1e7e",
            "metadata": {},
            "outputs": [],
            "source": [
                "answer['task3'] = []\n",
                "if 'task3' in inputs:\n",
                "    for one_input in inputs['task3']:\n",
                "        answer['task3'].append(einsteins_rule(**one_input))\n"
            ]
        },
        {
            "cell_type": "markdown",
            "id": "ad37cd42",
            "metadata": {},
            "source": [
                "# Diagonal Matrix Product\n",
                "\n",
                "You are given two square matrices: $A$ and $D$, where $A$ is a \n",
                "full matrix and $D$ is a diagonal matrix:\n",
                "\n",
                "$$\n",
                "A = \\begin{bmatrix}\n",
                "- & \\mathbf a_1 & - \\\\\n",
                "& \\vdots & \\\\\n",
                "- & \\mathbf a_N & - \\\\\n",
                "\\end{bmatrix}\n",
                "$$\n",
                "\n",
                "$$\n",
                "D = \\textrm{diag}(d_1, d_2, \\dots, d_N) = \\begin{bmatrix}\n",
                "d_1 & & & & \\\\\n",
                "& d_2 & & & \\\\\n",
                "& & d_3 & & \\\\\n",
                "& & & \\ddots & \\\\\n",
                "& & & & d_N \n",
                "\\end{bmatrix}\n",
                "$$\n",
                "\n",
                "Write a program to calculate the result of $DA$ and $AD$ in \n",
                "the fastest possible way."
            ]
        },
        {
            "cell_type": "code",
            "execution_count": null,
            "id": "af333a41",
            "metadata": {},
            "outputs": [],
            "source": [
                "def diag_prod_DA(A, D):\n",
                "    # D is a diagonal matrix, extract the diagonal\n",
                "    d = np.diag(D)\n",
                "    DA = d[:, np.newaxis] * A\n",
                "    return DA\n",
                "\n",
                "def diag_prod_AD(A, D):\n",
                "    # D is a diagonal matrix, extract the diagonal\n",
                "    d = np.diag(D)\n",
                "    AD = A * d\n",
                "    return AD"
            ]
        },
        {
            "cell_type": "code",
            "execution_count": null,
            "id": "68f65717",
            "metadata": {},
            "outputs": [],
            "source": [
                "answer['task4_1'] = []\n",
                "answer['task4_2'] = []\n",
                "if 'task4' in inputs:\n",
                "    for one_input in inputs['task4']:\n",
                "        answer['task4_1'].append(diag_prod_DA(**one_input))\n",
                "        answer['task4_2'].append(diag_prod_AD(**one_input))"
            ]
        },
        {
            "cell_type": "markdown",
            "id": "fc7b3dc4",
            "metadata": {},
            "source": [
                "# Sparse Matrix Product\n",
                "\n",
                "You are given two matrices of the same shape: $A$ and $B$. Matrix $A$ is full\n",
                "and is given in the form of `numpy.ndarray`.\n",
                "\n",
                "The second matrix $B$ is **sparse**. That means that the \n",
                "majority of the items are equal to $0$ except for $M$. This matrix is given\n",
                "as a set of non-zero elements of this matrix in form of $3 \\times M$ `numpy.ndarray` as row-column-value tuple (COO sparse matrix form):\n",
                "\n",
                "$$\n",
                "\\begin{bmatrix}\n",
                "r_1 & c_1 & v_1 \\\\\n",
                "r_2 & c_2 & v_2 \\\\\n",
                "& \\vdots & \\\\\n",
                "r_M & c_M & v_M \\\\\n",
                "\\end{bmatrix}\n",
                "$$\n",
                "\n",
                "If in this struct two items correspond to the same location, consider the latter is correct.\n",
                "\n",
                "Write the most efficient program that calculates $AB$.\n",
                "\n",
                "Also return the ratio between the number of multiplication operations that are needed to calculate the sparse product and the number of operations for full product."
            ]
        },
        {
            "cell_type": "code",
            "execution_count": null,
            "id": "6a439900",
            "metadata": {},
            "outputs": [],
            "source": [
                "def sparse_matrix_product(A, B_sparse):\n",
                "    N, K = A.shape\n",
                "    # Ensure B_sparse is shape (M, 3)\n",
                "    if B_sparse.shape[0] == 3:\n",
                "        B_sparse = B_sparse.T\n",
                "    # Reconstruct B as a full matrix, using the last value for each (r, c)\n",
                "    M = int(B_sparse[:, 1].max()) + 1  # number of columns in B\n",
                "    B = np.zeros((K, M), dtype=float)\n",
                "    for r, c, v in B_sparse:\n",
                "        r = int(r)\n",
                "        c = int(c)\n",
                "        v = float(v)\n",
                "        B[r, c] = v  # overwrite, not accumulate\n",
                "\n",
                "    result = A @ B\n",
                "    # Count only the multiplications for nonzero elements in B\n",
                "    mult_ops = int(np.count_nonzero(B)) * N\n",
                "    full_ops = N * K * M\n",
                "    return result, float(mult_ops) / float(full_ops)"
            ]
        },
        {
            "cell_type": "code",
            "execution_count": null,
            "id": "2db5922f",
            "metadata": {},
            "outputs": [],
            "source": [
                "answer['task5'] = []\n",
                "if 'task5' in inputs:\n",
                "    for one_input in inputs['task5']:\n",
                "        result, ratio = sparse_matrix_product(**one_input)\n",
                "        answer['task5'].append([result, ratio])"
            ]
        },
        {
            "cell_type": "code",
            "execution_count": null,
            "id": "08e12548",
            "metadata": {},
            "outputs": [
                {
                    "data": {
                        "text/plain": [
                            "'{\"task1\": {\"1\": [5, 9], \"2\": 424}, \"task2\": [], \"task3\": [], \"task4_1\": [], \"task4_2\": [], \"task5\": []}'"
                        ]
                    },
                    "execution_count": 11,
                    "metadata": {},
                    "output_type": "execute_result"
                }
            ],
            "source": [
                "json_tricks.dump(answer, '.answer.json')"
            ]
        }
    ],
    "metadata": {
        "kernelspec": {
            "display_name": "Python 3",
            "language": "python",
            "name": "python3"
        },
        "language_info": {
            "codemirror_mode": {
                "name": "ipython",
                "version": 3
            },
            "file_extension": ".py",
            "mimetype": "text/x-python",
            "name": "python",
            "nbconvert_exporter": "python",
            "pygments_lexer": "ipython3",
            "version": "3.11.13"
        }
    },
    "nbformat": 4,
    "nbformat_minor": 5
}
