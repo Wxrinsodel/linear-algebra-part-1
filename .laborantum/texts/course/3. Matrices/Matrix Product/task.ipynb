{
    "cells": [
        {
            "cell_type": "code",
            "execution_count": 1,
            "id": "acceacb5",
            "metadata": {},
            "outputs": [],
            "source": [
                "import numpy as np\n",
                "import json_tricks as json_tricks\n",
                "import os\n",
                "\n",
                "answer = {}\n",
                "if os.path.exists('inputs.json'):\n",
                "\tinputs = json_tricks.load('inputs.json')\n",
                "else:\n",
                "\tinputs = {}"
            ]
        },
        {
            "cell_type": "markdown",
            "id": "5dbd6d2d",
            "metadata": {},
            "source": [
                "At first I can not open THIS FILES AND I TOOK 30 MINS TO SOLVE IT. YOU KNOW WHAT CAUSE IT??? \n",
                "\n",
                "                      ,                      \n",
                "\n",
                "This thing. YES JUST \"\"\"\" , \"\"\"\" this! OMG I'm crying, Coding is so fun HAHAHA //crying"
            ]
        },
        {
            "cell_type": "markdown",
            "id": "2a65a805",
            "metadata": {},
            "source": [
                "# Matrix Product II\n",
                "\n",
                "$$A_{5 \\times 10} \\  B_{10 \\times 2}\\ C_{2 \\times 30}\\ D_{30 \\times 3}\\ E_{3 \\times 9}$$\n",
                "\n",
                "1. What will be the shape of the resulting matrix?\n",
                "2. How many multiplication of numbers are required at best?"
            ]
        },
        {
            "cell_type": "code",
            "execution_count": 2,
            "id": "70ec671d",
            "metadata": {},
            "outputs": [],
            "source": [
                "answer['task1'] = {\n",
                "    '1': [5, 9],\n",
                "    '2': 424\n",
                "}\n"
            ]
        },
        {
            "cell_type": "markdown",
            "id": "846c911d",
            "metadata": {},
            "source": [
                "////SHORTNOTE////\n",
                "\n",
                "\n",
                "Where is 424 come from??\n",
                "\n",
                "\n",
                "So we use \"Matrix Chain Order\"\n",
                "\n",
                "\n",
                "The thing that he taught us in class I REMEMBERED DID'T I???? [(((AB)C)D)E]\n",
                "\n",
                "\n",
                "\n",
                "Actually we have to try a lot in this process like (((AB)C)D)E or (A(B(C(DE)))) or ((AB)((CD)E)) and so on. SO SINCERELY USE AI FOR THIS IS BEST WAY \n",
                "\n",
                "\n",
                "\n",
                "Let do for make sure I am understand\n",
                "\n",
                "\n",
                "((AB)((CD)E))\n",
                "\n",
                "\n",
                "Sol\n",
                "\n",
                " A*B = (N * M) * ( M * L) = N * M * L = 5 * 10 * 2 = 100\n",
                "\n",
                "\n",
                " C*D = (L * V) * (V * H) = L * V * H = 2 * 30 * 3 = 180\n",
                "\n",
                "\n",
                "(C*D)*E = (L * V * H ) * ( H * U ) = L * H * U = 2 * 3 * 9 = 54\n",
                "\n",
                "\n",
                "(A*B)*((C*D)*E) = (N * M * L ) * (L * V * H) * (H * U) = N * H * U = 5 * 2 * 9 = 90\n",
                "\n",
                "\n",
                "\n",
                "\n",
                "100+180+54+90 = 424\n"
            ]
        },
        {
            "cell_type": "markdown",
            "id": "a134c56f",
            "metadata": {},
            "source": [
                "# Numpy expression\n",
                "\n",
                "Using Numpy, write a function that calculates the \n",
                "following expression:\n",
                "\n",
                "$$\\exp(A^T(B + 2C) + 3I) \\mathbf x,$$\n",
                "\n",
                "where $I$ is an identity matrix of the necessary shape."
            ]
        },
        {
            "cell_type": "code",
            "execution_count": 3,
            "id": "71c02732",
            "metadata": {},
            "outputs": [],
            "source": [
                "from scipy.linalg import expm\n",
                "def numpy_expression(A, B, C, x):\n",
                "    \"\"\"\n",
                "    Calculates the expression: exp(A^T(B + 2C) + 3I) * x\n",
                "    \n",
                "    Parameters:\n",
                "    A, B, C: numpy arrays (matrices)\n",
                "    x: numpy array (vector)\n",
                "    \n",
                "    Returns:\n",
                "    numpy array: result of the matrix expression\n",
                "    \"\"\"\n",
                "    # Step 1: Calculate B + 2C\n",
                "    BC_term = B + 2 * C\n",
                "    \n",
                "    # Step 2: Calculate A^T * (B + 2C)\n",
                "    AT_BC = np.dot(A.T, BC_term)\n",
                "    \n",
                "    # Step 3: Add 3I (3 times identity matrix)\n",
                "    # The identity matrix should have the same shape as AT_BC\n",
                "    I = np.eye(AT_BC.shape[0])\n",
                "    matrix_arg = AT_BC + 3 * I\n",
                "    \n",
                "    # Step 4: Apply matrix exponential\n",
                "    exp_matrix = expm(matrix_arg)\n",
                "    \n",
                "    # Step 5: Multiply by x\n",
                "    result = np.dot(exp_matrix, x)\n",
                "    \n",
                "    return result"
            ]
        },
        {
            "cell_type": "code",
            "execution_count": null,
            "id": "e7eb03fc",
            "metadata": {},
            "outputs": [],
            "source": []
        },
        {
            "cell_type": "code",
            "execution_count": 4,
            "id": "e93e082d",
            "metadata": {},
            "outputs": [],
            "source": [
                "answer['task2'] = []\n",
                "if 'task2' not in inputs:\n",
                "    inputs['task2'] = []\n",
                "inputs['task2'] = inputs.get('task2', [])\n",
                "for one_input in inputs['task2']:\n",
                "    answer['task2'].append(numpy_expression(**one_input))"
            ]
        },
        {
            "cell_type": "markdown",
            "id": "2aef45b9",
            "metadata": {},
            "source": [
                "# Einstein's Rule\n",
                "\n",
                "In *Tensor Algebra*, a direct generalization of the Linear Algebra to the case of $N$-dimentional tables called *tensors* (normal matrix), the Einstein's rule exists.\n",
                "\n",
                "It works as follows: if you see a duplicating upper and lower index in the formula, that means, this index convolves.\n",
                "\n",
                "For example, the following tensor expression, summation and matrix product are equivalent:\n",
                "\n",
                "$$a_k^l b_l^m = \\sum_{l=1}^L a_k^l b_l^m = AB$$\n",
                "\n",
                "In this notation subscript means row index and superscript means column index.\n",
                "\n",
                "<details>\n",
                "<summary> Note </summary>\n",
                "\n",
                "> [!NOTE]\n",
                "> Also at some point it will be important to know that:\n",
                "> * lower index represents a contravariant dimension of a\n",
                "> tensor\n",
                "> * upper index represents a covariant dimension \n",
                "> of tensor. But let us omit this part for now.\n",
                "\n",
                "</details>\n",
                "\n",
                "# Task\n",
                "\n",
                "Calculate the following expression written using Einstein's \n",
                "rule:\n",
                "\n",
                "$$a_k^m b_m^n c_n^o d_l^k$$"
            ]
        },
        {
            "cell_type": "code",
            "execution_count": 5,
            "id": "3feb6914",
            "metadata": {},
            "outputs": [],
            "source": [
                "def einsteins_rule(a, b, c, d):\n",
                "    # a_k^m b_m^n c_n^o d_l^k -> sum over k, m, n\n",
                "    # Indices: a[k, m], b[m, n], c[n, o], d[l, k]\n",
                "    # Output: [l, o]\n",
                "    result = np.einsum('km,mn,no,lk->lo', a, b, c, d)\n",
                "    return result\n"
            ]
        },
        {
            "cell_type": "code",
            "execution_count": 6,
            "id": "f9cd1e7e",
            "metadata": {},
            "outputs": [],
            "source": [
                "answer['task3'] = []\n",
                "if 'task3' in inputs:\n",
                "    for one_input in inputs['task3']:\n",
                "        answer['task3'].append(einsteins_rule(**one_input))\n"
            ]
        },
        {
            "cell_type": "markdown",
            "id": "ad37cd42",
            "metadata": {},
            "source": [
                "# Diagonal Matrix Product\n",
                "\n",
                "You are given two square matrices: $A$ and $D$, where $A$ is a \n",
                "full matrix and $D$ is a diagonal matrix:\n",
                "\n",
                "$$\n",
                "A = \\begin{bmatrix}\n",
                "- & \\mathbf a_1 & - \\\\\n",
                "& \\vdots & \\\\\n",
                "- & \\mathbf a_N & - \\\\\n",
                "\\end{bmatrix}\n",
                "$$\n",
                "\n",
                "$$\n",
                "D = \\textrm{diag}(d_1, d_2, \\dots, d_N) = \\begin{bmatrix}\n",
                "d_1 & & & & \\\\\n",
                "& d_2 & & & \\\\\n",
                "& & d_3 & & \\\\\n",
                "& & & \\ddots & \\\\\n",
                "& & & & d_N \n",
                "\\end{bmatrix}\n",
                "$$\n",
                "\n",
                "Write a program to calculate the result of $DA$ and $AD$ in \n",
                "the fastest possible way."
            ]
        },
        {
            "cell_type": "code",
            "execution_count": 7,
            "id": "af333a41",
            "metadata": {},
            "outputs": [],
            "source": [
                "def diag_prod_DA(A, D):\n",
                "    # D is a diagonal matrix, extract the diagonal\n",
                "    d = np.diag(D)\n",
                "    DA = d[:, np.newaxis] * A\n",
                "    return DA\n",
                "\n",
                "def diag_prod_AD(A, D):\n",
                "    # D is a diagonal matrix, extract the diagonal\n",
                "    d = np.diag(D)\n",
                "    AD = A * d\n",
                "    return AD"
            ]
        },
        {
            "cell_type": "code",
            "execution_count": 8,
            "id": "68f65717",
            "metadata": {},
            "outputs": [],
            "source": [
                "answer['task4_1'] = []\n",
                "answer['task4_2'] = []\n",
                "if 'task4' in inputs:\n",
                "    for one_input in inputs['task4']:\n",
                "        answer['task4_1'].append(diag_prod_DA(**one_input))\n",
                "        answer['task4_2'].append(diag_prod_AD(**one_input))"
            ]
        },
        {
            "cell_type": "markdown",
            "id": "fc7b3dc4",
            "metadata": {},
            "source": [
                "# Sparse Matrix Product\n",
                "\n",
                "You are given two matrices of the same shape: $A$ and $B$. Matrix $A$ is full\n",
                "and is given in the form of `numpy.ndarray`.\n",
                "\n",
                "The second matrix $B$ is **sparse**. That means that the \n",
                "majority of the items are equal to $0$ except for $M$. This matrix is given\n",
                "as a set of non-zero elements of this matrix in form of $3 \\times M$ `numpy.ndarray` as row-column-value tuple (COO sparse matrix form):\n",
                "\n",
                "$$\n",
                "\\begin{bmatrix}\n",
                "r_1 & c_1 & v_1 \\\\\n",
                "r_2 & c_2 & v_2 \\\\\n",
                "& \\vdots & \\\\\n",
                "r_M & c_M & v_M \\\\\n",
                "\\end{bmatrix}\n",
                "$$\n",
                "\n",
                "If in this struct two items correspond to the same location, consider the latter is correct.\n",
                "\n",
                "Write the most efficient program that calculates $AB$.\n",
                "\n",
                "Also return the ratio between the number of multiplication operations that are needed to calculate the sparse product and the number of operations for full product."
            ]
        },
        {
            "cell_type": "code",
            "execution_count": 9,
            "id": "6a439900",
            "metadata": {},
            "outputs": [],
            "source": [
                "def sparse_matrix_product(A, B_sparse):\n",
                "    N, K = A.shape\n",
                "    # Ensure B_sparse is shape (M, 3)\n",
                "    if B_sparse.shape[0] == 3:\n",
                "        B_sparse = B_sparse.T\n",
                "    # Reconstruct B as a full matrix, using the last value for each (r, c)\n",
                "    M = int(B_sparse[:, 1].max()) + 1  # number of columns in B\n",
                "    B = np.zeros((K, M), dtype=float)\n",
                "    for r, c, v in B_sparse:\n",
                "        r = int(r)\n",
                "        c = int(c)\n",
                "        v = float(v)\n",
                "        B[r, c] = v  # overwrite, not accumulate\n",
                "\n",
                "    result = A @ B\n",
                "    # Count only the multiplications for nonzero elements in B\n",
                "    mult_ops = int(np.count_nonzero(B)) * N\n",
                "    full_ops = N * K * M\n",
                "    return result, float(mult_ops) / float(full_ops)"
            ]
        },
        {
            "cell_type": "code",
            "execution_count": 10,
            "id": "2db5922f",
            "metadata": {},
            "outputs": [],
            "source": [
                "answer['task5'] = []\n",
                "if 'task5' in inputs:\n",
                "    for one_input in inputs['task5']:\n",
                "        result, ratio = sparse_matrix_product(**one_input)\n",
                "        answer['task5'].append([result, ratio])"
            ]
        },
        {
            "cell_type": "code",
            "execution_count": 11,
            "id": "08e12548",
            "metadata": {},
            "outputs": [
                {
                    "data": {
                        "text/plain": [
                            "'{\"task1\": {\"1\": [5, 9], \"2\": 424}, \"task2\": [], \"task3\": [], \"task4_1\": [], \"task4_2\": [], \"task5\": []}'"
                        ]
                    },
                    "execution_count": 11,
                    "metadata": {},
                    "output_type": "execute_result"
                }
            ],
            "source": [
                "json_tricks.dump(answer, '.answer.json')"
            ]
        }
    ],
    "metadata": {
        "kernelspec": {
            "display_name": "Python 3",
            "language": "python",
            "name": "python3"
        },
        "language_info": {
            "codemirror_mode": {
                "name": "ipython",
                "version": 3
            },
            "file_extension": ".py",
            "mimetype": "text/x-python",
            "name": "python",
            "nbconvert_exporter": "python",
            "pygments_lexer": "ipython3",
            "version": "3.11.13"
        }
    },
    "nbformat": 4,
    "nbformat_minor": 5
}
