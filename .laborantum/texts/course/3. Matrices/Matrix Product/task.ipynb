{
    "cells": [
        {
            "cell_type": "code",
            "execution_count": 285,
            "id": "acceacb5",
            "metadata": {},
            "outputs": [],
            "source": [
                "import numpy as np\n",
                "import json_tricks\n",
                "\n",
                "answer = {}\n",
                "\n",
                "\n",
                "inputs = json_tricks.load('inputs.json')\n"
            ]
        },
        {
            "cell_type": "markdown",
            "id": "5dbd6d2d",
            "metadata": {},
            "source": [
                "At first I can not open THIS FILES AND I TOOK 30 MINS TO SOLVE IT. YOU KNOW WHAT CAUSE IT??? \n",
                "\n",
                "                      ,                      \n",
                "\n",
                "This thing. YES JUST \"\"\"\" , \"\"\"\" this! OMG I'm crying, Coding is so fun HAHAHA //crying"
            ]
        },
        {
            "cell_type": "markdown",
            "id": "2a65a805",
            "metadata": {},
            "source": [
                "# Matrix Product II\n",
                "\n",
                "$$A_{5 \\times 10} \\  B_{10 \\times 2}\\ C_{2 \\times 30}\\ D_{30 \\times 3}\\ E_{3 \\times 9}$$\n",
                "\n",
                "1. What will be the shape of the resulting matrix?\n",
                "2. How many multiplication of numbers are required at best?"
            ]
        },
        {
            "cell_type": "code",
            "execution_count": 286,
            "id": "70ec671d",
            "metadata": {},
            "outputs": [],
            "source": [
                "answer['task1'] = {\n",
                "    '1': [5, 9],\n",
                "    '2': 424\n",
                "}\n"
            ]
        },
        {
            "cell_type": "markdown",
            "id": "846c911d",
            "metadata": {},
            "source": [
                "////SHORTNOTE////\n",
                "\n",
                "\n",
                "Where is 424 come from??\n",
                "\n",
                "\n",
                "So we use \"Matrix Chain Order\"\n",
                "\n",
                "\n",
                "The thing that he taught us in class I REMEMBERED DID'T I???? [(((AB)C)D)E]\n",
                "\n",
                "\n",
                "\n",
                "Actually we have to try a lot in this process like (((AB)C)D)E or (A(B(C(DE)))) or ((AB)((CD)E)) and so on. SO SINCERELY USE AI FOR THIS IS BEST WAY \n",
                "\n",
                "\n",
                "\n",
                "Let do for make sure I am understand\n",
                "\n",
                "\n",
                "((AB)((CD)E))\n",
                "\n",
                "\n",
                "Sol\n",
                "\n",
                " A*B = (N * M) * ( M * L) = N * M * L = 5 * 10 * 2 = 100\n",
                "\n",
                "\n",
                " C*D = (L * V) * (V * H) = L * V * H = 2 * 30 * 3 = 180\n",
                "\n",
                "\n",
                "(C*D)*E = (L * V * H ) * ( H * U ) = L * H * U = 2 * 3 * 9 = 54\n",
                "\n",
                "\n",
                "(A*B)*((C*D)*E) = (N * M * L ) * (L * V * H) * (H * U) = N * H * U = 5 * 2 * 9 = 90\n",
                "\n",
                "\n",
                "\n",
                "\n",
                "100+180+54+90 = 424\n"
            ]
        },
        {
            "cell_type": "markdown",
            "id": "a134c56f",
            "metadata": {},
            "source": [
                "# Numpy expression\n",
                "\n",
                "Using Numpy, write a function that calculates the \n",
                "following expression:\n",
                "\n",
                "$$\\exp(A^T(B + 2C) + 3I) \\mathbf x,$$\n",
                "\n",
                "where $I$ is an identity matrix of the necessary shape."
            ]
        },
        {
            "cell_type": "code",
            "execution_count": 287,
            "id": "71c02732",
            "metadata": {},
            "outputs": [],
            "source": [
                "def numpy_expression(A, B, C, x):\n",
                "    # B and C must have the same shape, but np.eye(B.shape[0]) is square and may not match\n",
                "    # Instead, add the identity after A.T @ (B + 2C)\n",
                "    inner = B + 2 * C\n",
                "    M = A.T @ inner\n",
                "    # Add 3*I where I is square of shape (M, M)\n",
                "    if M.shape[0] == M.shape[1]:\n",
                "        M_plus_I = M + 3 * np.eye(M.shape[0])\n",
                "    else:\n",
                "        # If not square, only add to the diagonal part\n",
                "        M_plus_I = M + 3 * np.eye(*M.shape)\n",
                "    expr = np.exp(M_plus_I)\n",
                "    result = expr @ x\n",
                "    return result"
            ]
        },
        {
            "cell_type": "code",
            "execution_count": 288,
            "id": "e93e082d",
            "metadata": {},
            "outputs": [],
            "source": [
                "answer['task2'] = []\n",
                "for one_input in inputs['task2']:\n",
                "    answer['task2'].append(numpy_expression(**one_input))"
            ]
        },
        {
            "cell_type": "markdown",
            "id": "2aef45b9",
            "metadata": {},
            "source": [
                "# Einstein's Rule\n",
                "\n",
                "In *Tensor Algebra*, a direct generalization of the Linear Algebra to the case of $N$-dimentional tables called *tensors* (normal matrix), the Einstein's rule exists.\n",
                "\n",
                "It works as follows: if you see a duplicating upper and lower index in the formula, that means, this index convolves.\n",
                "\n",
                "For example, the following tensor expression, summation and matrix product are equivalent:\n",
                "\n",
                "$$a_k^l b_l^m = \\sum_{l=1}^L a_k^l b_l^m = AB$$\n",
                "\n",
                "In this notation subscript means row index and superscript means column index.\n",
                "\n",
                "<details>\n",
                "<summary> Note </summary>\n",
                "\n",
                "> [!NOTE]\n",
                "> Also at some point it will be important to know that:\n",
                "> * lower index represents a contravariant dimension of a\n",
                "> tensor\n",
                "> * upper index represents a covariant dimension \n",
                "> of tensor. But let us omit this part for now.\n",
                "\n",
                "</details>\n",
                "\n",
                "# Task\n",
                "\n",
                "Calculate the following expression written using Einstein's \n",
                "rule:\n",
                "\n",
                "$$a_k^m b_m^n c_n^o d_l^k$$"
            ]
        },
        {
            "cell_type": "code",
            "execution_count": 289,
            "id": "3feb6914",
            "metadata": {},
            "outputs": [],
            "source": [
                "def einsteins_rule(A, B, C, D):\n",
                "    result = np.einsum('lk,km,mn,no->lo', D, A, B, C)\n",
                "    return result\n"
            ]
        },
        {
            "cell_type": "code",
            "execution_count": 290,
            "id": "f9cd1e7e",
            "metadata": {},
            "outputs": [],
            "source": [
                "answer['task3'] = []\n",
                "for one_input in inputs['task3']:\n",
                "    answer['task3'].append(einsteins_rule(**one_input))\n"
            ]
        },
        {
            "cell_type": "markdown",
            "id": "ad37cd42",
            "metadata": {},
            "source": [
                "# Diagonal Matrix Product\n",
                "\n",
                "You are given two square matrices: $A$ and $D$, where $A$ is a \n",
                "full matrix and $D$ is a diagonal matrix:\n",
                "\n",
                "$$\n",
                "A = \\begin{bmatrix}\n",
                "- & \\mathbf a_1 & - \\\\\n",
                "& \\vdots & \\\\\n",
                "- & \\mathbf a_N & - \\\\\n",
                "\\end{bmatrix}\n",
                "$$\n",
                "\n",
                "$$\n",
                "D = \\textrm{diag}(d_1, d_2, \\dots, d_N) = \\begin{bmatrix}\n",
                "d_1 & & & & \\\\\n",
                "& d_2 & & & \\\\\n",
                "& & d_3 & & \\\\\n",
                "& & & \\ddots & \\\\\n",
                "& & & & d_N \n",
                "\\end{bmatrix}\n",
                "$$\n",
                "\n",
                "Write a program to calculate the result of $DA$ and $AD$ in \n",
                "the fastest possible way."
            ]
        },
        {
            "cell_type": "code",
            "execution_count": 291,
            "id": "af333a41",
            "metadata": {},
            "outputs": [],
            "source": [
                "def diag_prod_DA(A, D):\n",
                "    # D is a diagonal matrix, extract the diagonal\n",
                "    d = np.diag(D)\n",
                "    DA = d[:, np.newaxis] * A\n",
                "    return DA\n",
                "\n",
                "def diag_prod_AD(A, D):\n",
                "    # D is a diagonal matrix, extract the diagonal\n",
                "    d = np.diag(D)\n",
                "    AD = A * d\n",
                "    return AD"
            ]
        },
        {
            "cell_type": "code",
            "execution_count": 292,
            "id": "68f65717",
            "metadata": {},
            "outputs": [],
            "source": [
                "answer['task4_1'] = []\n",
                "answer['task4_2'] = []\n",
                "for one_input in inputs['task4']:\n",
                "    answer['task4_1'].append(diag_prod_DA(**one_input))\n",
                "    answer['task4_2'].append(diag_prod_AD(**one_input))"
            ]
        },
        {
            "cell_type": "markdown",
            "id": "fc7b3dc4",
            "metadata": {},
            "source": [
                "# Sparse Matrix Product\n",
                "\n",
                "You are given two matrices of the same shape: $A$ and $B$. Matrix $A$ is full\n",
                "and is given in the form of `numpy.ndarray`.\n",
                "\n",
                "The second matrix $B$ is **sparse**. That means that the \n",
                "majority of the items are equal to $0$ except for $M$. This matrix is given\n",
                "as a set of non-zero elements of this matrix in form of $3 \\times M$ `numpy.ndarray` as row-column-value tuple (COO sparse matrix form):\n",
                "\n",
                "$$\n",
                "\\begin{bmatrix}\n",
                "r_1 & c_1 & v_1 \\\\\n",
                "r_2 & c_2 & v_2 \\\\\n",
                "& \\vdots & \\\\\n",
                "r_M & c_M & v_M \\\\\n",
                "\\end{bmatrix}\n",
                "$$\n",
                "\n",
                "If in this struct two items correspond to the same location, consider the latter is correct.\n",
                "\n",
                "Write the most efficient program that calculates $AB$.\n",
                "\n",
                "Also return the ratio between the number of multiplication operations that are needed to calculate the sparse product and the number of operations for full product."
            ]
        },
        {
            "cell_type": "code",
            "execution_count": 293,
            "id": "6a439900",
            "metadata": {},
            "outputs": [],
            "source": [
                "def sparse_matrix_product(A, B_sparse):\n",
                "    N, K = A.shape\n",
                "    # Ensure B_sparse is shape (M, 3)\n",
                "    if B_sparse.shape[0] == 3:\n",
                "        B_sparse = B_sparse.T\n",
                "    # Reconstruct B as a full matrix, using the last value for each (r, c)\n",
                "    M = int(B_sparse[:, 1].max()) + 1  # number of columns in B\n",
                "    B = np.zeros((K, M), dtype=float)\n",
                "    for r, c, v in B_sparse:\n",
                "        r = int(r)\n",
                "        c = int(c)\n",
                "        v = float(v)\n",
                "        B[r, c] = v  # overwrite, not accumulate\n",
                "\n",
                "    result = A @ B\n",
                "    # Count only the multiplications for nonzero elements in B\n",
                "    mult_ops = int(np.count_nonzero(B)) * N\n",
                "    full_ops = N * K * M\n",
                "    return result, float(mult_ops) / float(full_ops)"
            ]
        },
        {
            "cell_type": "code",
            "execution_count": 294,
            "id": "2db5922f",
            "metadata": {},
            "outputs": [],
            "source": [
                "answer['task5'] = []\n",
                "for one_input in inputs['task5']:\n",
                "    result, ratio = sparse_matrix_product(**one_input)\n",
                "    answer['task5'].append([result, ratio])"
            ]
        },
        {
            "cell_type": "code",
            "execution_count": 295,
            "id": "08e12548",
            "metadata": {},
            "outputs": [
                {
                    "data": {
                        "text/plain": [
                            "'{\"task1\": {\"1\": [5, 9], \"2\": 424}, \"task2\": [{\"__ndarray__\": [[-8.275908938500257e+33], [-6.29718677025919e+100], [-1.6017937662626578e+88], [-77922883127.9092], [-4.601392143156699e+144], [-1.1293345702805571e+70], [-9.841761046154011e+82], [-2.6244696123077364e+83]], \"dtype\": \"float64\", \"shape\": [8, 1], \"Corder\": true}, {\"__ndarray__\": [[-8.438356668741454e+27], [1.6618358824416089e+69]], \"dtype\": \"float64\", \"shape\": [2, 1], \"Corder\": true}, {\"__ndarray__\": [[5.979883758421911e+120], [-7.668986905261165e+144], [5.316574383475204e+86], [2.5885458717800575e+171]], \"dtype\": \"float64\", \"shape\": [4, 1], \"Corder\": true}, {\"__ndarray__\": [[8.147135599799323e+109], [-5.742291049527847e+97], [1.1833245862047797e+123], [-2.2261161390770436e+233], [2.7142900080228685e+150], [-7.272132448230352e+83]], \"dtype\": \"float64\", \"shape\": [6, 1], \"Corder\": true}, {\"__ndarray__\": [[-1.964223318681796e+87], [2.4016764986906346e+156], [-491.5186855815347]], \"dtype\": \"float64\", \"shape\": [3, 1], \"Corder\": true}, {\"__ndarray__\": [[-3.712668161401315e+147], [-4.937254096286033e+192], [-3.022855330008207e+111]], \"dtype\": \"float64\", \"shape\": [3, 1], \"Corder\": true}, {\"__ndarray__\": [[-4.69932272078773e+174], [-1.8616035756440227e+68], [2.586738928269117e+16], [-1.9603834926561277e+48], [1.5362167613107995e+181], [-2.2646026426197552e+24]], \"dtype\": \"float64\", \"shape\": [6, 1], \"Corder\": true}, {\"__ndarray__\": [[3.560293163444669e+54], [-7.911224255477557e+43], [-49.91869552254452], [-0.445263343622906], [-8.33100754706446e+23], [4.2191783343705236e+27]], \"dtype\": \"float64\", \"shape\": [6, 1], \"Corder\": true}, {\"__ndarray__\": [[-9.125522571785401e-78], [-6.691673596021347e+42], [1.7283305380185678e+58], [6.88134947840883e+27], [9.144704852915045e-83]], \"dtype\": \"float64\", \"shape\": [5, 1], \"Corder\": true}, {\"__ndarray__\": [[-2.937482111710803e-29], [-4.708527339044278e+214], [-5.62262576497649e+68]], \"dtype\": \"float64\", \"shape\": [3, 1], \"Corder\": true}], \"task3\": [{\"__ndarray__\": [[48506, -8208, -2323, -42632, -37130, 6317, -346, 28727], [-39432, -2813, 12000, 37266, 28457, -28774, 9193, 1945], [23582, 15271, -19458, 2009, -13383, -23067, 821, -35268], [-6730, 8065, 3048, 19644, 13563, -5324, -3583, -17783], [29391, 8495, -22202, -25782, -12722, 2634, -21327, 2777], [23946, -12401, 10651, -18540, -39014, -14482, 20230, 24802], [-10750, 25247, -37835, -5284, 238, 1056, -32336, -24844], [-12009, -6748, 41340, 16307, 4256, 65230, -13003, 9533]], \"dtype\": \"int64\", \"shape\": [8, 8], \"Corder\": true}, {\"__ndarray__\": [[-830, 830], [-516, 516]], \"dtype\": \"int64\", \"shape\": [2, 2], \"Corder\": true}, {\"__ndarray__\": [[3737, -3005, 2001, 4167], [10260, -5360, 4416, 5317], [9164, -304, 4252, 2955], [1789, 12291, 2981, 902]], \"dtype\": \"int64\", \"shape\": [4, 4], \"Corder\": true}, {\"__ndarray__\": [[-7132, -43627, 26225, -37002, -4029, 22759], [12604, -34143, 19871, -12877, -4428, 18386], [10135, 471, 485, 7453, -882, -2864], [-7921, 25168, -14713, -6843, 10992, -8530], [-12608, 19603, -5291, 16208, -9967, -23383], [10775, -11255, 7687, 32784, -18639, -3685]], \"dtype\": \"int64\", \"shape\": [6, 6], \"Corder\": true}, {\"__ndarray__\": [[3479, -3486, -611], [387, -1143, -3015], [-524, -291, -3040]], \"dtype\": \"int64\", \"shape\": [3, 3], \"Corder\": true}, {\"__ndarray__\": [[-2968, -3136, -648], [464, 554, 585], [-5766, -4374, -11655]], \"dtype\": \"int64\", \"shape\": [3, 3], \"Corder\": true}, {\"__ndarray__\": [[21987, 10628, 21988, 9512, -14254, 2862], [13559, 16625, 46019, 18639, -26835, -4995], [29597, 15802, -13560, 17753, -23264, -24373], [-29885, -18482, -29197, -27354, 24658, 4342], [-2292, 1900, 25073, 4470, -1086, 11279], [-4760, -15348, -34937, -22981, 15002, -6600]], \"dtype\": \"int64\", \"shape\": [6, 6], \"Corder\": true}, {\"__ndarray__\": [[11503, -6754, -1815, -10766, 1149, -8275], [-7095, -8295, 10598, -18954, 23757, 4560], [12906, -4185, 13754, -19508, 27283, -5663], [-30623, -7288, -8748, 6081, -10953, 10366], [-338, -4252, -16448, 3800, -28137, -1403], [-10174, -5932, 3717, -9211, 11584, -2094]], \"dtype\": \"int64\", \"shape\": [6, 6], \"Corder\": true}, {\"__ndarray__\": [[8012, 5161, 3784, 11445, 9975], [11218, 4253, -942, 9406, -1859], [-2770, -9366, -6886, -15593, -34320], [-7052, -11803, 1615, -13682, -23176], [-9820, -10267, -8899, -19112, -24718]], \"dtype\": \"int64\", \"shape\": [5, 5], \"Corder\": true}, {\"__ndarray__\": [[942, -5394, 1617], [1870, 2822, 749], [6300, 1440, 3612]], \"dtype\": \"int64\", \"shape\": [3, 3], \"Corder\": true}], \"task4_1\": [{\"__ndarray__\": [[-4, 2, -20, -20, 8, -18, 10, -6], [2, -10, 5, -4, -6, -8, 1, 5], [24, -18, 9, -18, 12, 18, 9, 27], [54, -9, -45, -45, 36, 63, 90, 54], [-8, -48, -56, -72, 72, -8, 64, -80], [-42, 14, -49, 35, 35, -63, 42, 63], [-8, -56, 64, 80, 80, -64, 0, 48], [6, -48, -60, -60, -18, -6, 0, 6]], \"dtype\": \"int64\", \"shape\": [8, 8], \"Corder\": true}, {\"__ndarray__\": [[-36, -6], [-3, 24]], \"dtype\": \"int64\", \"shape\": [2, 2], \"Corder\": true}, {\"__ndarray__\": [[0, 0, 0, 0], [49, -56, -63, 70], [18, 12, 2, 8], [0, 0, 0, 0]], \"dtype\": \"int64\", \"shape\": [4, 4], \"Corder\": true}, {\"__ndarray__\": [[14, 35, 63, -42, 42, 35], [4, -4, -20, -12, -36, 4], [18, -36, -9, 18, 54, 27], [-72, 0, -80, 64, -56, 64], [0, 24, 0, 56, -48, 32], [-27, -72, -81, 36, -54, -90]], \"dtype\": \"int64\", \"shape\": [6, 6], \"Corder\": true}, {\"__ndarray__\": [[-20, -5, 35], [-32, 36, 4], [-16, 0, -40]], \"dtype\": \"int64\", \"shape\": [3, 3], \"Corder\": true}, {\"__ndarray__\": [[63, -36, 36], [0, 35, 5], [-35, 63, 14]], \"dtype\": \"int64\", \"shape\": [3, 3], \"Corder\": true}, {\"__ndarray__\": [[21, 15, 12, -21, 18, -27], [64, 32, -24, 32, 48, 48], [18, 10, -8, 2, 8, 12], [-90, 18, 63, 18, 63, -54], [-10, 35, -30, 40, -30, 0], [-9, 7, 9, -9, -5, -7]], \"dtype\": \"int64\", \"shape\": [6, 6], \"Corder\": true}, {\"__ndarray__\": [[-81, 45, -81, -9, -81, 45], [-40, -64, 32, -8, -32, 24], [25, 5, 40, -40, -30, 20], [-36, 28, -12, -36, -16, 12], [36, 81, 27, -18, -27, 54], [-63, -56, -21, 7, -70, -7]], \"dtype\": \"int64\", \"shape\": [6, 6], \"Corder\": true}, {\"__ndarray__\": [[63, 54, 9, -45, -27], [-80, 10, 100, -20, -60], [32, 12, -12, 32, -20], [12, 54, 36, 12, -30], [-6, -3, -6, 3, 0]], \"dtype\": \"int64\", \"shape\": [5, 5], \"Corder\": true}, {\"__ndarray__\": [[2, 12, 12], [-6, -36, -48], [-10, -14, 14]], \"dtype\": \"int64\", \"shape\": [3, 3], \"Corder\": true}], \"task4_2\": [{\"__ndarray__\": [[-4, 1, -30, 90, 32, -63, -40, -18], [4, -10, 15, 36, -48, -56, -8, 30], [16, -6, 9, 54, 32, 42, -24, 54], [-12, 1, 15, -45, -32, -49, 80, -36], [-2, -6, -21, 81, 72, -7, -64, -60], [-12, 2, -21, -45, 40, -63, -48, 54], [2, 7, -24, 90, -80, 56, 0, -36], [2, -8, -30, 90, -24, -7, 0, 6]], \"dtype\": \"int64\", \"shape\": [8, 8], \"Corder\": true}, {\"__ndarray__\": [[-36, -3], [-6, 24]], \"dtype\": \"int64\", \"shape\": [2, 2], \"Corder\": true}, {\"__ndarray__\": [[0, -7, -12, 0], [0, -56, 18, 0], [0, -42, 2, 0], [0, -21, -10, 0]], \"dtype\": \"int64\", \"shape\": [4, 4], \"Corder\": true}, {\"__ndarray__\": [[14, -20, -81, 48, 48, -45], [-7, -4, -45, -24, 72, 9], [-14, -16, -9, 16, -48, 27], [63, 0, -90, 64, 56, 72], [0, -12, 0, -56, -48, -36], [21, -32, -81, 32, 48, -90]], \"dtype\": \"int64\", \"shape\": [6, 6], \"Corder\": true}, {\"__ndarray__\": [[-20, 4, -28], [40, 36, 4], [20, 0, -40]], \"dtype\": \"int64\", \"shape\": [3, 3], \"Corder\": true}, {\"__ndarray__\": [[63, -20, 28], [0, 35, 7], [-45, 45, 14]], \"dtype\": \"int64\", \"shape\": [3, 3], \"Corder\": true}, {\"__ndarray__\": [[21, 40, 8, 63, 30, -9], [24, 32, -6, -36, 30, 6], [27, 40, -8, -9, 20, 6], [30, -16, -14, 18, -35, 6], [-6, 56, -12, -72, -30, 0], [-27, 56, 18, 81, -25, -7]], \"dtype\": \"int64\", \"shape\": [6, 6], \"Corder\": true}, {\"__ndarray__\": [[-81, -40, 45, 4, -81, 35], [45, -64, 20, -4, 36, -21], [-45, 8, 40, -32, 54, -28], [81, 56, -15, -36, 36, -21], [36, -72, -15, 8, -27, 42], [-81, 64, 15, -4, -90, -7]], \"dtype\": \"int64\", \"shape\": [6, 6], \"Corder\": true}, {\"__ndarray__\": [[63, -60, -4, -30, 3], [72, 10, 40, 12, -6], [-72, 30, -12, -48, -5], [18, -90, -24, 12, 5], [54, -30, -24, -18, 0]], \"dtype\": \"int64\", \"shape\": [5, 5], \"Corder\": true}, {\"__ndarray__\": [[2, -36, -12], [2, -36, -16], [10, -42, 14]], \"dtype\": \"int64\", \"shape\": [3, 3], \"Corder\": true}], \"task5\": [[{\"__ndarray__\": [[6.0, -60.0, 10.0, 63.0, 66.0], [-1.0, -98.0, -7.0, -14.0, -39.0], [34.0, 140.0, 6.0, 14.0, -30.0], [-48.0, -50.0, 40.0, -49.0, -8.0], [26.0, 0.0, -18.0, -14.0, -70.0], [-36.0, -34.0, -60.0, -35.0, 80.0], [-25.0, -32.0, -7.0, 14.0, 77.0], [-72.0, -22.0, -24.0, -63.0, 80.0]], \"dtype\": \"float64\", \"shape\": [8, 5], \"Corder\": true}, 0.5], [{\"__ndarray__\": [[-18.0, 116.0, 0.0, 3.0], [-22.0, -126.0, 0.0, -32.0]], \"dtype\": \"float64\", \"shape\": [2, 4], \"Corder\": true}, 0.2916666666666667], [{\"__ndarray__\": [[0.0, 24.0, 0.0, -2.0], [0.0, 27.0, 0.0, 4.0], [0.0, -18.0, 0.0, 12.0], [0.0, -3.0, 0.0, 16.0]], \"dtype\": \"float64\", \"shape\": [4, 4], \"Corder\": true}, 0.0625], [{\"__ndarray__\": [[0.0, -9.0, 0.0, 0.0, -18.0, -54.0, -34.0], [28.0, 24.0, 0.0, 0.0, 26.0, -20.0, 62.0], [-12.0, 49.0, 0.0, 0.0, -24.0, 0.0, 50.0], [-32.0, 18.0, 0.0, 0.0, 88.0, -40.0, 38.0], [34.0, 9.0, 0.0, 0.0, -76.0, -53.0, 34.0], [-14.0, -27.0, 0.0, 0.0, 50.0, 37.0, -108.0]], \"dtype\": \"float64\", \"shape\": [6, 7], \"Corder\": true}, 0.37142857142857144], [{\"__ndarray__\": [[101.0, -54.0, 97.0, 100.0, 22.0, -36.0, -87.0, -160.0], [-12.0, 98.0, -78.0, -119.0, 6.0, 32.0, 36.0, 51.0], [-106.0, -56.0, -10.0, -26.0, 19.0, -92.0, -39.0, 21.0]], \"dtype\": \"float64\", \"shape\": [3, 8], \"Corder\": true}, 0.453125], [{\"__ndarray__\": [[-59.0, 0.0, 9.0, -22.0, -21.0, 103.0, 77.0], [-44.0, 14.0, 93.0, -26.0, 22.0, -100.0, 57.0], [32.0, -17.0, -41.0, 24.0, 25.0, 1.0, -61.0]], \"dtype\": \"float64\", \"shape\": [3, 7], \"Corder\": true}, 0.4107142857142857], [{\"__ndarray__\": [[-71.0, 58.0, 42.0, 49.0, 36.0, -22.0], [-39.0, 60.0, -44.0, -1.0, 56.0, 50.0], [-35.0, 0.0, 6.0, 24.0, -15.0, -5.0], [23.0, 64.0, -12.0, 4.0, 1.0, -12.0], [-117.0, -81.0, -76.0, -135.0, -69.0, -13.0], [81.0, -8.0, 21.0, 102.0, 52.0, 38.0]], \"dtype\": \"float64\", \"shape\": [6, 6], \"Corder\": true}, 0.4583333333333333], [{\"__ndarray__\": [[16.0, -68.0], [59.0, 83.0], [-28.0, -102.0], [23.0, -20.0], [18.0, 150.0], [-79.0, 15.0]], \"dtype\": \"float64\", \"shape\": [6, 2], \"Corder\": true}, 0.6], [{\"__ndarray__\": [[0.0, -8.0, 0.0, 0.0, -14.0, 0.0, -12.0], [-42.0, -62.0, 54.0, -24.0, -26.0, 42.0, 96.0], [42.0, 38.0, -54.0, 24.0, -16.0, -42.0, -12.0], [-14.0, -10.0, 18.0, -8.0, 10.0, 14.0, -4.0], [0.0, 32.0, 0.0, 0.0, 56.0, 0.0, 18.0]], \"dtype\": \"float64\", \"shape\": [5, 7], \"Corder\": true}, 0.47619047619047616], [{\"__ndarray__\": [[-6.0, 0.0, 0.0, 8.0, -12.0, -36.0], [18.0, 0.0, -8.0, 48.0, -7.0, -45.0], [27.0, 0.0, -12.0, -48.0, 18.0, 18.0]], \"dtype\": \"float64\", \"shape\": [3, 6], \"Corder\": true}, 0.4166666666666667]]}'"
                        ]
                    },
                    "execution_count": 295,
                    "metadata": {},
                    "output_type": "execute_result"
                }
            ],
            "source": [
                "json_tricks.dump(answer, '.answer.json')"
            ]
        }
    ],
    "metadata": {
        "kernelspec": {
            "display_name": "Python 3",
            "language": "python",
            "name": "python3"
        },
        "language_info": {
            "codemirror_mode": {
                "name": "ipython",
                "version": 3
            },
            "file_extension": ".py",
            "mimetype": "text/x-python",
            "name": "python",
            "nbconvert_exporter": "python",
            "pygments_lexer": "ipython3",
            "version": "3.11.13"
        }
    },
    "nbformat": 4,
    "nbformat_minor": 5
}
