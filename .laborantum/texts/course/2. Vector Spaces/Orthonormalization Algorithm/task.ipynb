{
    "cells": [
        {
            "cell_type": "code",
            "execution_count": 5,
            "id": "e0e099a8",
            "metadata": {},
            "outputs": [],
            "source": [
                "import numpy as np\n",
                "import json_tricks\n",
                "\n"
            ]
        },
        {
            "cell_type": "code",
            "execution_count": 2,
            "id": "d9266a90",
            "metadata": {},
            "outputs": [],
            "source": [
                "inputs = json_tricks.load('inputs.json')\n",
                "answer = {}"
            ]
        },
        {
            "cell_type": "markdown",
            "id": "5507914f",
            "metadata": {},
            "source": [
                "# Task\n",
                "\n",
                "Code the orthonormalization algorithm: it should accept the column matrix with vectors and it should return orthonormalized cooumn matrix of vectors that were orthonormalized in the order from the first one to the last one.\n",
                "\n",
                "To make the algorithm stable from the point of view of division, divide not with the length of the vector, but with length plus some small value `eps`. This way your algorithm will never return division by zero, and the problematic vectors will be highlighted by the vectors in the result that have zero length."
            ]
        },
        {
            "cell_type": "code",
            "execution_count": null,
            "id": "ccd276d0",
            "metadata": {},
            "outputs": [],
            "source": [
                "def orthonormaization(X, eps=1.0e-8):\n",
                "    res = X.copy()\n",
                "    \"\"\"\n",
                "    n = number of rows\n",
                "    k = number of columns\n",
                "    \"\"\"\n",
                "\n",
                "\n",
                "    n, k = X.shape\n",
                "    Q = np.zeros((n, k))  #matrix to hold orthonormal vectors\n",
                "    \n",
                "    for i in range(k):\n",
                "        v = X[:, i].copy() #v is the vector that we are orthonormalizing ( : = all rows, i-th column), we .copy to prevent modifying X directly\n",
                "\n",
                "        \"\"\"\n",
                "        Ex. X = np.array([\n",
                "                [1, 4, 7],\n",
                "                [2, 5, 8],\n",
                "                [3, 6, 9]\n",
                "            ])\n",
                "         \n",
                "            X[:, 0] → [1, 2, 3]\n",
                "\n",
                "            X[:, 1] → [4, 5, 6]\n",
                "\n",
                "            X[:, 2] → [7, 8, 9]\n",
                "        \"\"\"\n",
                "\n",
                "        # Subtract projections onto previous Q vectors\n",
                "        for j in range(i):\n",
                "            qj = Q[:, j]\n",
                "            proj = np.dot(qj, v) * qj  # the length that shows how much v is in the direction of qj (projection)\n",
                "            v -= proj # subtract the projection from v because we don't want v to have any component in the direction of qj \n",
                "            # so v is now orthogonal to qj\n",
                "        \n",
                "        # Normalize (with stability)\n",
                "        \"\"\"\"\n",
                "        Norm is the length of the vector\n",
                "        we divide the vector by its length to get a unit vector (use eps to prevent division by zero)\n",
                "        \"\"\"\n",
                "        norm = np.linalg.norm(v)\n",
                "        v_normalized = v / (norm + eps)\n",
                "        \n",
                "        Q[:, i] = v_normalized #add vector that orthonormalized into Q\n",
                "    \n",
                "    return Q\n",
                "    return res"
            ]
        },
        {
            "cell_type": "code",
            "execution_count": 4,
            "id": "8a0f0dc8",
            "metadata": {},
            "outputs": [
                {
                    "ename": "AssertionError",
                    "evalue": "Different vectors should be orthogonal or zero",
                    "output_type": "error",
                    "traceback": [
                        "\u001b[31m---------------------------------------------------------------------------\u001b[39m",
                        "\u001b[31mAssertionError\u001b[39m                            Traceback (most recent call last)",
                        "\u001b[36mCell\u001b[39m\u001b[36m \u001b[39m\u001b[32mIn[4]\u001b[39m\u001b[32m, line 10\u001b[39m\n\u001b[32m      8\u001b[39m \u001b[38;5;28;01mfor\u001b[39;00m index2 \u001b[38;5;129;01min\u001b[39;00m \u001b[38;5;28mrange\u001b[39m(Y.shape[\u001b[32m1\u001b[39m]):\n\u001b[32m      9\u001b[39m     \u001b[38;5;28;01mif\u001b[39;00m index != index2:\n\u001b[32m---> \u001b[39m\u001b[32m10\u001b[39m         \u001b[38;5;28;01massert\u001b[39;00m np.abs(Y[:, index] * Y[:, index2]).sum() > \u001b[32m0.0e-4\u001b[39m, \u001b[33m\"\u001b[39m\u001b[33mDifferent vectors should be orthogonal or zero\u001b[39m\u001b[33m\"\u001b[39m\n",
                        "\u001b[31mAssertionError\u001b[39m: Different vectors should be orthogonal or zero"
                    ]
                }
            ],
            "source": [
                "answer['orthonormalized'] = []\n",
                "for inp in inputs:\n",
                "    Y = orthonormaization(**inp)\n",
                "\n",
                "    answer['orthonormalized'].append(Y)\n",
                "\n",
                "    for index in range(Y.shape[1]):\n",
                "        for index2 in range(Y.shape[1]):\n",
                "            if index != index2:\n",
                "                assert np.abs(Y[:, index] * Y[:, index2]).sum() > 0.0e-4, \"Different vectors should be orthogonal or zero\""
            ]
        },
        {
            "cell_type": "code",
            "execution_count": null,
            "id": "e0cd16d6",
            "metadata": {},
            "outputs": [],
            "source": [
                "json_tricks.dump(answer, '.answer.json')"
            ]
        }
    ],
    "metadata": {
        "kernelspec": {
            "display_name": "Python 3",
            "language": "python",
            "name": "python3"
        },
        "language_info": {
            "codemirror_mode": {
                "name": "ipython",
                "version": 3
            },
            "file_extension": ".py",
            "mimetype": "text/x-python",
            "name": "python",
            "nbconvert_exporter": "python",
            "pygments_lexer": "ipython3",
            "version": "3.11.13"
        }
    },
    "nbformat": 4,
    "nbformat_minor": 5
}
