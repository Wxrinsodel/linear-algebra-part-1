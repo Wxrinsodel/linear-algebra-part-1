{
    "cells": [
        {
            "cell_type": "code",
            "execution_count": 47,
            "id": "6f72d992",
            "metadata": {},
            "outputs": [],
            "source": [
                "import numpy as np\n",
                "import json_tricks\n",
                "\n",
                "\n",
                "inputs = json_tricks.load('inputs.json')\n",
                "answer = {}\n"
            ]
        },
        {
            "cell_type": "markdown",
            "id": "df6511fd",
            "metadata": {},
            "source": [
                "# Task"
            ]
        },
        {
            "cell_type": "markdown",
            "id": "b9f89b1e",
            "metadata": {},
            "source": [
                "You are given a linear hyperspace by 2 entities:\n",
                "- a vector that belongs to the hyperspace $\\mathbf x_0$\n",
                "- a normal vector to this hyperspace $\\mathbf w$\n",
                "\n",
                "So that the hyperplane is given by equation:\n",
                "\n",
                "$\\left<\\mathbf w, \\mathbf x - \\mathbf x_0\\right> = 0$\n",
                "\n",
                "You are also given another vector $\\mathbf y$. \n",
                "\n",
                "Find distance from this vector to the given hyperplane."
            ]
        },
        {
            "cell_type": "code",
            "execution_count": 48,
            "id": "6f14336b",
            "metadata": {},
            "outputs": [],
            "source": [
                "def distance_to_hyperplane_1(y, w, x0):\n",
                "    # Compute the vector from x0 to y\n",
                "    y_minus_x0 = y - x0\n",
                "    \n",
                "    # Compute the dot product of w and (y - x0)\n",
                "    dot_product = np.dot(w, y_minus_x0)\n",
                "    \n",
                "    # Compute the norm of w\n",
                "    norm_w = np.linalg.norm(w)\n",
                "    \n",
                "    # Compute the distance\n",
                "    distance = np.abs(dot_product) / norm_w\n",
                "    \n",
                "    return distance"
            ]
        },
        {
            "cell_type": "code",
            "execution_count": 49,
            "id": "2c3b30e3",
            "metadata": {},
            "outputs": [],
            "source": [
                "answer['task1'] = []\n",
                "for one_input in inputs['task1']:\n",
                "    answer['task1'].append(\n",
                "        distance_to_hyperplane_1(**one_input))"
            ]
        },
        {
            "cell_type": "markdown",
            "id": "d472a155",
            "metadata": {},
            "source": [
                "# Task"
            ]
        },
        {
            "cell_type": "markdown",
            "id": "21387b9f",
            "metadata": {},
            "source": [
                "You are given a linear hyperspace by 2 entities:\n",
                "- a vector that belongs to the hyperspace $\\mathbf x_0$\n",
                "- a set of direction vectors for this hyperspace $\\mathbf a_1, \\dots, \\mathbf a_K$ in form of column-matrix \n",
                "    \n",
                "    $A = \\begin{bmatrix}\n",
                "    | & | & & | \\\\\n",
                "    \\mathbf a_1 & \\mathbf a_2 & \\dots & \\mathbf a_K \\\\\n",
                "    | & | & & | \\\\\n",
                "    \\end{bmatrix}$\n",
                "\n",
                "So that the hyperplane is given by equation:\n",
                "\n",
                "$\\mathbf x_0 + \\sum_{k=1}^K \\alpha_k \\mathbf a_k = \\mathbf 0$\n",
                "\n",
                "You are also given another vector $\\mathbf y$. \n",
                "\n",
                "Find distance from this vector to the given hyperplane."
            ]
        },
        {
            "cell_type": "code",
            "execution_count": 50,
            "id": "a1feed22",
            "metadata": {},
            "outputs": [],
            "source": [
                "def distance_to_hyperplane_2(y, A, x0):\n",
                "    y = np.array(y)\n",
                "    A = np.array(A)\n",
                "    x0 = np.array(x0)\n",
                "    \n",
                "    # Compute y - x0\n",
                "    y_minus_x0 = y - x0\n",
                "    \n",
                "    # Compute the projection matrix P = A (A^T A)^-1 A^T\n",
                "    # Handle cases where A^T A is not invertible (use pseudo-inverse)\n",
                "    P = A @ np.linalg.pinv(A.T @ A) @ A.T\n",
                "    \n",
                "    # Compute the residual\n",
                "    residual = y_minus_x0 - P @ y_minus_x0\n",
                "    \n",
                "    # Distance is the norm of the residual\n",
                "    distance = np.linalg.norm(residual)\n",
                "    \n",
                "    return distance\n"
            ]
        },
        {
            "cell_type": "code",
            "execution_count": 51,
            "id": "0c2de6b6",
            "metadata": {},
            "outputs": [],
            "source": [
                "answer['task2'] = []\n",
                "for one_input in inputs['task2']:\n",
                "    answer['task2'].append(\n",
                "        distance_to_hyperplane_2(**one_input))"
            ]
        },
        {
            "cell_type": "markdown",
            "id": "ecea6a3e",
            "metadata": {},
            "source": [
                "# Task"
            ]
        },
        {
            "cell_type": "markdown",
            "id": "db4d58c6",
            "metadata": {},
            "source": [
                "You are given 2 linear hyperspaces, each defined by 2 entities:\n",
                "- a vector that belongs to the hyperspace $\\mathbf x_0$\n",
                "- a set of direction vectors for this hyperspace $\\mathbf a_1, \\dots, \\mathbf a_K$ in form of column-matrix \n",
                "\n",
                "So that each of the hyperplanes is given by equation:\n",
                "\n",
                "$\\mathbf x_0 + \\sum_{k=1}^K \\alpha_k \\mathbf a_k = \\mathbf 0$\n",
                "\n",
                "Find distance between these hyperplanes."
            ]
        },
        {
            "cell_type": "code",
            "execution_count": null,
            "id": "af62102a",
            "metadata": {},
            "outputs": [],
            "source": [
                "def distance_to_hyperplane_3(A, x0, B, y0):\n",
                "\n",
                "    # Convert inputs to numpy arrays\n",
                "    A = np.array(A, dtype=float)\n",
                "    x0 = np.array(x0, dtype=float)\n",
                "    B = np.array(B, dtype=float)\n",
                "    y0 = np.array(y0, dtype=float)\n",
                "    \n",
                "    # Ensure matrices are 2D\n",
                "    if A.ndim == 1:\n",
                "        A = A.reshape(-1, 1)\n",
                "    if B.ndim == 1:\n",
                "        B = B.reshape(-1, 1)\n",
                "    \n",
                "    # Compute difference between base points\n",
                "    diff = y0 - x0\n",
                "    \n",
                "    # Check if hyperplanes are parallel\n",
                "    # Method 1: Compare null spaces\n",
                "    def nullspace(A, atol=1e-13):\n",
                "        u, s, vh = np.linalg.svd(A)\n",
                "        tol = max(atol, s.max() * max(A.shape) * np.finfo(s.dtype).eps)\n",
                "        nnz = (s >= tol).sum()\n",
                "        ns = vh[nnz:].conj().T\n",
                "        return ns\n",
                "    \n",
                "    ns_A = nullspace(A.T)\n",
                "    ns_B = nullspace(B.T)\n",
                "    \n",
                "    # If null spaces are not equal, hyperplanes intersect\n",
                "    if ns_A.shape[1] > 0 and ns_B.shape[1] > 0:\n",
                "        # Check if null spaces are parallel\n",
                "        if np.linalg.matrix_rank(np.hstack((ns_A, ns_B))) > max(ns_A.shape[1], ns_B.shape[1]):\n",
                "            return 0.0\n",
                "    \n",
                "    # If we get here, hyperplanes are parallel\n",
                "    # Compute orthogonal complement of A's column space\n",
                "    Q, _ = np.linalg.qr(A)\n",
                "    \n",
                "    # Project difference vector onto orthogonal complement\n",
                "    if Q.size > 0:\n",
                "        proj = Q @ (Q.T @ diff)\n",
                "        residual = diff - proj\n",
                "    else:\n",
                "        residual = diff\n",
                "    \n",
                "    distance = np.linalg.norm(residual)\n",
                "    \n",
                "    return distance"
            ]
        },
        {
            "cell_type": "code",
            "execution_count": 53,
            "id": "97fb9e0d",
            "metadata": {},
            "outputs": [],
            "source": [
                "answer['task3'] = []\n",
                "for one_input in inputs['task3']:\n",
                "    answer['task3'].append(\n",
                "        distance_to_hyperplane_3(**one_input))"
            ]
        },
        {
            "cell_type": "code",
            "execution_count": 54,
            "id": "3313eaf1",
            "metadata": {},
            "outputs": [
                {
                    "data": {
                        "text/plain": [
                            "'{\"task1\": [1.1611015532036637, 1.2169686348578783, 3.8171960993534175, 2.1577367083828145, 17.53449972356085, 13.749230523405476, 0.11441551070947108, 0.9750002110024923, 2.0481280123278074, 0.4178554470186725, 7.299732493572025, 5.405127802564358, 2.0541374149458744, 6.71079347281296, 3.03653640842388, 9.498185286556286, 3.7630890450319083, 1.8641906049463526, 10.670770020027398, 5.291772589866002, 0.912245460839306, 0.20732586478679277, 12.816310409006174, 1.6373225835853016, 6.291571550369559, 20.239709319388293, 16.466083091274903, 13.474719001142073, 5.2761044442380856, 0.7250110520819842, 4.519523979103389, 4.225904366704887, 4.775521858228876, 13.912436341952132, 7.24644943484495, 9.313787360469487, 1.0596535411727601, 5.682048493486052, 4.5807379490262905, 3.3300869947532497, 5.307227776030219, 5.6272294256742645, 4.913975701062781, 4.802205375719392, 6.501355432613329, 11.47165060247919, 1.1319709719592113, 4.803995448402746, 3.272807297357087, 15.777869833110813, 4.517699029348238, 0.17814530949575066, 3.5284844379917275, 5.934930515784213, 6.125013426408485, 8.159217498552128, 5.019810939931819, 0.408248290463863, 7.4957996896270505, 4.283283920775676, 0.2637521893583148, 2.049056675010037, 6.8132996874920275, 8.405557343559956, 2.999321190171195, 5.6285099470110636, 3.655702647879198, 2.0465731207219395, 5.879747322073336, 9.329263895676059, 3.139348229106255, 0.5607987647363063, 0.6950480468569159, 10.191007784407427, 4.568082535241728, 9.192388155425117, 1.0021428596001425, 12.690431782391386, 7.765802747153207, 3.212717121212626, 4.218792040149278, 3.5777087639996634, 0.769800358919501, 0.8945002144062506, 5.085382100797452, 6.804547614641353, 6.163512150222625, 2.914609664251715, 7.816784172767301, 0.46205845409189783, 12.28312270520947, 2.0787069844672015, 19.79524821394902, 8.642489395470479, 9.065168465359845, 6.214172255980044, 6.830992648790024, 8.546023022424297, 7.3876871941035835, 0.16442642142942065], \"task2\": [29.629844392546175, 21.271746037577156, 39.16757069551348, 42.51326464355225, 25.824123847066797, 34.731984271986846, 21.55885231720954, 33.37216354216304, 11.67259342019464, 16.00268923632796, 43.12657326792424, 34.21997853404908, 20.888216691870173, 12.78829382523857, 27.740498610723492, 60.28458344760416, 47.81311500916767, 39.20795949308539, 44.99855363308826, 50.86446402302332, 38.831161164047224, 59.39295748440299, 25.413911491336087, 71.75945843853157, 22.967606359609235, 38.847317840059304, 49.725404437222515, 13.255726525328052, 46.97814442596342, 59.346138637610295, 30.025694421014336, 28.487306553644515, 11.630961036030865, 44.00182121996451, 50.829570692200264, 26.300703285972844, 28.636776340207486, 26.64458362899459, 17.962237685763508, 79.26970361214435, 37.71746977588836, 42.45943959519045, 31.750440692451114, 54.19201835801993, 37.18292776267721, 31.233139161747935, 10.094938929963206, 11.407907383792741, 67.0280759933574, 13.732450981216028, 46.140899359836254, 27.233694468304318, 13.353611495921117, 31.34003212071138, 23.56011700229123, 10.784098036359472, 52.597953935085314, 26.188089983639525, 24.203237376117908, 32.1709644024589, 60.342927225129074, 14.150821189505965, 21.34959611292726, 59.814872666844806, 53.61417093306552, 19.769416442436167, 57.50189702547936, 47.79943428631007, 56.56370997403236, 28.088648956083066, 41.14633980228737, 60.336770829158716, 50.78064494566631, 20.681602914200077, 58.59364732196158, 30.717947765057918, 18.29047178467466, 40.40300486527525, 38.88383273712685, 33.543949317442326, 36.07503985563126, 45.40302984828622, 14.018547893393599, 13.003710284704978, 34.480909699518236, 53.84230367340939, 38.769572339816506, 63.14959329256112, 63.49028812855116, 46.36631004852381, 30.669196636966724, 37.70090641078936, 74.2659523204043, 44.22673034873904, 47.638730579388145, 93.14152630609834, 42.01841386689153, 50.06499042492482, 28.87958412285847, 60.53936925942109], \"task3\": [0.0, 0.0, 0.0, 0.0, 0.0, 0.0, 0.0, 0.0, 0.0, 0.0, 0.0, 0.0, 0.0, 0.0, 0.0, 0.0, 0.0, 0.0, 0.0, 0.0, 0.0, 0.0, 0.0, 0.0, 0.0, 0.0, 0.0, 0.0, 0.0, 0.0, 0.0, 0.0, 0.0, 0.0, 0.0, 0.0, 0.0, 0.0, 0.0, 0.0, 0.0, 0.0, 0.0, 0.0, 0.0, 0.0, 0.0, 0.0, 0.0, 0.0, 0.0, 0.0, 0.0, 0.0, 0.0, 0.0, 0.0, 0.0, 0.0, 0.0, 0.0, 0.0, 0.0, 0.0, 0.0, 0.0, 0.0, 0.0, 0.0, 0.0, 0.0, 0.0, 0.0, 0.0, 0.0, 0.0, 0.0, 0.0, 0.0, 0.0, 0.0, 0.0, 0.0, 0.0, 0.0, 0.0, 0.0, 0.0, 0.0, 0.0, 0.0, 0.0, 0.0, 0.0, 0.0, 0.0, 0.0, 0.0, 0.0, 0.0]}'"
                        ]
                    },
                    "execution_count": 54,
                    "metadata": {},
                    "output_type": "execute_result"
                }
            ],
            "source": [
                "json_tricks.dump(answer, '.answer.json')"
            ]
        }
    ],
    "metadata": {
        "kernelspec": {
            "display_name": "Python 3",
            "language": "python",
            "name": "python3"
        },
        "language_info": {
            "codemirror_mode": {
                "name": "ipython",
                "version": 3
            },
            "file_extension": ".py",
            "mimetype": "text/x-python",
            "name": "python",
            "nbconvert_exporter": "python",
            "pygments_lexer": "ipython3",
            "version": "3.11.13"
        }
    },
    "nbformat": 4,
    "nbformat_minor": 5
}
