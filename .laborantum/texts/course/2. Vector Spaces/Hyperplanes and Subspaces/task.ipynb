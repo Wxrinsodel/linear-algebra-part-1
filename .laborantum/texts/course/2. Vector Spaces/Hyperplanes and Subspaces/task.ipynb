{
    "cells": [
        {
            "cell_type": "code",
            "execution_count": 9,
            "id": "6f72d992",
            "metadata": {},
            "outputs": [],
            "source": [
                "import numpy as np\n",
                "import json_tricks\n",
                "import os\n",
                "\n",
                "if os.path.exists('.inputs.json'):\n",
                "\tinputs = json_tricks.load('.inputs.json')\n",
                "else:\n",
                "\tinputs = {}\n",
                "\n",
<<<<<<< HEAD
=======
                "inputs = json_tricks.load('inputs/inputs.json')\n",
>>>>>>> upstream/main
                "answer = {}\n"
            ]
        },
        {
            "cell_type": "markdown",
            "id": "df6511fd",
            "metadata": {},
            "source": [
                "# Task"
            ]
        },
        {
            "cell_type": "markdown",
            "id": "b9f89b1e",
            "metadata": {},
            "source": [
                "You are given a linear hyperspace by 2 entities:\n",
                "- a vector that belongs to the hyperspace $\\mathbf x_0$\n",
                "- a normal vector to this hyperspace $\\mathbf w$\n",
                "\n",
                "So that the hyperplane is given by equation:\n",
                "\n",
                "$\\left<\\mathbf w, \\mathbf x - \\mathbf x_0\\right> = 0$\n",
                "\n",
                "You are also given another vector $\\mathbf y$. \n",
                "\n",
                "Find distance from this vector to the given hyperplane."
            ]
        },
        {
            "cell_type": "code",
<<<<<<< HEAD
            "execution_count": 10,
=======
            "execution_count": 4,
>>>>>>> upstream/main
            "id": "6f14336b",
            "metadata": {},
            "outputs": [],
            "source": [
                "def distance_to_hyperplane_1(y, w, x0):\n",
                "    y = np.array(y)\n",
                "    w = np.array(w)\n",
                "    x0 = np.array(x0)\n",
                "    y_minus_x0 = y - x0\n",
                "    dot_product = np.dot(w, y_minus_x0)\n",
                "    norm_w = np.linalg.norm(w)\n",
                "    distance = np.abs(dot_product) / norm_w\n",
                "    return distance.item()  # Convert np.float64 to native float"
            ]
        },
        {
            "cell_type": "code",
<<<<<<< HEAD
            "execution_count": 11,
=======
            "execution_count": 5,
>>>>>>> upstream/main
            "id": "2c3b30e3",
            "metadata": {},
            "outputs": [],
            "source": [
                "answer['task1'] = []\n",
                "if 'task1' in inputs:\n",
                "    for one_input in inputs['task1']:\n",
                "        answer['task1'].append(\n",
                "            distance_to_hyperplane_1(**one_input))"
            ]
        },
        {
            "cell_type": "markdown",
            "id": "d472a155",
            "metadata": {},
            "source": [
                "# Task"
            ]
        },
        {
            "cell_type": "markdown",
            "id": "21387b9f",
            "metadata": {},
            "source": [
                "You are given a linear hyperspace by 2 entities:\n",
                "- a vector that belongs to the hyperspace $\\mathbf x_0$\n",
                "- a set of direction vectors for this hyperspace $\\mathbf a_1, \\dots, \\mathbf a_K$ in form of column-matrix \n",
                "    \n",
                "    $A = \\begin{bmatrix}\n",
                "    | & | & & | \\\\\n",
                "    \\mathbf a_1 & \\mathbf a_2 & \\dots & \\mathbf a_K \\\\\n",
                "    | & | & & | \\\\\n",
                "    \\end{bmatrix}$\n",
                "\n",
                "So that the hyperplane is given by equation:\n",
                "\n",
                "$\\mathbf x_0 + \\sum_{k=1}^K \\alpha_k \\mathbf a_k = \\mathbf 0$\n",
                "\n",
                "You are also given another vector $\\mathbf y$. \n",
                "\n",
                "Find distance from this vector to the given hyperplane."
            ]
        },
        {
            "cell_type": "code",
<<<<<<< HEAD
            "execution_count": 12,
=======
            "execution_count": 6,
>>>>>>> upstream/main
            "id": "a1feed22",
            "metadata": {},
            "outputs": [],
            "source": [
                "def distance_to_hyperplane_2(y, A, x0):\n",
                "    y = np.array(y)\n",
                "    A = np.array(A)\n",
                "    x0 = np.array(x0)\n",
                "    \n",
                "    # Compute y - x0\n",
                "    y_minus_x0 = y - x0\n",
                "    \n",
                "    # Compute the projection matrix P = A (A^T A)^-1 A^T\n",
                "    # Handle cases where A^T A is not invertible (use pseudo-inverse)\n",
                "    P = A @ np.linalg.pinv(A.T @ A) @ A.T\n",
                "    \n",
                "    # Compute the residual\n",
                "    residual = y_minus_x0 - P @ y_minus_x0\n",
                "    \n",
                "    # Distance is the norm of the residual\n",
                "    distance = np.linalg.norm(residual)\n",
                "    \n",
                "    return distance\n"
            ]
        },
        {
            "cell_type": "code",
<<<<<<< HEAD
            "execution_count": 13,
=======
            "execution_count": 7,
>>>>>>> upstream/main
            "id": "0c2de6b6",
            "metadata": {},
            "outputs": [],
            "source": [
                "answer['task2'] = []\n",
                "if 'task2' in inputs:\n",
                "    for one_input in inputs['task2']:\n",
                "        answer['task2'].append(\n",
                "            distance_to_hyperplane_2(**one_input))"
            ]
        },
        {
            "cell_type": "markdown",
            "id": "ecea6a3e",
            "metadata": {},
            "source": [
                "# Task"
            ]
        },
        {
            "cell_type": "markdown",
            "id": "db4d58c6",
            "metadata": {},
            "source": [
                "You are given 2 linear hyperspaces, each defined by 2 entities:\n",
                "- a vector that belongs to the hyperspace $\\mathbf x_0$\n",
                "- a set of direction vectors for this hyperspace $\\mathbf a_1, \\dots, \\mathbf a_K$ in form of column-matrix \n",
                "\n",
                "So that each of the hyperplanes is given by equation:\n",
                "\n",
                "$\\mathbf x_0 + \\sum_{k=1}^K \\alpha_k \\mathbf a_k = \\mathbf 0$\n",
                "\n",
                "Find distance between these hyperplanes."
            ]
        },
        {
            "cell_type": "code",
<<<<<<< HEAD
            "execution_count": 14,
=======
            "execution_count": 8,
>>>>>>> upstream/main
            "id": "af62102a",
            "metadata": {},
            "outputs": [],
            "source": [
                "def distance_to_hyperplane_3(A, x0, B, y0):\n",
                "\n",
                "    # Convert inputs to numpy arrays\n",
                "    A = np.array(A, dtype=float)\n",
                "    x0 = np.array(x0, dtype=float)\n",
                "    B = np.array(B, dtype=float)\n",
                "    y0 = np.array(y0, dtype=float)\n",
                "    \n",
                "    # Ensure matrices are 2D\n",
                "    if A.ndim == 1:\n",
                "        A = A.reshape(-1, 1)\n",
                "    if B.ndim == 1:\n",
                "        B = B.reshape(-1, 1)\n",
                "    \n",
                "    # Compute difference between base points\n",
                "    diff = y0 - x0\n",
                "    \n",
                "    # Check if hyperplanes are parallel\n",
                "    # Method 1: Compare null spaces\n",
                "    def nullspace(A, atol=1e-13):\n",
                "        u, s, vh = np.linalg.svd(A)\n",
                "        tol = max(atol, s.max() * max(A.shape) * np.finfo(s.dtype).eps)\n",
                "        nnz = (s >= tol).sum()\n",
                "        ns = vh[nnz:].conj().T\n",
                "        return ns\n",
                "    \n",
                "    ns_A = nullspace(A.T)\n",
                "    ns_B = nullspace(B.T)\n",
                "    \n",
                "    # If null spaces are not equal, hyperplanes intersect\n",
                "    if ns_A.shape[1] > 0 and ns_B.shape[1] > 0:\n",
                "        # Check if null spaces are parallel\n",
                "        if np.linalg.matrix_rank(np.hstack((ns_A, ns_B))) > max(ns_A.shape[1], ns_B.shape[1]):\n",
                "            return 0.0\n",
                "    \n",
                "    # If we get here, hyperplanes are parallel\n",
                "    # Compute orthogonal complement of A's column space\n",
                "    Q, _ = np.linalg.qr(A)\n",
                "    \n",
                "    # Project difference vector onto orthogonal complement\n",
                "    if Q.size > 0:\n",
                "        proj = Q @ (Q.T @ diff)\n",
                "        residual = diff - proj\n",
                "    else:\n",
                "        residual = diff\n",
                "    \n",
                "    distance = np.linalg.norm(residual)\n",
                "    \n",
                "    return distance"
            ]
        },
        {
            "cell_type": "code",
<<<<<<< HEAD
            "execution_count": 15,
=======
            "execution_count": 9,
>>>>>>> upstream/main
            "id": "97fb9e0d",
            "metadata": {},
            "outputs": [],
            "source": [
                "answer['task3'] = []\n",
                "if 'task3' in inputs:\n",
                "    for one_input in inputs['task3']:\n",
                "        answer['task3'].append(\n",
                "            distance_to_hyperplane_3(**one_input))"
            ]
        },
        {
            "cell_type": "code",
<<<<<<< HEAD
            "execution_count": 16,
=======
            "execution_count": 10,
>>>>>>> upstream/main
            "id": "3313eaf1",
            "metadata": {},
            "outputs": [
                {
                    "data": {
                        "text/plain": [
                            "'{\"task1\": [], \"task2\": [], \"task3\": []}'"
                        ]
                    },
                    "execution_count": 16,
                    "metadata": {},
                    "output_type": "execute_result"
                }
            ],
            "source": [
                "json_tricks.dump(answer, '.answer.json')"
            ]
        }
    ],
    "metadata": {
        "kernelspec": {
            "display_name": "Python 3",
            "language": "python",
            "name": "python3"
        },
        "language_info": {
            "codemirror_mode": {
                "name": "ipython",
                "version": 3
            },
            "file_extension": ".py",
            "mimetype": "text/x-python",
            "name": "python",
            "nbconvert_exporter": "python",
            "pygments_lexer": "ipython3",
            "version": "3.11.13"
        }
    },
    "nbformat": 4,
    "nbformat_minor": 5
}
