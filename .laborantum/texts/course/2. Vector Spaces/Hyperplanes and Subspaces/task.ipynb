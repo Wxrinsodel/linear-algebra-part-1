{
    "cells": [
        {
            "cell_type": "code",
            "execution_count": 1,
            "id": "6f72d992",
            "metadata": {},
            "outputs": [],
            "source": [
                "import numpy as np\n",
                "import json_tricks\n",
                "\n",
                "answer = {}\n",
                "inputs = json_tricks.load('/workspaces/linear-algebra-part-1/.laborantum/texts/course/2. Vector Spaces/Hyperplanes and Subspaces/inputs/inputs.json')"
            ]
        },
        {
            "cell_type": "markdown",
            "id": "df6511fd",
            "metadata": {},
            "source": [
                "# Task"
            ]
        },
        {
            "cell_type": "markdown",
            "id": "b9f89b1e",
            "metadata": {},
            "source": [
                "You are given a linear hyperspace by 2 entities:\n",
                "- a vector that belongs to the hyperspace $\\mathbf x_0$\n",
                "- a normal vector to this hyperspace $\\mathbf w$\n",
                "\n",
                "So that the hyperplane is given by equation:\n",
                "\n",
                "$\\left<\\mathbf w, \\mathbf x - \\mathbf x_0\\right> = 0$\n",
                "\n",
                "You are also given another vector $\\mathbf y$. \n",
                "\n",
                "Find distance from this vector to the given hyperplane."
            ]
        },
        {
            "cell_type": "code",
            "execution_count": 2,
            "id": "6f14336b",
            "metadata": {},
            "outputs": [],
            "source": [
                "def distance_to_hyperplane_1(y, w, x0):\n",
                "    w = np.asarray(w)\n",
                "    y = np.asarray(y)\n",
                "    x0 = np.asarray(x0)\n",
                "    numerator = np.abs(np.dot(w, y - x0))\n",
                "    denominator = np.linalg.norm(w)\n",
                "    res = numerator / denominator\n",
                "    return res"
            ]
        },
        {
            "cell_type": "code",
            "execution_count": 3,
            "id": "2c3b30e3",
            "metadata": {},
            "outputs": [],
            "source": [
                "answer['task1'] = []\n",
                "for one_input in inputs['task1']:\n",
                "    answer['task1'].append(\n",
                "        distance_to_hyperplane_1(**one_input))"
            ]
        },
        {
            "cell_type": "markdown",
            "id": "d472a155",
            "metadata": {},
            "source": [
                "# Task"
            ]
        },
        {
            "cell_type": "markdown",
            "id": "21387b9f",
            "metadata": {},
            "source": [
                "You are given a linear hyperspace by 2 entities:\n",
                "- a vector that belongs to the hyperspace $\\mathbf x_0$\n",
                "- a set of direction vectors for this hyperspace $\\mathbf a_1, \\dots, \\mathbf a_K$ in form of column-matrix \n",
                "    \n",
                "    $A = \\begin{bmatrix}\n",
                "    | & | & & | \\\\\n",
                "    \\mathbf a_1 & \\mathbf a_2 & \\dots & \\mathbf a_K \\\\\n",
                "    | & | & & | \\\\\n",
                "    \\end{bmatrix}$\n",
                "\n",
                "So that the hyperplane is given by equation:\n",
                "\n",
                "$\\mathbf x_0 + \\sum_{k=1}^K \\alpha_k \\mathbf a_k = \\mathbf 0$\n",
                "\n",
                "You are also given another vector $\\mathbf y$. \n",
                "\n",
                "Find distance from this vector to the given hyperplane."
            ]
        },
        {
            "cell_type": "code",
            "execution_count": 4,
            "id": "a1feed22",
            "metadata": {},
            "outputs": [],
            "source": [
                "def distance_to_hyperplane_2(y, A, x0):\n",
                "    y = np.asarray(y)\n",
                "    x0 = np.asarray(x0)\n",
                "    A = np.asarray(A)\n",
                "    v = y - x0\n",
                "    if A.size == 0:\n",
                "        return np.linalg.norm(v)\n",
                "    P = np.eye(v.shape[0]) - A @ np.linalg.pinv(A)\n",
                "    res = np.linalg.norm(P @ v)\n",
                "    return res"
            ]
        },
        {
            "cell_type": "code",
            "execution_count": 5,
            "id": "0c2de6b6",
            "metadata": {},
            "outputs": [],
            "source": [
                "answer['task2'] = []\n",
                "for one_input in inputs['task2']:\n",
                "    answer['task2'].append(\n",
                "        distance_to_hyperplane_2(**one_input))"
            ]
        },
        {
            "cell_type": "markdown",
            "id": "ecea6a3e",
            "metadata": {},
            "source": [
                "# Task"
            ]
        },
        {
            "cell_type": "markdown",
            "id": "db4d58c6",
            "metadata": {},
            "source": [
                "You are given 2 linear hyperspaces, each defined by 2 entities:\n",
                "- a vector that belongs to the hyperspace $\\mathbf x_0$\n",
                "- a set of direction vectors for this hyperspace $\\mathbf a_1, \\dots, \\mathbf a_K$ in form of column-matrix \n",
                "\n",
                "So that each of the hyperplanes is given by equation:\n",
                "\n",
                "$\\mathbf x_0 + \\sum_{k=1}^K \\alpha_k \\mathbf a_k = \\mathbf 0$\n",
                "\n",
                "Find distance between these hyperplanes."
            ]
        },
        {
            "cell_type": "code",
            "execution_count": 6,
            "id": "af62102a",
            "metadata": {},
            "outputs": [],
            "source": [
                "def distance_to_hyperplane_3(A, x0, B, y0, eps=1e-10):\n",
                "    x0 = np.asarray(x0)\n",
                "    y0 = np.asarray(y0)\n",
                "    A = np.asarray(A)\n",
                "    B = np.asarray(B)\n",
                "    d = x0 - y0\n",
                "    # If both are points\n",
                "    if A.size == 0 and B.size == 0:\n",
                "        dist = np.linalg.norm(d)\n",
                "    # If only A is empty, project d onto orthogonal complement of B\n",
                "    elif A.size == 0:\n",
                "        P = np.eye(d.shape[0]) - B @ np.linalg.pinv(B)\n",
                "        dist = np.linalg.norm(P @ d)\n",
                "    # If only B is empty, project d onto orthogonal complement of A\n",
                "    elif B.size == 0:\n",
                "        P = np.eye(d.shape[0]) - A @ np.linalg.pinv(A)\n",
                "        dist = np.linalg.norm(P @ d)\n",
                "    # Both are subspaces: project d onto orthogonal complement of [A, -B]\n",
                "    else:\n",
                "        C = np.hstack([A, -B])\n",
                "        P = np.eye(d.shape[0]) - C @ np.linalg.pinv(C)\n",
                "        dist = np.linalg.norm(P @ d)\n",
                "    # Numerical tolerance\n",
                "    if dist < eps:\n",
                "        return 0.0\n",
                "    return dist"
            ]
        },
        {
            "cell_type": "code",
            "execution_count": 7,
            "id": "97fb9e0d",
            "metadata": {},
            "outputs": [],
            "source": [
                "answer['task3'] = []\n",
                "for one_input in inputs['task3']:\n",
                "    answer['task3'].append(\n",
                "        distance_to_hyperplane_3(**one_input))"
            ]
        },
        {
            "cell_type": "code",
            "execution_count": 8,
            "id": "3313eaf1",
            "metadata": {},
            "outputs": [
                {
                    "data": {
                        "text/plain": [
                            "'{\"task1\": [1.1611015532036637, 1.2169686348578783, 3.8171960993534175, 2.1577367083828145, 17.53449972356085, 13.749230523405476, 0.11441551070947108, 0.9750002110024923, 2.0481280123278074, 0.4178554470186725, 7.299732493572025, 5.405127802564358, 2.0541374149458744, 6.71079347281296, 3.03653640842388, 9.498185286556286, 3.7630890450319083, 1.8641906049463526, 10.670770020027398, 5.291772589866002, 0.912245460839306, 0.20732586478679277, 12.816310409006174, 1.6373225835853016, 6.291571550369559, 20.239709319388293, 16.466083091274903, 13.474719001142073, 5.2761044442380856, 0.7250110520819842, 4.519523979103389, 4.225904366704887, 4.775521858228876, 13.912436341952132, 7.24644943484495, 9.313787360469487, 1.0596535411727601, 5.682048493486052, 4.5807379490262905, 3.3300869947532497, 5.307227776030219, 5.6272294256742645, 4.913975701062781, 4.802205375719392, 6.501355432613329, 11.47165060247919, 1.1319709719592113, 4.803995448402746, 3.272807297357087, 15.777869833110813, 4.517699029348238, 0.17814530949575066, 3.5284844379917275, 5.934930515784213, 6.125013426408485, 8.159217498552128, 5.019810939931819, 0.408248290463863, 7.4957996896270505, 4.283283920775676, 0.2637521893583148, 2.049056675010037, 6.8132996874920275, 8.405557343559956, 2.999321190171195, 5.6285099470110636, 3.655702647879198, 2.0465731207219395, 5.879747322073336, 9.329263895676059, 3.139348229106255, 0.5607987647363063, 0.6950480468569159, 10.191007784407427, 4.568082535241728, 9.192388155425117, 1.0021428596001425, 12.690431782391386, 7.765802747153207, 3.212717121212626, 4.218792040149278, 3.5777087639996634, 0.769800358919501, 0.8945002144062506, 5.085382100797452, 6.804547614641353, 6.163512150222625, 2.914609664251715, 7.816784172767301, 0.46205845409189783, 12.28312270520947, 2.0787069844672015, 19.79524821394902, 8.642489395470479, 9.065168465359845, 6.214172255980044, 6.830992648790024, 8.546023022424297, 7.3876871941035835, 0.16442642142942065], \"task2\": [29.629844392546175, 21.271746037577156, 39.167570695513476, 42.51326464355224, 25.824123847066797, 34.73198427198685, 21.558852317209542, 33.37216354216304, 11.67259342019464, 16.00268923632796, 43.12657326792424, 34.2199785340491, 20.888216691870166, 12.78829382523857, 27.740498610723495, 60.28458344760415, 47.813115009167674, 39.20795949308538, 44.99855363308826, 50.86446402302331, 38.83116116404722, 59.392957484403, 25.413911491336084, 71.75945843853157, 22.967606359609242, 38.8473178400593, 49.725404437222515, 13.255726525328054, 46.97814442596343, 59.346138637610295, 30.025694421014332, 28.487306553644505, 11.630961036030865, 44.00182121996451, 50.82957069220026, 26.300703285972848, 28.636776340207486, 26.64458362899459, 17.962237685763508, 79.26970361214435, 37.71746977588837, 42.45943959519046, 31.75044069245111, 54.19201835801993, 37.18292776267721, 31.233139161747935, 10.094938929963202, 11.407907383792741, 67.0280759933574, 13.732450981215976, 46.14089935983623, 27.233694468304318, 13.35361149592103, 31.340032120711374, 23.560117002291232, 10.784098036359472, 52.59795393508532, 26.188089983639525, 24.203237376117926, 32.17096440245891, 60.34292722512907, 14.15082118950597, 21.34959611292726, 59.81487266684482, 53.61417093306554, 19.769416442436164, 57.50189702547936, 47.79943428631007, 56.56370997403237, 28.088648956083066, 41.14633980228738, 60.33677082915871, 50.7806449456663, 20.681602914200113, 58.59364732196158, 30.717947765057914, 18.290471784673596, 40.40300486527525, 38.88383273712685, 33.543949317442326, 36.07503985563129, 45.403029848286224, 14.018547893393597, 13.003710284704974, 34.480909699518236, 53.84230367340938, 38.769572339816506, 63.149593292561114, 63.49028812855115, 46.3663100485238, 30.669196636966724, 37.700906410789365, 74.26595232040428, 44.22673034873904, 47.638730579388145, 93.14152630609834, 42.018413866891535, 50.06499042492483, 28.87958412285847, 60.53936925942109], \"task3\": [0.0, 9.862199882271803, 0.0, 0.0, 18.606023825206282, 33.24915572374668, 0.0, 18.402895002689185, 0.0, 1.9125472584304999, 0.0, 0.0, 20.840703895585985, 7.161012785601342, 0.0, 0.0, 0.0, 36.06229398043925, 31.950108055155233, 49.47766743961915, 0.0, 0.0, 20.984993129103437, 71.3586602397371, 21.938252459321024, 22.60538886311638, 0.0, 0.0, 10.166708080096766, 27.582795542235235, 0.0, 15.368410432078328, 0.0, 37.039222055582734, 16.7952643520284, 0.0, 23.48480152381295, 0.0, 0.0, 58.56896836761389, 0.0, 26.899938193158846, 0.0, 29.26848763988237, 0.0, 0.0, 0.0, 11.153330266284867, 37.90067959800954, 0.0, 0.0, 0.0, 0.0, 0.0, 0.0, 0.0, 0.0, 24.681259935404906, 0.0, 0.0, 24.783910392622097, 0.0, 0.0, 0.0, 30.922796070107236, 0.0, 33.18140357416191, 40.57698323504672, 47.06869032581552, 23.105060836853262, 12.571353918070063, 55.42047170103874, 46.69306616507825, 0.0, 27.453599485296905, 0.0, 0.0, 0.0, 37.4152130493829, 25.446553396419198, 0.0, 0.0, 12.824232991262063, 0.0, 0.0, 51.925188034601746, 0.0, 0.0, 46.76862945669892, 43.452573174451175, 0.0, 33.75394562385229, 68.70629065757944, 0.0, 37.87654183593753, 91.5601945551715, 30.96534964529871, 0.0, 0.0, 41.15009714892568]}'"
                        ]
                    },
                    "execution_count": 8,
                    "metadata": {},
                    "output_type": "execute_result"
                }
            ],
            "source": [
                "json_tricks.dump(answer, '.answer.json')"
            ]
        }
    ],
    "metadata": {
        "kernelspec": {
            "display_name": "Python 3",
            "language": "python",
            "name": "python3"
        },
        "language_info": {
            "codemirror_mode": {
                "name": "ipython",
                "version": 3
            },
            "file_extension": ".py",
            "mimetype": "text/x-python",
            "name": "python",
            "nbconvert_exporter": "python",
            "pygments_lexer": "ipython3",
            "version": "3.11.13"
        }
    },
    "nbformat": 4,
    "nbformat_minor": 5
}
