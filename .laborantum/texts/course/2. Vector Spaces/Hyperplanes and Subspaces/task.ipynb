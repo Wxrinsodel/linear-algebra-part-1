{
    "cells": [
        {
            "cell_type": "code",
            "execution_count": 1,
            "id": "6f72d992",
            "metadata": {},
            "outputs": [],
            "source": [
                "import numpy as np\n",
                "import json_tricks\n",
                "\n",
                "\n",
                "inputs = json_tricks.load('inputs.json')\n",
                "answer = {}\n"
            ]
        },
        {
            "cell_type": "markdown",
            "id": "df6511fd",
            "metadata": {},
            "source": [
                "# Task"
            ]
        },
        {
            "cell_type": "markdown",
            "id": "b9f89b1e",
            "metadata": {},
            "source": [
                "You are given a linear hyperspace by 2 entities:\n",
                "- a vector that belongs to the hyperspace $\\mathbf x_0$\n",
                "- a normal vector to this hyperspace $\\mathbf w$\n",
                "\n",
                "So that the hyperplane is given by equation:\n",
                "\n",
                "$\\left<\\mathbf w, \\mathbf x - \\mathbf x_0\\right> = 0$\n",
                "\n",
                "You are also given another vector $\\mathbf y$. \n",
                "\n",
                "Find distance from this vector to the given hyperplane."
            ]
        },
        {
            "cell_type": "code",
            "execution_count": 2,
            "id": "6f14336b",
            "metadata": {},
            "outputs": [],
            "source": [
                "def distance_to_hyperplane_1(y, w, x0):\n",
                "    # Compute the vector from x0 to y\n",
                "    y_minus_x0 = y - x0\n",
                "    \n",
                "    # Compute the dot product of w and (y - x0)\n",
                "    dot_product = np.dot(w, y_minus_x0)\n",
                "    \n",
                "    # Compute the norm of w\n",
                "    norm_w = np.linalg.norm(w)\n",
                "    \n",
                "    # Compute the distance\n",
                "    distance = np.abs(dot_product) / norm_w\n",
                "    \n",
                "    return distance"
            ]
        },
        {
            "cell_type": "code",
            "execution_count": 3,
            "id": "2c3b30e3",
            "metadata": {},
            "outputs": [],
            "source": [
                "answer['task1'] = []\n",
                "for one_input in inputs['task1']:\n",
                "    answer['task1'].append(\n",
                "        distance_to_hyperplane_1(**one_input))"
            ]
        },
        {
            "cell_type": "markdown",
            "id": "d472a155",
            "metadata": {},
            "source": [
                "# Task"
            ]
        },
        {
            "cell_type": "markdown",
            "id": "21387b9f",
            "metadata": {},
            "source": [
                "You are given a linear hyperspace by 2 entities:\n",
                "- a vector that belongs to the hyperspace $\\mathbf x_0$\n",
                "- a set of direction vectors for this hyperspace $\\mathbf a_1, \\dots, \\mathbf a_K$ in form of column-matrix \n",
                "    \n",
                "    $A = \\begin{bmatrix}\n",
                "    | & | & & | \\\\\n",
                "    \\mathbf a_1 & \\mathbf a_2 & \\dots & \\mathbf a_K \\\\\n",
                "    | & | & & | \\\\\n",
                "    \\end{bmatrix}$\n",
                "\n",
                "So that the hyperplane is given by equation:\n",
                "\n",
                "$\\mathbf x_0 + \\sum_{k=1}^K \\alpha_k \\mathbf a_k = \\mathbf 0$\n",
                "\n",
                "You are also given another vector $\\mathbf y$. \n",
                "\n",
                "Find distance from this vector to the given hyperplane."
            ]
        },
        {
            "cell_type": "code",
            "execution_count": 4,
            "id": "a1feed22",
            "metadata": {},
            "outputs": [],
            "source": [
                "def distance_to_hyperplane_2(y, A, x0):\n",
                "    # Compute the QR decomposition of A\n",
                "    Q, R = np.linalg.qr(A)\n",
                "    \n",
                "    # The normal vector w is the last column of Q when A is full rank\n",
                "    # If A is not full rank, we need to find the orthogonal complement\n",
                "    # Here, we assume A is full rank for simplicity\n",
                "    w = Q[:, -1]\n",
                "    \n",
                "    # Compute the vector from x0 to y\n",
                "    y_minus_x0 = y - x0\n",
                "    \n",
                "    # Compute the dot product of w and (y - x0)\n",
                "    dot_product = np.dot(w, y_minus_x0)\n",
                "    \n",
                "    # Compute the norm of w\n",
                "    norm_w = np.linalg.norm(w)\n",
                "    \n",
                "    # Compute the distance\n",
                "    distance = np.abs(dot_product) / norm_w\n",
                "    \n",
                "    return distance"
            ]
        },
        {
            "cell_type": "code",
            "execution_count": 5,
            "id": "0c2de6b6",
            "metadata": {},
            "outputs": [],
            "source": [
                "answer['task2'] = []\n",
                "for one_input in inputs['task2']:\n",
                "    answer['task2'].append(\n",
                "        distance_to_hyperplane_2(**one_input))"
            ]
        },
        {
            "cell_type": "markdown",
            "id": "ecea6a3e",
            "metadata": {},
            "source": [
                "# Task"
            ]
        },
        {
            "cell_type": "markdown",
            "id": "db4d58c6",
            "metadata": {},
            "source": [
                "You are given 2 linear hyperspaces, each defined by 2 entities:\n",
                "- a vector that belongs to the hyperspace $\\mathbf x_0$\n",
                "- a set of direction vectors for this hyperspace $\\mathbf a_1, \\dots, \\mathbf a_K$ in form of column-matrix \n",
                "\n",
                "So that each of the hyperplanes is given by equation:\n",
                "\n",
                "$\\mathbf x_0 + \\sum_{k=1}^K \\alpha_k \\mathbf a_k = \\mathbf 0$\n",
                "\n",
                "Find distance between these hyperplanes."
            ]
        },
        {
            "cell_type": "code",
            "execution_count": 6,
            "id": "af62102a",
            "metadata": {},
            "outputs": [],
            "source": [
                "def distance_to_hyperplane_3(A, x0, B, y0):\n",
                "    res = 0\n",
                "    ## YOUR CODE HERE\n",
                "    return res"
            ]
        },
        {
            "cell_type": "code",
            "execution_count": 7,
            "id": "97fb9e0d",
            "metadata": {},
            "outputs": [],
            "source": [
                "answer['task3'] = []\n",
                "for one_input in inputs['task3']:\n",
                "    answer['task3'].append(\n",
                "        distance_to_hyperplane_3(**one_input))"
            ]
        },
        {
            "cell_type": "code",
            "execution_count": 8,
            "id": "3313eaf1",
            "metadata": {},
            "outputs": [
                {
                    "data": {
                        "text/plain": [
                            "'{\"task1\": [1.1611015532036637, 1.2169686348578783, 3.8171960993534175, 2.1577367083828145, 17.53449972356085, 13.749230523405476, 0.11441551070947108, 0.9750002110024923, 2.0481280123278074, 0.4178554470186725, 7.299732493572025, 5.405127802564358, 2.0541374149458744, 6.71079347281296, 3.03653640842388, 9.498185286556286, 3.7630890450319083, 1.8641906049463526, 10.670770020027398, 5.291772589866002, 0.912245460839306, 0.20732586478679277, 12.816310409006174, 1.6373225835853016, 6.291571550369559, 20.239709319388293, 16.466083091274903, 13.474719001142073, 5.2761044442380856, 0.7250110520819842, 4.519523979103389, 4.225904366704887, 4.775521858228876, 13.912436341952132, 7.24644943484495, 9.313787360469487, 1.0596535411727601, 5.682048493486052, 4.5807379490262905, 3.3300869947532497, 5.307227776030219, 5.6272294256742645, 4.913975701062781, 4.802205375719392, 6.501355432613329, 11.47165060247919, 1.1319709719592113, 4.803995448402746, 3.272807297357087, 15.777869833110813, 4.517699029348238, 0.17814530949575066, 3.5284844379917275, 5.934930515784213, 6.125013426408485, 8.159217498552128, 5.019810939931819, 0.408248290463863, 7.4957996896270505, 4.283283920775676, 0.2637521893583148, 2.049056675010037, 6.8132996874920275, 8.405557343559956, 2.999321190171195, 5.6285099470110636, 3.655702647879198, 2.0465731207219395, 5.879747322073336, 9.329263895676059, 3.139348229106255, 0.5607987647363063, 0.6950480468569159, 10.191007784407427, 4.568082535241728, 9.192388155425117, 1.0021428596001425, 12.690431782391386, 7.765802747153207, 3.212717121212626, 4.218792040149278, 3.5777087639996634, 0.769800358919501, 0.8945002144062506, 5.085382100797452, 6.804547614641353, 6.163512150222625, 2.914609664251715, 7.816784172767301, 0.46205845409189783, 12.28312270520947, 2.0787069844672015, 19.79524821394902, 8.642489395470479, 9.065168465359845, 6.214172255980044, 6.830992648790024, 8.546023022424297, 7.3876871941035835, 0.16442642142942065], \"task2\": [9.086728434878466, 4.529108136578383, 3.6434608811042275, 0.36253453444287237, 6.634036372649438, 7.4055294296539556, 2.095117641202167, 3.7660480407053742, 9.349487867134, 7.844230340057174, 12.087770398515477, 2.549372368605737, 1.6378044552010451, 9.445786063051047, 2.9919762324069255, 2.9335115647329735, 0.9030699810658412, 18.1695169641169, 7.075688732091884, 20.175611811598813, 8.151267106461479, 5.331065156323107, 8.940262774091218, 5.25728833197347, 1.7785151075384893, 12.28975471612347, 10.325818126998886, 12.982130575745812, 2.448043878850546, 6.6933922322220365, 4.732070419036252, 0.4444596349983586, 4.8441579517489455, 12.939284628873311, 2.729039037226536, 14.874815696725047, 0.7927981342680022, 5.630217272533657, 12.08274372759364, 7.675168711493425, 0.09063019196998459, 2.973429533265333, 13.141824116887749, 1.5967814646172636, 1.3672044945413835, 10.467034333177846, 3.5768868202534905, 4.106050306901636, 15.210991859654104, 5.668815404009245, 7.189819900187526, 2.757985150378953, 3.9190979597308657, 8.756148879203716, 8.074353812238561, 3.1601157645572244, 9.464492386421913, 2.82544361809568, 4.035849806658773, 2.3588496330633104, 0.12138231316834083, 1.0151965626505526, 5.848566247538445, 0.5347485779490841, 18.81453914560129, 3.346528124993348, 2.544287094104033, 4.7335071114444505, 4.712397452277113, 3.5405970251389167, 3.898990557886111, 11.37186010980207, 0.8749264030523614, 4.869336224288653, 2.059144352298996, 8.414852271930199, 3.7643807464059744, 0.25995749842177013, 5.121847605508489, 11.679625926584102, 7.19118313087958, 3.5693858400521403, 12.549116102763172, 3.952175195239465, 3.868722750600302, 13.929985513640158, 17.457590435150486, 7.639278603117343, 10.316986604742404, 5.118869027927447, 7.931819207951079, 9.288880951957227, 7.170670455475952, 1.5260091689991226, 1.219727566243814, 1.4994749106959855, 20.58264541850686, 11.844198516293778, 5.57891240950487, 3.6686112320590953], \"task3\": [0, 0, 0, 0, 0, 0, 0, 0, 0, 0, 0, 0, 0, 0, 0, 0, 0, 0, 0, 0, 0, 0, 0, 0, 0, 0, 0, 0, 0, 0, 0, 0, 0, 0, 0, 0, 0, 0, 0, 0, 0, 0, 0, 0, 0, 0, 0, 0, 0, 0, 0, 0, 0, 0, 0, 0, 0, 0, 0, 0, 0, 0, 0, 0, 0, 0, 0, 0, 0, 0, 0, 0, 0, 0, 0, 0, 0, 0, 0, 0, 0, 0, 0, 0, 0, 0, 0, 0, 0, 0, 0, 0, 0, 0, 0, 0, 0, 0, 0, 0]}'"
                        ]
                    },
                    "execution_count": 8,
                    "metadata": {},
                    "output_type": "execute_result"
                }
            ],
            "source": [
                "json_tricks.dump(answer, '.answer.json')"
            ]
        }
    ],
    "metadata": {
        "kernelspec": {
            "display_name": "Python 3",
            "language": "python",
            "name": "python3"
        },
        "language_info": {
            "codemirror_mode": {
                "name": "ipython",
                "version": 3
            },
            "file_extension": ".py",
            "mimetype": "text/x-python",
            "name": "python",
            "nbconvert_exporter": "python",
            "pygments_lexer": "ipython3",
            "version": "3.11.13"
        }
    },
    "nbformat": 4,
    "nbformat_minor": 5
}
