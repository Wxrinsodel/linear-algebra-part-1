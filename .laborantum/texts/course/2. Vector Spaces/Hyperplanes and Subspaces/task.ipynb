{
    "cells": [
        {
            "cell_type": "code",
            "execution_count": 51,
            "id": "6f72d992",
            "metadata": {},
            "outputs": [
                {
                    "ename": "FileNotFoundError",
                    "evalue": "[Errno 2] No such file or directory: '.inputs.json'",
                    "output_type": "error",
                    "traceback": [
                        "\u001b[31m---------------------------------------------------------------------------\u001b[39m",
                        "\u001b[31mFileNotFoundError\u001b[39m                         Traceback (most recent call last)",
                        "\u001b[36mCell\u001b[39m\u001b[36m \u001b[39m\u001b[32mIn[51]\u001b[39m\u001b[32m, line 6\u001b[39m\n\u001b[32m      3\u001b[39m \u001b[38;5;28;01mimport\u001b[39;00m\u001b[38;5;250m \u001b[39m\u001b[34;01mos\u001b[39;00m\n\u001b[32m      5\u001b[39m answer = {}\n\u001b[32m----> \u001b[39m\u001b[32m6\u001b[39m inputs = \u001b[43mjson_tricks\u001b[49m\u001b[43m.\u001b[49m\u001b[43mload\u001b[49m\u001b[43m(\u001b[49m\u001b[33;43m'\u001b[39;49m\u001b[33;43m.inputs.json\u001b[39;49m\u001b[33;43m'\u001b[39;49m\u001b[43m)\u001b[49m\n",
                        "\u001b[36mFile \u001b[39m\u001b[32m/usr/local/lib/python3.11/site-packages/json_tricks/nonp.py:284\u001b[39m, in \u001b[36mload\u001b[39m\u001b[34m(fp, preserve_order, ignore_comments, decompression, obj_pairs_hooks, extra_obj_pairs_hooks, cls_lookup_map, allow_duplicates, conv_str_byte, properties, **jsonkwargs)\u001b[39m\n\u001b[32m    282\u001b[39m \topen_binary = \u001b[38;5;28mbool\u001b[39m(decompression)\n\u001b[32m    283\u001b[39m \u001b[38;5;28;01melse\u001b[39;00m:\n\u001b[32m--> \u001b[39m\u001b[32m284\u001b[39m \t\u001b[38;5;28;01mwith\u001b[39;00m \u001b[38;5;28mopen\u001b[39m(fp, \u001b[33m'\u001b[39m\u001b[33mrb\u001b[39m\u001b[33m'\u001b[39m) \u001b[38;5;28;01mas\u001b[39;00m fh:\n\u001b[32m    285\u001b[39m \t\t\u001b[38;5;66;03m# This attempts to detect gzip mode; gzip should always\u001b[39;00m\n\u001b[32m    286\u001b[39m \t\t\u001b[38;5;66;03m# have this header, and text json can't have it.\u001b[39;00m\n\u001b[32m    287\u001b[39m \t\topen_binary = (fh.read(\u001b[32m2\u001b[39m) == \u001b[33mb\u001b[39m\u001b[33m'\u001b[39m\u001b[38;5;130;01m\\x1f\u001b[39;00m\u001b[38;5;130;01m\\x8b\u001b[39;00m\u001b[33m'\u001b[39m)\n\u001b[32m    288\u001b[39m \u001b[38;5;28;01mwith\u001b[39;00m \u001b[38;5;28mopen\u001b[39m(fp, \u001b[33m'\u001b[39m\u001b[33mrb\u001b[39m\u001b[33m'\u001b[39m \u001b[38;5;28;01mif\u001b[39;00m open_binary \u001b[38;5;28;01melse\u001b[39;00m \u001b[33m'\u001b[39m\u001b[33mr\u001b[39m\u001b[33m'\u001b[39m) \u001b[38;5;28;01mas\u001b[39;00m fh:\n",
                        "\u001b[31mFileNotFoundError\u001b[39m: [Errno 2] No such file or directory: '.inputs.json'"
                    ]
                }
            ],
            "source": [
                "import numpy as np\n",
                "import json_tricks\n",
                "import os\n",
                "\n",
                "answer = {}\n",
                "inputs = json_tricks.load('.inputs.json')"
            ]
        },
        {
            "cell_type": "markdown",
            "id": "df6511fd",
            "metadata": {},
            "source": [
                "# Task"
            ]
        },
        {
            "cell_type": "markdown",
            "id": "b9f89b1e",
            "metadata": {},
            "source": [
                "You are given a linear hyperspace by 2 entities:\n",
                "- a vector that belongs to the hyperspace $\\mathbf x_0$\n",
                "- a normal vector to this hyperspace $\\mathbf w$\n",
                "\n",
                "So that the hyperplane is given by equation:\n",
                "\n",
                "$\\left<\\mathbf w, \\mathbf x - \\mathbf x_0\\right> = 0$\n",
                "\n",
                "You are also given another vector $\\mathbf y$. \n",
                "\n",
                "Find distance from this vector to the given hyperplane."
            ]
        },
        {
            "cell_type": "code",
            "execution_count": null,
            "id": "6f14336b",
            "metadata": {},
            "outputs": [],
            "source": [
                "def distance_to_hyperplane_1(y, w, x0):\n",
                "    y = np.array(y)\n",
                "    w = np.array(w)\n",
                "    x0 = np.array(x0)\n",
                "    y_minus_x0 = y - x0\n",
                "    dot_product = np.dot(w, y_minus_x0)\n",
                "    norm_w = np.linalg.norm(w)\n",
                "    distance = np.abs(dot_product) / norm_w\n",
                "    return distance.item() "
            ]
        },
        {
            "cell_type": "code",
            "execution_count": null,
            "id": "2c3b30e3",
            "metadata": {},
            "outputs": [],
            "source": [
                "answer['task1'] = []\n",
                "if 'task1' in inputs:\n",
                "    for one_input in inputs['task1']:\n",
                "        answer['task1'].append(\n",
                "            distance_to_hyperplane_1(**one_input))"
            ]
        },
        {
            "cell_type": "markdown",
            "id": "d472a155",
            "metadata": {},
            "source": [
                "# Task"
            ]
        },
        {
            "cell_type": "markdown",
            "id": "21387b9f",
            "metadata": {},
            "source": [
                "You are given a linear hyperspace by 2 entities:\n",
                "- a vector that belongs to the hyperspace $\\mathbf x_0$\n",
                "- a set of direction vectors for this hyperspace $\\mathbf a_1, \\dots, \\mathbf a_K$ in form of column-matrix \n",
                "    \n",
                "    $A = \\begin{bmatrix}\n",
                "    | & | & & | \\\\\n",
                "    \\mathbf a_1 & \\mathbf a_2 & \\dots & \\mathbf a_K \\\\\n",
                "    | & | & & | \\\\\n",
                "    \\end{bmatrix}$\n",
                "\n",
                "So that the hyperplane is given by equation:\n",
                "\n",
                "$\\mathbf x_0 + \\sum_{k=1}^K \\alpha_k \\mathbf a_k = \\mathbf 0$\n",
                "\n",
                "You are also given another vector $\\mathbf y$. \n",
                "\n",
                "Find distance from this vector to the given hyperplane."
            ]
        },
        {
            "cell_type": "code",
            "execution_count": null,
            "id": "a1feed22",
            "metadata": {},
            "outputs": [],
            "source": [
                "def distance_to_hyperplane_2(y, A, x0):\n",
                "    y = np.array(y)\n",
                "    A = np.array(A)\n",
                "    x0 = np.array(x0)\n",
                "    \n",
                "    # Compute y - x0\n",
                "    y_minus_x0 = y - x0\n",
                "    \n",
                "    # Compute the projection matrix P = A (A^T A)^-1 A^T\n",
                "    # Handle cases where A^T A is not invertible (use pseudo-inverse)\n",
                "    P = A @ np.linalg.pinv(A.T @ A) @ A.T\n",
                "    \n",
                "    # Compute the residual\n",
                "    residual = y_minus_x0 - P @ y_minus_x0\n",
                "    \n",
                "    # Distance is the norm of the residual\n",
                "    distance = np.linalg.norm(residual)\n",
                "    \n",
                "    return distance\n"
            ]
        },
        {
            "cell_type": "code",
            "execution_count": null,
            "id": "0c2de6b6",
            "metadata": {},
            "outputs": [],
            "source": [
                "answer['task2'] = []\n",
                "if 'task2' in inputs:\n",
                "    for one_input in inputs['task2']:\n",
                "        answer['task2'].append(\n",
                "            distance_to_hyperplane_2(**one_input))"
            ]
        },
        {
            "cell_type": "markdown",
            "id": "ecea6a3e",
            "metadata": {},
            "source": [
                "# Task"
            ]
        },
        {
            "cell_type": "markdown",
            "id": "db4d58c6",
            "metadata": {},
            "source": [
                "You are given 2 linear hyperspaces, each defined by 2 entities:\n",
                "- a vector that belongs to the hyperspace $\\mathbf x_0$\n",
                "- a set of direction vectors for this hyperspace $\\mathbf a_1, \\dots, \\mathbf a_K$ in form of column-matrix \n",
                "\n",
                "So that each of the hyperplanes is given by equation:\n",
                "\n",
                "$\\mathbf x_0 + \\sum_{k=1}^K \\alpha_k \\mathbf a_k = \\mathbf 0$\n",
                "\n",
                "Find distance between these hyperplanes."
            ]
        },
        {
            "cell_type": "code",
            "execution_count": null,
            "id": "af62102a",
            "metadata": {},
            "outputs": [],
            "source": [
                "def distance_to_hyperplane_3(A, x0, B, y0):\n",
                "\n",
                "    # Convert inputs to numpy arrays\n",
                "    A = np.array(A, dtype=float)\n",
                "    x0 = np.array(x0, dtype=float)\n",
                "    B = np.array(B, dtype=float)\n",
                "    y0 = np.array(y0, dtype=float)\n",
                "    \n",
                "    # Ensure matrices are 2D\n",
                "    if A.ndim == 1:\n",
                "        A = A.reshape(-1, 1)\n",
                "    if B.ndim == 1:\n",
                "        B = B.reshape(-1, 1)\n",
                "    \n",
                "    # Compute difference between base points\n",
                "    diff = y0 - x0\n",
                "    \n",
                "    # Check if hyperplanes are parallel\n",
                "    # Method 1: Compare null spaces\n",
                "    def nullspace(A, atol=1e-13):\n",
                "        u, s, vh = np.linalg.svd(A)\n",
                "        tol = max(atol, s.max() * max(A.shape) * np.finfo(s.dtype).eps)\n",
                "        nnz = (s >= tol).sum()\n",
                "        ns = vh[nnz:].conj().T\n",
                "        return ns\n",
                "    \n",
                "    ns_A = nullspace(A.T)\n",
                "    ns_B = nullspace(B.T)\n",
                "    \n",
                "    # If null spaces are not equal, hyperplanes intersect\n",
                "    if ns_A.shape[1] > 0 and ns_B.shape[1] > 0:\n",
                "        # Check if null spaces are parallel\n",
                "        if np.linalg.matrix_rank(np.hstack((ns_A, ns_B))) > max(ns_A.shape[1], ns_B.shape[1]):\n",
                "            return 0.0\n",
                "    \n",
                "    # If we get here, hyperplanes are parallel\n",
                "    # Compute orthogonal complement of A's column space\n",
                "    Q, _ = np.linalg.qr(A)\n",
                "    \n",
                "    # Project difference vector onto orthogonal complement\n",
                "    if Q.size > 0:\n",
                "        proj = Q @ (Q.T @ diff)\n",
                "        residual = diff - proj\n",
                "    else:\n",
                "        residual = diff\n",
                "    \n",
                "    distance = np.linalg.norm(residual)\n",
                "    \n",
                "    return distance"
            ]
        },
        {
            "cell_type": "code",
            "execution_count": null,
            "id": "97fb9e0d",
            "metadata": {},
            "outputs": [],
            "source": [
                "answer['task3'] = []\n",
                "if 'task3' in inputs:\n",
                "    for one_input in inputs['task3']:\n",
                "        answer['task3'].append(\n",
                "            distance_to_hyperplane_3(**one_input))"
            ]
        },
        {
            "cell_type": "code",
            "execution_count": null,
            "id": "3313eaf1",
            "metadata": {},
            "outputs": [
                {
                    "data": {
                        "text/plain": [
                            "'{\"task1\": [], \"task2\": [], \"task3\": []}'"
                        ]
                    },
                    "execution_count": 40,
                    "metadata": {},
                    "output_type": "execute_result"
                }
            ],
            "source": [
                "json_tricks.dump(answer, '.answer.json')"
            ]
        }
    ],
    "metadata": {
        "kernelspec": {
            "display_name": "Python 3",
            "language": "python",
            "name": "python3"
        },
        "language_info": {
            "codemirror_mode": {
                "name": "ipython",
                "version": 3
            },
            "file_extension": ".py",
            "mimetype": "text/x-python",
            "name": "python",
            "nbconvert_exporter": "python",
            "pygments_lexer": "ipython3",
            "version": "3.11.13"
        }
    },
    "nbformat": 4,
    "nbformat_minor": 5
}
