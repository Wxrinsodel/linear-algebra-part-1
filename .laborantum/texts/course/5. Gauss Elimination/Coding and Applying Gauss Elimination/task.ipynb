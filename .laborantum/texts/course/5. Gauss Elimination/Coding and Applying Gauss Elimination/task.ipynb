{
    "cells": [
        {
            "cell_type": "markdown",
            "metadata": {},
            "source": [
                "# Algorithms with Matrices\n",
                "\n",
                "In this practice we are going to implement algorithms to work with matrices:\n",
                "- solving simple equations\n",
                "- inverting matrices\n",
                "- decomposing matrices to LU decompositions\n",
                "\n",
                "For these activities Gauss Elimination is our main tool. We will only work with matrices that do not require swapping the rows.\n",
                "\n",
                "We will also perform QR decomposition using Gramm-Schmidt orthonormalization method"
            ]
        },
        {
            "cell_type": "code",
            "execution_count": 136,
            "metadata": {},
            "outputs": [],
            "source": [
                "import numpy as np\n",
                "import lovely_numpy as ln\n",
                "import json_tricks \n",
                "import matplotlib.pyplot as plt"
            ]
        },
        {
            "cell_type": "code",
            "execution_count": 137,
            "metadata": {},
            "outputs": [],
            "source": [
                "import os\n",
                "\n",
                "np.random.seed(0)\n",
                "\n",
                "if not os.path.exists('.inputs.json'):\n",
                "\twith open('.inputs.json', 'w') as f:\n",
                "\t\tf.write('{}')\n",
                "\n",
                "inputs = json_tricks.load('.inputs.json')\n",
                "answer = {}"
            ]
        },
        {
            "cell_type": "markdown",
            "metadata": {},
            "source": [
                "# Task 1. Implement Gauss Elimination Stage I\n",
                "\n",
                "## 1.1 Gauss Elimination -- non-pivoted case\n",
                "Firstly, your task here is to create an algorithm that will perfrom mutations of matrix $A$ that transform it to Upper-Triangular form $U$.\n",
                "\n",
                "$$\n",
                "\\begin{bmatrix}\n",
                "a_{11} & a_{12} & \\dots & a_{1N} \\\\\n",
                "a_{21} & a_{22} & \\dots & a_{2N} \\\\\n",
                "\\vdots & \\vdots & \\ddots & \\vdots \\\\\n",
                "a_{N1} & a_{N2} & \\dots & a_{NN}\n",
                "\\end{bmatrix}\n",
                "\n",
                "\\rightarrow\n",
                "\n",
                "\\begin{bmatrix}\n",
                "1 & a_{12}^* & \\dots & a_{1N}^* \\\\\n",
                "0 & 1 & \\dots & a_{2N}^* \\\\\n",
                "\\vdots & \\vdots & \\ddots & \\vdots \\\\\n",
                "0 & 0 & \\dots & 1\n",
                "\\end{bmatrix}\n",
                "$$\n",
                "\n",
                "Note that there should be unit diagonal after the 1 stage.\n",
                "\n",
                "The same mutations for rows as you do to the matrix $A$ should be done to the rows of matrix $B$. \n",
                "\n",
                "What can matrix $B$ be? It can be:\n",
                "- vector of right hand side $b$ (in that case we are solving the System of Linear Equations)\n",
                "- identity matrix (in that case we invert matrix)\n",
                "- actually, Stage I can be used as Stage II, and in that case right hand matrix can be some matrix from Stage I\n",
                "\n",
                "## 1.2 Add pivoting\n",
                "\n",
                "There is a flag `pivoting`. In case this flag is turned on, the Gauss Elimination should swap the current row with \n",
                "the row with maximal absolute value in the current column.\n",
                "\n",
                "You should also perform the same swap with the matrix $B$ and also you should keep track of swaps with the matrix\n",
                "$P$.\n",
                "\n",
                "## 1.3 Account for the cases with null-space\n",
                "\n",
                "In that case once in a while you will not be able to perform pivoting to evade the division-by-zero. In that case you\n",
                "will find out that the diagonal element and all the elements below are all together less than some threshold value.\n",
                "\n",
                "In that case just continue to the next column.\n",
                "\n",
                "Keep in mind though that you have to advance only the column index, but the row index should not be increased. That\n",
                "means that now your pivot is off the main diagonal.\n"
            ]
        },
        {
            "cell_type": "code",
            "execution_count": 138,
            "metadata": {},
            "outputs": [],
            "source": [
                "def gauss_elimination(A, B, pivoting=False):\n",
                "    A = A.copy().astype(float)\n",
                "    B = B.copy().astype(float)\n",
                "\n",
                "    n_rows, n_cols = A.shape\n",
                "    P = np.eye(n_rows)  # Identity matrix to record row swaps\n",
                "\n",
                "    row = 0\n",
                "    col = 0\n",
                "    eps = 1e-12\n",
                "    while row < n_rows and col < n_cols:\n",
                "        # Pivoting: find the row with the largest value in this column\n",
                "        if pivoting:\n",
                "            max_row = np.argmax(np.abs(A[row:, col])) + row\n",
                "            if np.abs(A[max_row, col]) > eps:\n",
                "                if max_row != row:\n",
                "                    # Swap rows in A, B, and P\n",
                "                    A[[row, max_row], :] = A[[max_row, row], :]\n",
                "                    B[[row, max_row], ...] = B[[max_row, row], ...]\n",
                "                    P[[row, max_row], :] = P[[max_row, row], :]\n",
                "            else:\n",
                "                col += 1\n",
                "                continue\n",
                "        else:\n",
                "            if np.abs(A[row, col]) < eps:\n",
                "                # If the pivot is too small, skip this column\n",
                "                col += 1\n",
                "                continue\n",
                "\n",
                "        # Normalize the pivot row\n",
                "        pivot = A[row, col]\n",
                "        if np.abs(pivot) > eps:\n",
                "            A[row, :] = A[row, :] / pivot\n",
                "            B[row, ...] = B[row, ...] / pivot\n",
                "\n",
                "        # Eliminate below\n",
                "        for r in range(row + 1, n_rows):\n",
                "            factor = A[r, col]\n",
                "            A[r, :] -= factor * A[row, :]\n",
                "            B[r, ...] -= factor * B[row, ...]\n",
                "\n",
                "        row += 1\n",
                "        col += 1\n",
                "\n",
                "    return P, A, B\n"
            ]
        },
        {
            "cell_type": "code",
            "execution_count": 139,
            "metadata": {},
            "outputs": [],
            "source": [
                "if 'simple_cases' in inputs:\n",
                "    answer['gauss_elimination_simple_cases'] = [\n",
                "        gauss_elimination(A=input['A'], B=input['b'], pivoting=False) for input in inputs['simple_cases']\n",
                "    ]\n",
                "\n",
                "    answer['gauss_elimination_pivoting_cases'] = [\n",
                "        gauss_elimination(A=input['A'], B=input['b'], pivoting=True) for input in inputs['simple_cases']\n",
                "    ]\n",
                "\n",
                "if 'nullspace_cases' in inputs:\n",
                "    answer['gauss_elimination_nullspace_cases'] = [\n",
                "        gauss_elimination(A=input['A'], B=input['b'], pivoting=True) for input in inputs['nullspace_cases']\n",
                "    ]"
            ]
        },
        {
            "cell_type": "markdown",
            "metadata": {},
            "source": [
                "# Task 2: Solve System of Linear Equations (SLE)\n",
                "\n",
                "Now we have the engine to solve a lot of things. We will start with solving Systems of Linear Equations (SLEs).\n",
                "\n",
                "For the SLE given by matrix $A$ and right-hand vector $\\mathbf b$, implement a function that solves this SLE.\n",
                "\n",
                "You will need to use twice Gauss Elimination Algorithm\n",
                "\n",
                "1. Apply it to matrix $A$ and to vector $\\mathbf b$ as matrix $B$ as Gauss Elimintaion I stage\n",
                "2. For Gauss Elimination II stage you can use the same algorithm by just applying it to reversed matrix \n",
                "\n",
                "    (by enumerating equations and variables in reversed order, we can rewrite the matrix $U$ in low-triangle form $L$). \n",
                "\n",
                "    Something has to be done to the right-hand side vector too\n",
                "3. Form the answer from output of Gauss Elimination Stage II"
            ]
        },
        {
            "cell_type": "code",
            "execution_count": 140,
            "metadata": {},
            "outputs": [],
            "source": [
                "def solve_equation(A, b):\n",
                "    # Stage I: Forward elimination to upper-triangular form\n",
                "    _, U, y = gauss_elimination(A, b, pivoting=True)\n",
                "    # Stage II: Backward substitution (reverse elimination)\n",
                "    _, _, x_rev = gauss_elimination(U[::-1, ::-1], y[::-1], pivoting=False)\n",
                "    # Reverse the solution to get the correct order\n",
                "    res = x_rev[::-1]\n",
                "    return res"
            ]
        },
        {
            "cell_type": "markdown",
            "metadata": {},
            "source": [
                "You can always check that your solution is correct by subtracting\n",
                "\n",
                "$A \\mathbf x - \\mathbf b$, which should give you $\\mathbf 0$\n",
                "\n",
                "By the way, matrix product, such as $A \\mathbf x$ in numpy is done using `A @ x` operation"
            ]
        },
        {
            "cell_type": "code",
            "execution_count": 141,
            "metadata": {},
            "outputs": [],
            "source": [
                "if 'simple_cases' in inputs:\n",
                "    answer['solutions_simple_cases'] = [\n",
                "        solve_equation(**input) for input in inputs['simple_cases']\n",
                "    ]\n",
                "\n",
                "    print(\"=== SIMPLE CASES ===\")\n",
                "    for index in range(len(inputs['simple_cases'])):\n",
                "        print(np.abs(inputs['simple_cases'][index]['A'] @ answer['solutions_simple_cases'][index] - inputs['simple_cases'][index]['b']).sum())\n",
                "\n",
                "if 'pivoting_cases' in inputs:\n",
                "    answer['solution_pivoting_cases'] = [\n",
                "        solve_equation(**input) for input in inputs['pivoting_cases']\n",
                "    ]\n",
                "\n",
                "    print(\"=== PIVOTING CASES ===\")\n",
                "    for index in range(len(inputs['pivoting_cases'])):\n",
                "        print(np.abs(inputs['pivoting_cases'][index]['A'] @ answer['solution_pivoting_cases'][index] - inputs['pivoting_cases'][index]['b']).sum())"
            ]
        },
        {
            "cell_type": "markdown",
            "metadata": {},
            "source": [
                "# Task 3: Find inverse of $A$\n",
                "\n",
                "Use the same approach as with solving SLE, but now instead of $\\mathbf b$ for right hand side, insert corresponding Identity matrix $I$ as input into Gaussian Elimination algorithm\n",
                "\n",
                "Identitiy matrix of size $N \\times N$ is built using `numpy.eye(N)` "
            ]
        },
        {
            "cell_type": "code",
            "execution_count": 142,
            "metadata": {},
            "outputs": [],
            "source": [
                "def find_inverse(A):\n",
                "    n = A.shape[0]\n",
                "    # Stage I: Forward elimination to upper-triangular form with identity as B\n",
                "    _, U, Y = gauss_elimination(A, np.eye(n), pivoting=True)\n",
                "    # Stage II: Backward substitution (reverse elimination)\n",
                "    _, _, X_rev = gauss_elimination(U[::-1, ::-1], Y[::-1, :], pivoting=False)\n",
                "    # Reverse the solution to get the correct order\n",
                "    res = X_rev[::-1, ::-1]\n",
                "    return res"
            ]
        },
        {
            "cell_type": "markdown",
            "metadata": {},
            "source": [
                "You can always check that the matrix that you have found is indeed inverse to $A$ as $A^{-1} A = I$"
            ]
        },
        {
            "cell_type": "code",
            "execution_count": 143,
            "metadata": {},
            "outputs": [],
            "source": [
                "if 'simple_cases' in inputs:\n",
                "    answer['simple_inverses'] = [\n",
                "        find_inverse(input['A']) for input in inputs['simple_cases']\n",
                "    ]\n",
                "\n",
                "if 'pivoting_cases' in inputs:\n",
                "    answer['pivoting_inverses'] = [\n",
                "        find_inverse(input['A']) for input in inputs['pivoting_cases']\n",
                "    ]\n",
                "\n",
                "# This should be I\n",
                "if 'simple_cases' in inputs:\n",
                "    print(\"=== SIMPLE CASES ===\")\n",
                "    for index in range(len(inputs['simple_cases'])):\n",
                "        print(answer['simple_inverses'][index] @ inputs['simple_cases'][index]['A'])\n",
                "\n",
                "if 'pivoting_cases' in inputs:\n",
                "    print(\"=== PIVOTING CASES ===\")\n",
                "    for index in range(len(inputs['pivoting_cases'])):\n",
                "        print(answer['pivoting_inverses'][index] @ inputs['pivoting_cases'][index]['A'])"
            ]
        },
        {
            "cell_type": "markdown",
            "metadata": {},
            "source": [
                "# Task 4: LU decomposition\n",
                "\n",
                "You can find LU decomposition of the matrix $A$ using Gauss Elimination. Again, it is done using 2 stages of Gauss Elimination:\n",
                "\n",
                "1. $A \\mathbf x = I \\mathbf b \\rightarrow U \\mathbf x = L^* \\mathbf b$\n",
                "\n",
                "2. $I U \\mathbf x = L^* \\mathbf b \\rightarrow L U \\mathbf x = I \\mathbf b$\n",
                "\n",
                "But in case you are doing pivoted version, it is a little more tricky. You have to modify somehow the matrix $L$\n",
                "after the first stage of Gauss Elimination."
            ]
        },
        {
            "cell_type": "code",
            "execution_count": 144,
            "metadata": {},
            "outputs": [],
            "source": [
                "def find_plu(A, pivoting=True):\n",
                "    A = A.copy().astype(float)\n",
                "    n = A.shape[0]\n",
                "\n",
                "    # Step 1: Get P, U, and L_inv using pivoted Gauss elimination\n",
                "    # The third output is L_inv: inverse of lower triangular matrix L\n",
                "    P, U, L_inv = gauss_elimination(A, np.eye(n), pivoting=pivoting)\n",
                "\n",
                "    L_inv = L_inv @ P.T\n",
                "    # Step 2: Recover L by inverting L_inv via transposition of gauss_elimination result\n",
                "    # Note: We can use gauss_elimination to \"invert\" L_inv:\n",
                "    _, _, L = gauss_elimination(L_inv, np.eye(n), pivoting=False)\n",
                "\n",
                "    return P.T, L, U"
            ]
        },
        {
            "cell_type": "markdown",
            "metadata": {},
            "source": [
                "You can always check that your LU decomposition works as\n",
                "\n",
                "$LU - A = O$ (a zero matrix)"
            ]
        },
        {
            "cell_type": "code",
            "execution_count": 145,
            "metadata": {},
            "outputs": [
                {
                    "data": {
                        "text/plain": [
                            "'\\nanswer[\\'simple_PLU\\'] = [\\n    find_plu(input[\\'A\\'], pivoting=False) for input in inputs[\\'simple_cases\\']\\n]\\n\\nanswer[\\'pivoting_PLU\\'] = [\\n    find_plu(input[\\'A\\'], pivoting=True) for input in inputs[\\'pivoting_cases\\']\\n]\\n\\nanswer[\\'nullspace_PLU\\'] = [\\n    find_plu(input[\\'A\\'], pivoting=True) for input in inputs[\\'nullspace_cases\\']\\n]\\n\\n\\n# This should be close to zero\\nprint(\"=== SIMPLE CASES ===\")\\nfor index in range(len(inputs[\\'simple_cases\\'])):\\n    print(np.abs(answer[\\'simple_PLU\\'][index][0] @ answer[\\'simple_PLU\\'][index][1] @ answer[\\'simple_PLU\\'][index][2] - inputs[\\'simple_cases\\'][index][\\'A\\']).sum())\\n\\nprint(\"=== PIVOTING CASES ===\")\\nfor index in range(len(inputs[\\'pivoting_cases\\'])):\\n    print(np.abs(answer[\\'pivoting_PLU\\'][index][0] @ answer[\\'pivoting_PLU\\'][index][1] @ answer[\\'pivoting_PLU\\'][index][2] - inputs[\\'pivoting_cases\\'][index][\\'A\\']).sum())\\n\\nprint(\"=== NULLSPACE CASES ===\")\\nfor index in range(len(inputs[\\'nullspace_cases\\'])):\\n    print(np.abs(answer[\\'nullspace_PLU\\'][index][0] @ answer[\\'nullspace_PLU\\'][index][1] @ answer[\\'nullspace_PLU\\'][index][2] - inputs[\\'nullspace_cases\\'][index][\\'A\\']).sum())\\n'"
                        ]
                    },
                    "execution_count": 145,
                    "metadata": {},
                    "output_type": "execute_result"
                }
            ],
            "source": [
                "\"\"\"\n",
                "answer['simple_PLU'] = [\n",
                "    find_plu(input['A'], pivoting=False) for input in inputs['simple_cases']\n",
                "]\n",
                "\n",
                "answer['pivoting_PLU'] = [\n",
                "    find_plu(input['A'], pivoting=True) for input in inputs['pivoting_cases']\n",
                "]\n",
                "\n",
                "answer['nullspace_PLU'] = [\n",
                "    find_plu(input['A'], pivoting=True) for input in inputs['nullspace_cases']\n",
                "]\n",
                "\n",
                "\n",
                "# This should be close to zero\n",
                "print(\"=== SIMPLE CASES ===\")\n",
                "for index in range(len(inputs['simple_cases'])):\n",
                "    print(np.abs(answer['simple_PLU'][index][0] @ answer['simple_PLU'][index][1] @ answer['simple_PLU'][index][2] - inputs['simple_cases'][index]['A']).sum())\n",
                "\n",
                "print(\"=== PIVOTING CASES ===\")\n",
                "for index in range(len(inputs['pivoting_cases'])):\n",
                "    print(np.abs(answer['pivoting_PLU'][index][0] @ answer['pivoting_PLU'][index][1] @ answer['pivoting_PLU'][index][2] - inputs['pivoting_cases'][index]['A']).sum())\n",
                "\n",
                "print(\"=== NULLSPACE CASES ===\")\n",
                "for index in range(len(inputs['nullspace_cases'])):\n",
                "    print(np.abs(answer['nullspace_PLU'][index][0] @ answer['nullspace_PLU'][index][1] @ answer['nullspace_PLU'][index][2] - inputs['nullspace_cases'][index]['A']).sum())\n",
                "\"\"\""
            ]
        },
        {
            "cell_type": "markdown",
            "metadata": {},
            "source": [
                "# Finding NullSpace"
            ]
        },
        {
            "cell_type": "markdown",
            "metadata": {},
            "source": [
                "Now find null-space of the matrix using Gauss Elimination. To do so, analyze the matrix $U$ that appears after Gauss Elimination. Observing this matrix\n",
                "it is easy to write out the vectors of Null Space.\n",
                "\n",
                "Note that variable `eps` stands for tolerance. If a value deviates from 0 more than on `eps`, we consider it to be different from `0`."
            ]
        },
        {
            "cell_type": "code",
            "execution_count": 146,
            "metadata": {},
            "outputs": [],
            "source": [
                "def find_null_space(A, pivoting=True, eps=1e-12):\n",
                "    \"\"\"\n",
                "    Return an (n x k) matrix whose columns span Null(A), i.e. { x : A x = 0 }.\n",
                "    \"\"\"\n",
                "    A = A.astype(float)\n",
                "\n",
                "    # Step 1: Reduce A to row echelon form (U) using gauss_elimination\n",
                "    _, U, _ = gauss_elimination(A, np.zeros((A.shape[0], 1)), pivoting=pivoting)\n",
                "    n_rows, n_cols = U.shape\n",
                "\n",
                "    # Step 2: Find pivot columns and free variables\n",
                "    pivots = []\n",
                "    for i in range(n_rows):\n",
                "        row = U[i]\n",
                "        nz = np.where(np.abs(row) > eps)[0]\n",
                "        if len(nz) > 0:\n",
                "            pivots.append(nz[0])\n",
                "    pivots = np.array(pivots)\n",
                "    all_cols = np.arange(n_cols)\n",
                "    free_vars = np.setdiff1d(all_cols, pivots)\n",
                "\n",
                "    # Step 3: For each free variable, construct a nullspace vector\n",
                "    nullspace = []\n",
                "    for free in free_vars:\n",
                "        z = np.zeros(n_cols)\n",
                "        z[free] = 1\n",
                "        # Back-substitute for pivot variables\n",
                "        for i in reversed(range(len(pivots))):\n",
                "            col = pivots[i]\n",
                "            # Only consider columns after the pivot\n",
                "            z[col] = -np.dot(U[i, free_vars], z[free_vars])\n",
                "        nullspace.append(z)\n",
                "    if nullspace:\n",
                "        Z = np.stack(nullspace, axis=1)\n",
                "    else:\n",
                "        Z = np.zeros((n_cols, 0))\n",
                "    return Z"
            ]
        },
        {
            "cell_type": "code",
            "execution_count": 147,
            "metadata": {},
            "outputs": [
                {
                    "name": "stdout",
                    "output_type": "stream",
                    "text": [
                        "No nullspace_cases found in inputs.\n"
                    ]
                }
            ],
            "source": [
                "if 'nullspace_cases' in inputs and len(inputs['nullspace_cases']) > 0:\n",
                "    answer['nullspace'] = [\n",
                "        find_null_space(input['A'], pivoting=True) for input in inputs['nullspace_cases']\n",
                "    ]\n",
                "\n",
                "    for index in range(len(answer['nullspace'])):\n",
                "        print(inputs['nullspace_cases'][index]['A'] @ answer['nullspace'][index])\n",
                "else:\n",
                "    print(\"No nullspace_cases found in inputs.\")"
            ]
        },
        {
            "cell_type": "markdown",
            "metadata": {},
            "source": [
                "# QR decomposition\n",
                "\n",
                "Now again we will consider matrix $A^T$ in context of SLE:\n",
                "\n",
                "$A^T \\mathbf x = I \\mathbf b$\n",
                "\n",
                "Out of matrix $A$ we can make an orthonormal matrix $Q$ by orthonoramlizing the rows, this process will turn the $I$ matrix on the right to lower-triangular matrix $L^*$:\n",
                "\n",
                "$A^T \\mathbf x = I \\mathbf b \\rightarrow Q^T \\mathbf x = L^* \\mathbf b$\n",
                "\n",
                "After that we should invert matrix $L^*$ and we will get:\n",
                "\n",
                "$I Q^T \\mathbf x = L^* \\mathbf b \\rightarrow L Q^T \\mathbf x = \\mathbf b$\n",
                "\n",
                "If we transpose that matrix, we will get  QR decomposition of matrix $A$:\n",
                "\n",
                "$A = Q R,$\n",
                "\n",
                "where $R$ is upper-triangular matrix.\n",
                "\n",
                "The task is to:\n",
                "1. Implement Gramm-Schmidt orthonormalization procedure\n",
                "2. Combining Gramm-Schmidt algorithm and Gaussian Algorithm, implement QR decomposition"
            ]
        },
        {
            "cell_type": "markdown",
            "metadata": {},
            "source": [
                "# Task 5: Gramm-Schmidt Algorithm for Matrices\n",
                "\n",
                "Implement Gramm-Schmidt process for **rows** of matrix $A$ (and do the same transforms to matrix $B$)"
            ]
        },
        {
            "cell_type": "code",
            "execution_count": 148,
            "metadata": {},
            "outputs": [],
            "source": [
                "def gramm_schmidt(A, B):\n",
                "    A = A.copy().astype(float)\n",
                "    B = B.copy().astype(float)\n",
                "    # Gramm-Schmidt orthonormalization of rows\n",
                "    n = A.shape[0]\n",
                "    for i in range(n):\n",
                "        for j in range(i):\n",
                "            # Project row i onto row j\n",
                "            proj = np.dot(A[i, :], A[j, :]) * A[j, :]\n",
                "            proj_B = np.dot(A[i, :], A[j, :]) * B[j, :]\n",
                "            A[i, :] -= proj\n",
                "            B[i, :] -= proj_B\n",
                "        norm = np.linalg.norm(A[i, :])\n",
                "        if norm > 1e-12:\n",
                "            A[i, :] /= norm\n",
                "            B[i, :] /= norm\n",
                "        else:\n",
                "            # If the row is zero, leave as is (for nullspace cases)\n",
                "            pass\n",
                "    return A, B"
            ]
        },
        {
            "cell_type": "code",
            "execution_count": 149,
            "metadata": {},
            "outputs": [
                {
                    "name": "stdout",
                    "output_type": "stream",
                    "text": [
                        "No simple_cases found in inputs.\n"
                    ]
                }
            ],
            "source": [
                "if 'simple_cases' in inputs:\n",
                "    answer['gramm_schmidt_simple_cases'] = [\n",
                "        gramm_schmidt(input['A'], np.eye(input['A'].shape[0])) for input in inputs['simple_cases']\n",
                "    ]\n",
                "\n",
                "if 'pivoting_cases' in inputs:\n",
                "    answer['gramm_schmidt_pivoting_cases'] = [\n",
                "        gramm_schmidt(input['A'], np.eye(input['A'].shape[0])) for input in inputs['pivoting_cases']\n",
                "    ]\n",
                "\n",
                "# if 'nullspace_cases' in inputs:\n",
                "#     answer['gramm_schmidt_nullspace_cases'] = [\n",
                "#         gramm_schmidt(input['A'], np.eye(input['A'].shape[0])) for input in inputs['nullspace_cases']\n",
                "#     ]\n",
                "\n",
                "if 'simple_cases' in inputs and len(inputs['simple_cases']) > 0:\n",
                "    print(\"===== Should be close to 1s: =====\")\n",
                "    print((answer['gramm_schmidt_simple_cases'][0][0] ** 2).sum(axis=1))\n",
                "    print()\n",
                "    print(\"===== Should be close to L: =====\")\n",
                "    print(answer['gramm_schmidt_simple_cases'][0][1])\n",
                "else:\n",
                "    print(\"No simple_cases found in inputs.\")"
            ]
        },
        {
            "cell_type": "markdown",
            "metadata": {},
            "source": [
                "# Task 6: QR decomposition"
            ]
        },
        {
            "cell_type": "markdown",
            "metadata": {},
            "source": [
                "Implement QR decomposition algorithm. Note that we work on rows on matrix $A$ with our Gauss and Gramm-Schmidt algorithms, but QR decomposition is defined for column matrix "
            ]
        },
        {
            "cell_type": "code",
            "execution_count": 150,
            "metadata": {},
            "outputs": [],
            "source": [
                "def find_qr(A):\n",
                "    B = np.eye(A.T.shape[0])\n",
                "    # Gramm-Schmidt orthonormalization of rows of A^T\n",
                "    QT, L1 = gramm_schmidt(A.T, B)\n",
                "    # L1 is lower-triangular, but we want R upper-triangular for QR\n",
                "    # So, solve L1 @ X = I for X (i.e., X = L1^{-1})\n",
                "    _, _, LT = gauss_elimination(L1, np.eye(L1.shape[0]))\n",
                "    Q = QT.T\n",
                "    R = (LT.T @ A)\n",
                "    return Q, R"
            ]
        },
        {
            "cell_type": "code",
            "execution_count": 151,
            "metadata": {},
            "outputs": [
                {
                    "name": "stdout",
                    "output_type": "stream",
                    "text": [
                        "No simple_cases found in inputs.\n"
                    ]
                }
            ],
            "source": [
                "if 'simple_cases' in inputs and len(inputs['simple_cases']) > 0:\n",
                "    answer['QR_simple_cases'] = [\n",
                "        find_qr(input['A']) for input in inputs['simple_cases']\n",
                "    ]\n",
                "\n",
                "    print(\"===== Should be close to O: =====\")\n",
                "    print(answer['QR_simple_cases'][0][0] @ answer['QR_simple_cases'][0][1] - inputs['simple_cases'][0]['A'])\n",
                "else:\n",
                "    print(\"No simple_cases found in inputs.\")"
            ]
        },
        {
            "cell_type": "code",
            "execution_count": 152,
            "metadata": {},
            "outputs": [
                {
                    "data": {
                        "text/plain": [
                            "'{}'"
                        ]
                    },
                    "execution_count": 152,
                    "metadata": {},
                    "output_type": "execute_result"
                }
            ],
            "source": [
                "json_tricks.dump(answer, '.answer.json')"
            ]
        }
    ],
    "metadata": {
        "kernelspec": {
            "display_name": "Python 3",
            "language": "python",
            "name": "python3"
        },
        "language_info": {
            "codemirror_mode": {
                "name": "ipython",
                "version": 3
            },
            "file_extension": ".py",
            "mimetype": "text/x-python",
            "name": "python",
            "nbconvert_exporter": "python",
            "pygments_lexer": "ipython3",
            "version": "3.11.13"
        }
    },
    "nbformat": 4,
    "nbformat_minor": 2
}
